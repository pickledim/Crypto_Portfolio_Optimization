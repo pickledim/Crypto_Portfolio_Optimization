{
 "cells": [
  {
   "cell_type": "markdown",
   "metadata": {},
   "source": [
    "# Crypto Portfolio \n",
    "\n",
    "## Introduction\n",
    "\n",
    "The idea behind this project is to find an efficient way to trace the crypto market and buy the best performing tokens. The algorithm scrapes data from coinmarketcap and performs a convex optimization in order to find the best performing tokens.\n",
    "\n",
    "### Import the crypto class"
   ]
  },
  {
   "cell_type": "code",
   "execution_count": 1,
   "metadata": {},
   "outputs": [],
   "source": [
    "import sys\n",
    "sys.path.append(\"../\")\n",
    "from src import cryptorama as cc\n",
    "from coincost_scrapping import top_coins"
   ]
  },
  {
   "cell_type": "markdown",
   "metadata": {},
   "source": [
    "### Inputs\n",
    "\n",
    "- top_100: Boolean, If you want the top 100 tokens by market cap\n",
    "- n_days: For validation purposes --> checks the profit of the suggested results from n_days before\n",
    "- mu_method: mean-->'mean' annualised mean (daily) historical return from input (daily) token prices\n",
    "   - choices: [mean, exp, capm]\n",
    "- cov_method: sample --> annualised sample covariance matrix of (daily) token returns\n",
    "   - choices: [sample, exp]\n",
    "- obj_function: the objective function of the base convex Optimization\n",
    "   - choices: [sharpe, quadratic, min_volat]\n",
    "- drop: boolean decide if you want to drop the nan values of the mean values\n",
    "- budget: You investment budget\n",
    "- hodl: If you want to hold yout tokens or trade them after 1 year\n",
    "\n"
   ]
  },
  {
   "cell_type": "code",
   "execution_count": 2,
   "metadata": {},
   "outputs": [],
   "source": [
    "# Inputs\n",
    "top_100 = True\n",
    "drop = False\n",
    "hodl = True\n",
    "\n",
    "n_days = 365 \n",
    "budget = 100\n",
    "\n",
    "mu_method = 'mean'\n",
    "cov_method = 'exp'\n",
    "obj_function = 'quadratic'\n"
   ]
  },
  {
   "cell_type": "code",
   "execution_count": 3,
   "metadata": {},
   "outputs": [
    {
     "name": "stdout",
     "output_type": "stream",
     "text": [
      "{'status': {'timestamp': '2023-07-29T09:52:39.698Z', 'error_code': 0, 'error_message': None, 'elapsed': 25, 'credit_count': 1, 'notice': None, 'total_count': 9937}, 'data': [{'id': 1, 'name': 'Bitcoin', 'symbol': 'BTC', 'slug': 'bitcoin', 'num_market_pairs': 10377, 'date_added': '2010-07-13T00:00:00.000Z', 'tags': ['mineable', 'pow', 'sha-256', 'store-of-value', 'state-channel', 'coinbase-ventures-portfolio', 'three-arrows-capital-portfolio', 'polychain-capital-portfolio', 'binance-labs-portfolio', 'blockchain-capital-portfolio', 'boostvc-portfolio', 'cms-holdings-portfolio', 'dcg-portfolio', 'dragonfly-capital-portfolio', 'electric-capital-portfolio', 'fabric-ventures-portfolio', 'framework-ventures-portfolio', 'galaxy-digital-portfolio', 'huobi-capital-portfolio', 'alameda-research-portfolio', 'a16z-portfolio', '1confirmation-portfolio', 'winklevoss-capital-portfolio', 'usv-portfolio', 'placeholder-ventures-portfolio', 'pantera-capital-portfolio', 'multicoin-capital-portfolio', 'paradigm-portfolio', 'bitcoin-ecosystem'], 'max_supply': 21000000, 'circulating_supply': 19442156, 'total_supply': 19442156, 'infinite_supply': False, 'platform': None, 'cmc_rank': 1, 'self_reported_circulating_supply': None, 'self_reported_market_cap': None, 'tvl_ratio': None, 'last_updated': '2023-07-29T09:51:00.000Z', 'quote': {'USD': {'price': 29278.85242631632, 'volume_24h': 9763294054.376543, 'volume_change_24h': -12.3473, 'percent_change_1h': -0.10326983, 'percent_change_24h': 0.32259872, 'percent_change_7d': -2.22313537, 'percent_change_30d': -3.85194428, 'percent_change_60d': 5.01869299, 'percent_change_90d': 0.04913084, 'market_cap': 569244016373.4204, 'market_cap_dominance': 48.1214, 'fully_diluted_market_cap': 614855900952.64, 'tvl': None, 'last_updated': '2023-07-29T09:51:00.000Z'}}}, {'id': 1027, 'name': 'Ethereum', 'symbol': 'ETH', 'slug': 'ethereum', 'num_market_pairs': 7191, 'date_added': '2015-08-07T00:00:00.000Z', 'tags': ['pos', 'smart-contracts', 'ethereum-ecosystem', 'coinbase-ventures-portfolio', 'three-arrows-capital-portfolio', 'polychain-capital-portfolio', 'binance-labs-portfolio', 'blockchain-capital-portfolio', 'boostvc-portfolio', 'cms-holdings-portfolio', 'dcg-portfolio', 'dragonfly-capital-portfolio', 'electric-capital-portfolio', 'fabric-ventures-portfolio', 'framework-ventures-portfolio', 'hashkey-capital-portfolio', 'kenetic-capital-portfolio', 'huobi-capital-portfolio', 'alameda-research-portfolio', 'a16z-portfolio', '1confirmation-portfolio', 'winklevoss-capital-portfolio', 'usv-portfolio', 'placeholder-ventures-portfolio', 'pantera-capital-portfolio', 'multicoin-capital-portfolio', 'paradigm-portfolio', 'injective-ecosystem', 'layer-1'], 'max_supply': None, 'circulating_supply': 120876277.0925075, 'total_supply': 120876277.0925075, 'infinite_supply': True, 'platform': None, 'cmc_rank': 2, 'self_reported_circulating_supply': None, 'self_reported_market_cap': None, 'tvl_ratio': None, 'last_updated': '2023-07-29T09:51:00.000Z', 'quote': {'USD': {'price': 1870.6750763156097, 'volume_24h': 3360593814.7523365, 'volume_change_24h': -15.272, 'percent_change_1h': -0.0742229, 'percent_change_24h': 0.23211576, 'percent_change_7d': -1.17316531, 'percent_change_30d': 0.7205019, 'percent_change_60d': -1.96455442, 'percent_change_90d': -1.77565164, 'market_cap': 226120238874.77325, 'market_cap_dominance': 19.1129, 'fully_diluted_market_cap': 226120238874.77, 'tvl': None, 'last_updated': '2023-07-29T09:51:00.000Z'}}}, {'id': 825, 'name': 'Tether USDt', 'symbol': 'USDT', 'slug': 'tether', 'num_market_pairs': 58013, 'date_added': '2015-02-25T00:00:00.000Z', 'tags': ['payments', 'stablecoin', 'asset-backed-stablecoin', 'avalanche-ecosystem', 'solana-ecosystem', 'arbitrum-ecosytem', 'moonriver-ecosystem', 'injective-ecosystem', 'bnb-chain', 'usd-stablecoin', 'optimism-ecosystem'], 'max_supply': None, 'circulating_supply': 83824685312.34805, 'total_supply': 86706257841.39186, 'platform': {'id': 1027, 'name': 'Ethereum', 'symbol': 'ETH', 'slug': 'ethereum', 'token_address': '0xdac17f958d2ee523a2206206994597c13d831ec7'}, 'infinite_supply': True, 'cmc_rank': 3, 'self_reported_circulating_supply': None, 'self_reported_market_cap': None, 'tvl_ratio': None, 'last_updated': '2023-07-29T09:51:00.000Z', 'quote': {'USD': {'price': 1.0002386997804678, 'volume_24h': 15124115195.603512, 'volume_change_24h': -16.3595, 'percent_change_1h': -0.02691685, 'percent_change_24h': 0.05645342, 'percent_change_7d': 0.00869554, 'percent_change_30d': 0.02896196, 'percent_change_60d': -0.00861177, 'percent_change_90d': -0.0034201, 'market_cap': 83844694246.3299, 'market_cap_dominance': 7.0873, 'fully_diluted_market_cap': 86726954606.1, 'tvl': None, 'last_updated': '2023-07-29T09:51:00.000Z'}}}, {'id': 52, 'name': 'XRP', 'symbol': 'XRP', 'slug': 'xrp', 'num_market_pairs': 1014, 'date_added': '2013-08-04T00:00:00.000Z', 'tags': ['medium-of-exchange', 'enterprise-solutions', 'arrington-xrp-capital-portfolio', 'galaxy-digital-portfolio', 'a16z-portfolio', 'pantera-capital-portfolio'], 'max_supply': 100000000000, 'circulating_supply': 52693851493, 'total_supply': 99988556423, 'infinite_supply': False, 'platform': None, 'cmc_rank': 4, 'self_reported_circulating_supply': None, 'self_reported_market_cap': None, 'tvl_ratio': None, 'last_updated': '2023-07-29T09:51:00.000Z', 'quote': {'USD': {'price': 0.7077635656288028, 'volume_24h': 845938409.9454336, 'volume_change_24h': -42.7692, 'percent_change_1h': -0.55700369, 'percent_change_24h': -0.41779267, 'percent_change_7d': -8.80436424, 'percent_change_30d': 51.03365269, 'percent_change_60d': 41.54084131, 'percent_change_90d': 48.4643308, 'market_cap': 37294788219.4003, 'market_cap_dominance': 3.1528, 'fully_diluted_market_cap': 70776356562.88, 'tvl': None, 'last_updated': '2023-07-29T09:51:00.000Z'}}}, {'id': 1839, 'name': 'BNB', 'symbol': 'BNB', 'slug': 'bnb', 'num_market_pairs': 1545, 'date_added': '2017-07-25T00:00:00.000Z', 'tags': ['marketplace', 'centralized-exchange', 'payments', 'smart-contracts', 'alameda-research-portfolio', 'multicoin-capital-portfolio', 'bnb-chain', 'layer-1', 'sec-security-token', 'alleged-sec-securities', 'celsius-bankruptcy-estate'], 'max_supply': None, 'circulating_supply': 153855648.7641996, 'total_supply': 153855648.7641996, 'infinite_supply': False, 'platform': None, 'cmc_rank': 5, 'self_reported_circulating_supply': None, 'self_reported_market_cap': None, 'tvl_ratio': None, 'last_updated': '2023-07-29T09:51:00.000Z', 'quote': {'USD': {'price': 241.38590819652816, 'volume_24h': 339823488.85578084, 'volume_change_24h': -13.3887, 'percent_change_1h': -0.09456035, 'percent_change_24h': -0.08043477, 'percent_change_7d': -0.99513689, 'percent_change_30d': 3.22571867, 'percent_change_60d': -22.96274819, 'percent_change_90d': -25.11588569, 'market_cap': 37138585508.11237, 'market_cap_dominance': 3.1396, 'fully_diluted_market_cap': 37138585508.11, 'tvl': None, 'last_updated': '2023-07-29T09:51:00.000Z'}}}, {'id': 3408, 'name': 'USD Coin', 'symbol': 'USDC', 'slug': 'usd-coin', 'num_market_pairs': 13473, 'date_added': '2018-10-08T00:00:00.000Z', 'tags': ['medium-of-exchange', 'stablecoin', 'asset-backed-stablecoin', 'hedera-hashgraph-ecosystem', 'fantom-ecosystem', 'arbitrum-ecosytem', 'moonriver-ecosystem', 'bnb-chain', 'usd-stablecoin', 'optimism-ecosystem'], 'max_supply': None, 'circulating_supply': 26549575906.540615, 'total_supply': 26549575906.540615, 'platform': {'id': 1027, 'name': 'Ethereum', 'symbol': 'ETH', 'slug': 'ethereum', 'token_address': '0xa0b86991c6218b36c1d19d4a2e9eb0ce3606eb48'}, 'infinite_supply': False, 'cmc_rank': 6, 'self_reported_circulating_supply': None, 'self_reported_market_cap': None, 'tvl_ratio': None, 'last_updated': '2023-07-29T09:51:00.000Z', 'quote': {'USD': {'price': 1.000280649527173, 'volume_24h': 2039877892.2300124, 'volume_change_24h': -24.949, 'percent_change_1h': -0.01978443, 'percent_change_24h': 0.03017957, 'percent_change_7d': 0.02622648, 'percent_change_30d': 0.01802758, 'percent_change_60d': 0.03389983, 'percent_change_90d': 0.06209607, 'market_cap': 26557027032.465427, 'market_cap_dominance': 2.245, 'fully_diluted_market_cap': 26557027032.47, 'tvl': None, 'last_updated': '2023-07-29T09:51:00.000Z'}}}, {'id': 74, 'name': 'Dogecoin', 'symbol': 'DOGE', 'slug': 'dogecoin', 'num_market_pairs': 757, 'date_added': '2013-12-15T00:00:00.000Z', 'tags': ['mineable', 'pow', 'scrypt', 'medium-of-exchange', 'memes', 'payments', 'doggone-doggerel', 'bnb-chain'], 'max_supply': None, 'circulating_supply': 140368926383.70526, 'total_supply': 140368926383.70526, 'infinite_supply': True, 'platform': None, 'cmc_rank': 7, 'self_reported_circulating_supply': None, 'self_reported_market_cap': None, 'tvl_ratio': None, 'last_updated': '2023-07-29T09:51:00.000Z', 'quote': {'USD': {'price': 0.07753449821496304, 'volume_24h': 330220404.1085208, 'volume_change_24h': -29.252, 'percent_change_1h': -0.19136694, 'percent_change_24h': 1.34157598, 'percent_change_7d': 7.06271651, 'percent_change_30d': 22.64651085, 'percent_change_60d': 6.41344759, 'percent_change_90d': -4.5165799, 'market_cap': 10883434272.133675, 'market_cap_dominance': 0.92, 'fully_diluted_market_cap': 10883434272.13, 'tvl': None, 'last_updated': '2023-07-29T09:51:00.000Z'}}}, {'id': 2010, 'name': 'Cardano', 'symbol': 'ADA', 'slug': 'cardano', 'num_market_pairs': 884, 'date_added': '2017-10-01T00:00:00.000Z', 'tags': ['dpos', 'pos', 'platform', 'research', 'smart-contracts', 'staking', 'cardano-ecosystem', 'cardano', 'layer-1', 'sec-security-token', 'alleged-sec-securities'], 'max_supply': 45000000000, 'circulating_supply': 35007343322.695, 'total_supply': 36014721873.36, 'infinite_supply': False, 'platform': None, 'cmc_rank': 8, 'self_reported_circulating_supply': None, 'self_reported_market_cap': None, 'tvl_ratio': None, 'last_updated': '2023-07-29T09:51:00.000Z', 'quote': {'USD': {'price': 0.3101748511394712, 'volume_24h': 155269569.13576552, 'volume_change_24h': -0.2952, 'percent_change_1h': -0.16385361, 'percent_change_24h': 0.12268514, 'percent_change_7d': -0.91295978, 'percent_change_30d': 12.70881671, 'percent_change_60d': -18.6364336, 'percent_change_90d': -22.63858673, 'market_cap': 10858397503.905283, 'market_cap_dominance': 0.9178, 'fully_diluted_market_cap': 13957868301.28, 'tvl': None, 'last_updated': '2023-07-29T09:51:00.000Z'}}}, {'id': 5426, 'name': 'Solana', 'symbol': 'SOL', 'slug': 'solana', 'num_market_pairs': 494, 'date_added': '2020-04-10T00:00:00.000Z', 'tags': ['pos', 'platform', 'solana-ecosystem', 'cms-holdings-portfolio', 'kenetic-capital-portfolio', 'alameda-research-portfolio', 'multicoin-capital-portfolio', 'okex-blockdream-ventures-portfolio', 'layer-1', 'ftx-bankruptcy-estate', 'sec-security-token', 'alleged-sec-securities'], 'max_supply': None, 'circulating_supply': 404244730.5085274, 'total_supply': 553511076.393169, 'infinite_supply': True, 'platform': None, 'cmc_rank': 9, 'self_reported_circulating_supply': None, 'self_reported_market_cap': None, 'tvl_ratio': None, 'last_updated': '2023-07-29T09:51:00.000Z', 'quote': {'USD': {'price': 25.093400705282814, 'volume_24h': 352396231.77234346, 'volume_change_24h': -19.2137, 'percent_change_1h': 0.07691302, 'percent_change_24h': 1.66893765, 'percent_change_7d': -2.77514468, 'percent_change_30d': 46.58300629, 'percent_change_60d': 19.56980261, 'percent_change_90d': 6.47840723, 'market_cap': 10143875005.649542, 'market_cap_dominance': 0.8575, 'fully_diluted_market_cap': 13889475234.75, 'tvl': None, 'last_updated': '2023-07-29T09:51:00.000Z'}}}, {'id': 1958, 'name': 'TRON', 'symbol': 'TRX', 'slug': 'tron', 'num_market_pairs': 800, 'date_added': '2017-09-13T00:00:00.000Z', 'tags': ['media', 'payments', 'tron-ecosystem', 'sec-security-token', 'alleged-sec-securities'], 'max_supply': None, 'circulating_supply': 89637086038.49422, 'total_supply': 89637123519.3889, 'infinite_supply': True, 'platform': None, 'cmc_rank': 10, 'self_reported_circulating_supply': 71659659264, 'self_reported_market_cap': 5997338488.408639, 'tvl_ratio': None, 'last_updated': '2023-07-29T09:51:00.000Z', 'quote': {'USD': {'price': 0.08369197607141778, 'volume_24h': 209498526.01092407, 'volume_change_24h': 2.2406, 'percent_change_1h': -0.27076978, 'percent_change_24h': 0.18815056, 'percent_change_7d': -3.96421575, 'percent_change_30d': 12.26187324, 'percent_change_60d': 9.49064658, 'percent_change_90d': 23.60089595, 'market_cap': 7501904859.845274, 'market_cap_dominance': 0.6342, 'fully_diluted_market_cap': 7501907996.7, 'tvl': None, 'last_updated': '2023-07-29T09:51:00.000Z'}}}, {'id': 2, 'name': 'Litecoin', 'symbol': 'LTC', 'slug': 'litecoin', 'num_market_pairs': 961, 'date_added': '2013-04-28T00:00:00.000Z', 'tags': ['mineable', 'pow', 'scrypt', 'medium-of-exchange'], 'max_supply': 84000000, 'circulating_supply': 73465314.22743528, 'total_supply': 84000000, 'infinite_supply': False, 'platform': None, 'cmc_rank': 11, 'self_reported_circulating_supply': None, 'self_reported_market_cap': None, 'tvl_ratio': None, 'last_updated': '2023-07-29T09:51:00.000Z', 'quote': {'USD': {'price': 91.05379231114182, 'volume_24h': 289040499.4969057, 'volume_change_24h': -19.7882, 'percent_change_1h': -0.00720063, 'percent_change_24h': -0.28356606, 'percent_change_7d': -3.62908354, 'percent_change_30d': 8.04381404, 'percent_change_60d': -1.03691941, 'percent_change_90d': 0.41542051, 'market_cap': 6689295463.737664, 'market_cap_dominance': 0.5655, 'fully_diluted_market_cap': 7648518554.14, 'tvl': None, 'last_updated': '2023-07-29T09:51:00.000Z'}}}, {'id': 3890, 'name': 'Polygon', 'symbol': 'MATIC', 'slug': 'polygon', 'num_market_pairs': 787, 'date_added': '2019-04-28T00:00:00.000Z', 'tags': ['pos', 'platform', 'enterprise-solutions', 'zero-knowledge-proofs', 'scaling', 'state-channel', 'coinbase-ventures-portfolio', 'layer-2', 'binance-launchpad', 'binance-labs-portfolio', 'polygon-ecosystem', 'moonriver-ecosystem', 'injective-ecosystem', 'sec-security-token', 'alleged-sec-securities'], 'max_supply': 10000000000, 'circulating_supply': 9319469069.28493, 'total_supply': 10000000000, 'infinite_supply': False, 'platform': None, 'cmc_rank': 12, 'self_reported_circulating_supply': None, 'self_reported_market_cap': None, 'tvl_ratio': None, 'last_updated': '2023-07-29T09:51:00.000Z', 'quote': {'USD': {'price': 0.7104935733469024, 'volume_24h': 200258669.45321423, 'volume_change_24h': -14.7704, 'percent_change_1h': -0.05988507, 'percent_change_24h': 0.19902647, 'percent_change_7d': -8.27065193, 'percent_change_30d': 13.1301443, 'percent_change_60d': -22.00120468, 'percent_change_90d': -28.96949806, 'market_cap': 6621422880.732181, 'market_cap_dominance': 0.5597, 'fully_diluted_market_cap': 7104935733.47, 'tvl': None, 'last_updated': '2023-07-29T09:51:00.000Z'}}}, {'id': 6636, 'name': 'Polkadot', 'symbol': 'DOT', 'slug': 'polkadot-new', 'num_market_pairs': 543, 'date_added': '2020-08-19T00:00:00.000Z', 'tags': ['substrate', 'polkadot', 'binance-chain', 'polkadot-ecosystem', 'three-arrows-capital-portfolio', 'polychain-capital-portfolio', 'arrington-xrp-capital-portfolio', 'blockchain-capital-portfolio', 'boostvc-portfolio', 'cms-holdings-portfolio', 'coinfund-portfolio', 'fabric-ventures-portfolio', 'fenbushi-capital-portfolio', 'hashkey-capital-portfolio', 'kenetic-capital-portfolio', '1confirmation-portfolio', 'placeholder-ventures-portfolio', 'pantera-capital-portfolio', 'exnetwork-capital-portfolio', 'web3', 'spartan-group', 'injective-ecosystem', 'bnb-chain', 'layer-1'], 'max_supply': None, 'circulating_supply': 1218525083.613625, 'total_supply': 1339103960.9188051, 'infinite_supply': True, 'platform': None, 'cmc_rank': 13, 'self_reported_circulating_supply': None, 'self_reported_market_cap': None, 'tvl_ratio': None, 'last_updated': '2023-07-29T09:51:00.000Z', 'quote': {'USD': {'price': 5.235215426045553, 'volume_24h': 81550032.77718751, 'volume_change_24h': -15.2549, 'percent_change_1h': 0.01723079, 'percent_change_24h': 0.04577608, 'percent_change_7d': -3.38413775, 'percent_change_30d': 5.72592347, 'percent_change_60d': -4.77970699, 'percent_change_90d': -13.71474126, 'market_cap': 6379241314.757497, 'market_cap_dominance': 0.5392, 'fully_diluted_market_cap': 7010497713.28, 'tvl': None, 'last_updated': '2023-07-29T09:51:00.000Z'}}}, {'id': 5994, 'name': 'Shiba Inu', 'symbol': 'SHIB', 'slug': 'shiba-inu', 'num_market_pairs': 576, 'date_added': '2020-08-01T00:00:00.000Z', 'tags': ['memes', 'ethereum-ecosystem', 'doggone-doggerel'], 'max_supply': None, 'circulating_supply': 589346914631298.1, 'total_supply': 589589040239379.6, 'platform': {'id': 1027, 'name': 'Ethereum', 'symbol': 'ETH', 'slug': 'ethereum', 'token_address': '0x95ad61b0a150d79219dcf64e1e6cc01f0b64c4ce'}, 'infinite_supply': False, 'cmc_rank': 14, 'self_reported_circulating_supply': None, 'self_reported_market_cap': None, 'tvl_ratio': None, 'last_updated': '2023-07-29T09:51:00.000Z', 'quote': {'USD': {'price': 8.168589448938853e-06, 'volume_24h': 234799299.94772384, 'volume_change_24h': 300.6974, 'percent_change_1h': -0.25339798, 'percent_change_24h': 4.60047807, 'percent_change_7d': 3.98905182, 'percent_change_30d': 11.69884229, 'percent_change_60d': -6.42429346, 'percent_change_90d': -20.3659048, 'market_cap': 4814132988.621889, 'market_cap_dominance': 0.4069, 'fully_diluted_market_cap': 4816110813.31, 'tvl': None, 'last_updated': '2023-07-29T09:51:00.000Z'}}}, {'id': 3717, 'name': 'Wrapped Bitcoin', 'symbol': 'WBTC', 'slug': 'wrapped-bitcoin', 'num_market_pairs': 1305, 'date_added': '2019-01-30T00:00:00.000Z', 'tags': ['medium-of-exchange', 'defi', 'wrapped-tokens', 'fantom-ecosystem', 'arbitrum-ecosytem', 'moonriver-ecosystem', 'optimism-ecosystem', 'bitcoin-ecosystem'], 'max_supply': None, 'circulating_supply': 161560.66774019, 'total_supply': 161560.66774019, 'platform': {'id': 1027, 'name': 'Ethereum', 'symbol': 'ETH', 'slug': 'ethereum', 'token_address': '0x2260fac5e5542a773aa44fbcfedf7c193bc2c599'}, 'infinite_supply': False, 'cmc_rank': 15, 'self_reported_circulating_supply': None, 'self_reported_market_cap': None, 'tvl_ratio': None, 'last_updated': '2023-07-29T09:51:00.000Z', 'quote': {'USD': {'price': 29305.934136706735, 'volume_24h': 108052155.63065507, 'volume_change_24h': -8.1175, 'percent_change_1h': -0.03881395, 'percent_change_24h': 0.4425961, 'percent_change_7d': -2.09448057, 'percent_change_30d': -3.65374097, 'percent_change_60d': 5.05319763, 'percent_change_90d': 0.15282422, 'market_cap': 4734686287.8763685, 'market_cap_dominance': 0.4002, 'fully_diluted_market_cap': 4734686287.88, 'tvl': None, 'last_updated': '2023-07-29T09:51:00.000Z'}}}, {'id': 1831, 'name': 'Bitcoin Cash', 'symbol': 'BCH', 'slug': 'bitcoin-cash', 'num_market_pairs': 738, 'date_added': '2017-07-23T00:00:00.000Z', 'tags': ['mineable', 'pow', 'sha-256', 'marketplace', 'medium-of-exchange', 'store-of-value', 'enterprise-solutions', 'payments', 'bitcoin-ecosystem', 'layer-1'], 'max_supply': 21000000, 'circulating_supply': 19461537.5, 'total_supply': 19461537.5, 'infinite_supply': False, 'platform': None, 'cmc_rank': 16, 'self_reported_circulating_supply': None, 'self_reported_market_cap': None, 'tvl_ratio': None, 'last_updated': '2023-07-29T09:51:00.000Z', 'quote': {'USD': {'price': 239.59597154483163, 'volume_24h': 137604955.5852201, 'volume_change_24h': -17.5576, 'percent_change_1h': -0.07590949, 'percent_change_24h': -1.45962315, 'percent_change_7d': -2.55157155, 'percent_change_30d': 4.25494977, 'percent_change_60d': 107.91264452, 'percent_change_90d': 100.72650882, 'market_cap': 4662905985.068674, 'market_cap_dominance': 0.3941, 'fully_diluted_market_cap': 5031515402.44, 'tvl': None, 'last_updated': '2023-07-29T09:51:00.000Z'}}}, {'id': 5805, 'name': 'Avalanche', 'symbol': 'AVAX', 'slug': 'avalanche', 'num_market_pairs': 474, 'date_added': '2020-07-13T00:00:00.000Z', 'tags': ['defi', 'smart-contracts', 'three-arrows-capital-portfolio', 'polychain-capital-portfolio', 'avalanche-ecosystem', 'cms-holdings-portfolio', 'dragonfly-capital-portfolio', 'moonriver-ecosystem', 'injective-ecosystem', 'layer-1'], 'max_supply': 720000000, 'circulating_supply': 346017849.7585618, 'total_supply': 432737299.7585618, 'infinite_supply': False, 'platform': None, 'cmc_rank': 17, 'self_reported_circulating_supply': None, 'self_reported_market_cap': None, 'tvl_ratio': None, 'last_updated': '2023-07-29T09:51:00.000Z', 'quote': {'USD': {'price': 13.18125164268089, 'volume_24h': 71242770.80737449, 'volume_change_24h': -17.5483, 'percent_change_1h': -0.01730557, 'percent_change_24h': 0.68957125, 'percent_change_7d': -5.24071212, 'percent_change_30d': 5.13310069, 'percent_change_60d': -9.85626183, 'percent_change_90d': -24.42654757, 'market_cap': 4560948350.526952, 'market_cap_dominance': 0.3855, 'fully_diluted_market_cap': 9490501182.73, 'tvl': None, 'last_updated': '2023-07-29T09:51:00.000Z'}}}, {'id': 4943, 'name': 'Dai', 'symbol': 'DAI', 'slug': 'multi-collateral-dai', 'num_market_pairs': 2484, 'date_added': '2019-11-22T00:00:00.000Z', 'tags': ['defi', 'stablecoin', 'asset-backed-stablecoin', 'ethereum-ecosystem', 'avalanche-ecosystem', 'polygon-ecosystem', 'fantom-ecosystem', 'arbitrum-ecosytem', 'harmony-ecosystem', 'moonriver-ecosystem', 'bnb-chain', 'usd-stablecoin', 'optimism-ecosystem'], 'max_supply': None, 'circulating_supply': 4542262109.686357, 'total_supply': 4542262109.686357, 'platform': {'id': 1027, 'name': 'Ethereum', 'symbol': 'ETH', 'slug': 'ethereum', 'token_address': '0x6b175474e89094c44da98b954eedeac495271d0f'}, 'infinite_supply': True, 'cmc_rank': 18, 'self_reported_circulating_supply': None, 'self_reported_market_cap': None, 'tvl_ratio': None, 'last_updated': '2023-07-29T09:51:00.000Z', 'quote': {'USD': {'price': 0.9997683246014054, 'volume_24h': 71851508.39418584, 'volume_change_24h': 17.9272, 'percent_change_1h': -0.01347124, 'percent_change_24h': 0.03506139, 'percent_change_7d': -0.00681294, 'percent_change_30d': -0.05936931, 'percent_change_60d': -0.02373278, 'percent_change_90d': -0.00063161, 'market_cap': 4541209779.301574, 'market_cap_dominance': 0.3839, 'fully_diluted_market_cap': 4541209779.3, 'tvl': None, 'last_updated': '2023-07-29T09:51:00.000Z'}}}, {'id': 11419, 'name': 'Toncoin', 'symbol': 'TON', 'slug': 'toncoin', 'num_market_pairs': 122, 'date_added': '2021-08-26T13:40:22.000Z', 'tags': ['pos'], 'max_supply': None, 'circulating_supply': 3431892087.62, 'total_supply': 5047558528, 'infinite_supply': True, 'platform': None, 'cmc_rank': 19, 'self_reported_circulating_supply': 3414166606, 'self_reported_market_cap': 4403668204.626153, 'tvl_ratio': None, 'last_updated': '2023-07-29T09:51:00.000Z', 'quote': {'USD': {'price': 1.2898222942275925, 'volume_24h': 33245560.27089923, 'volume_change_24h': -23.5316, 'percent_change_1h': 0.2337678, 'percent_change_24h': -2.62450526, 'percent_change_7d': -9.85244068, 'percent_change_30d': -6.25002682, 'percent_change_60d': -31.27131624, 'percent_change_90d': -40.04655463, 'market_cap': 4426530925.99555, 'market_cap_dominance': 0.3742, 'fully_diluted_market_cap': 6510453520.83, 'tvl': None, 'last_updated': '2023-07-29T09:51:00.000Z'}}}, {'id': 512, 'name': 'Stellar', 'symbol': 'XLM', 'slug': 'stellar', 'num_market_pairs': 507, 'date_added': '2014-08-05T00:00:00.000Z', 'tags': ['medium-of-exchange', 'enterprise-solutions', 'decentralized-exchange-dex-token', 'smart-contracts', 'hashkey-capital-portfolio'], 'max_supply': 50001806812, 'circulating_supply': 27306359645.39044, 'total_supply': 50001787265.47362, 'infinite_supply': False, 'platform': None, 'cmc_rank': 20, 'self_reported_circulating_supply': None, 'self_reported_market_cap': None, 'tvl_ratio': None, 'last_updated': '2023-07-29T09:51:00.000Z', 'quote': {'USD': {'price': 0.15790754298814735, 'volume_24h': 201086772.71556553, 'volume_change_24h': -36.1167, 'percent_change_1h': -1.15593464, 'percent_change_24h': -0.35290334, 'percent_change_7d': -4.08205101, 'percent_change_30d': 55.03669283, 'percent_change_60d': 74.98116386, 'percent_change_90d': 66.03353262, 'market_cap': 4311880159.554303, 'market_cap_dominance': 0.3645, 'fully_diluted_market_cap': 7895662458.65, 'tvl': None, 'last_updated': '2023-07-29T09:51:00.000Z'}}}]}\n"
     ]
    }
   ],
   "source": [
    "n_coins = 20\n",
    "save_dir = \"./new_data\"\n",
    "top_coins(n_coins, save_dir)"
   ]
  },
  {
   "cell_type": "markdown",
   "metadata": {},
   "source": [
    "### Create the object with the wanted number of coins to search\n",
    "- Scrape the data of the tokens\n",
    "\n",
    "### Attention!\n",
    "The scripts extracts the top_100.pickle to get the top 100 tokens. The tokens can change from one day to another so you should regularly update the tokens and the order of the top 100 tokens and create a new top_100.pickle"
   ]
  },
  {
   "cell_type": "code",
   "execution_count": 4,
   "metadata": {},
   "outputs": [],
   "source": [
    "crypto_class_20c = cc.CryptoPortfolio(top_100, budget, n_coins, hodl, save_dir)"
   ]
  },
  {
   "cell_type": "code",
   "execution_count": 5,
   "metadata": {},
   "outputs": [],
   "source": [
    "scrap = False\n",
    "\n",
    "if scrap:\n",
    "    crypto_class_20c.get_prices_df()\n",
    "    crypto_class_20c.get_market_cap_df()"
   ]
  },
  {
   "cell_type": "markdown",
   "metadata": {},
   "source": [
    "- Validate the results from before n_days"
   ]
  },
  {
   "cell_type": "code",
   "execution_count": 6,
   "metadata": {},
   "outputs": [
    {
     "name": "stdout",
     "output_type": "stream",
     "text": [
      "Expected annual return: 388.3%\n",
      "Annual volatility: 90.4%\n",
      "Sharpe Ratio: 4.27\n",
      "Invest 100.0\n",
      "\n",
      " Profit Loss: -18.794886996393814e\n",
      "\n",
      "  Coin  Amount   n_coins\n",
      "0  BNB   71.97  0.265079\n",
      "1  SOL   28.03  0.695398\n"
     ]
    }
   ],
   "source": [
    "n_coins = 20\n",
    "crypto_class_20c.validate_from_past(n_coins, n_days, mu_method, cov_method, obj_function, drop)\n",
    "print(crypto_class_20c.portfolio_from_past)"
   ]
  },
  {
   "cell_type": "markdown",
   "metadata": {},
   "source": [
    "- Find the best performing tokens"
   ]
  },
  {
   "cell_type": "code",
   "execution_count": 7,
   "metadata": {},
   "outputs": [
    {
     "name": "stdout",
     "output_type": "stream",
     "text": [
      "Expected annual return: 261.9%\n",
      "Annual volatility: 50.0%\n",
      "Sharpe Ratio: 5.20\n",
      "Invest 100.0\n",
      "\n",
      "n_coins = 20\n",
      "\n",
      "  Coin  Amount   n_coins\n",
      "0  BNB   100.0  0.415803\n"
     ]
    }
   ],
   "source": [
    "crypto_class_20c.optimize_portfolio(n_coins, mu_method, cov_method, obj_function, drop)\n",
    "print(f'\\nn_coins = {n_coins}\\n')\n",
    "print(crypto_class_20c.portfolio)"
   ]
  },
  {
   "cell_type": "markdown",
   "metadata": {},
   "source": [
    "## Blue chip portfolio"
   ]
  },
  {
   "cell_type": "code",
   "execution_count": 8,
   "metadata": {},
   "outputs": [
    {
     "name": "stdout",
     "output_type": "stream",
     "text": [
      "Expected annual return: 126.2%\n",
      "Annual volatility: 50.3%\n",
      "Sharpe Ratio: 2.47\n",
      "Invest 100.0\n",
      "\n",
      "n_coins = 2\n",
      "\n",
      "  Coin  Amount   n_coins\n",
      "0  ETH   100.0  0.053753\n"
     ]
    }
   ],
   "source": [
    "n_coins = 2\n",
    "obj_function = 'sharpe'\n",
    "\n",
    "crypto_class_2c = cc.CryptoPortfolio(top_100, budget, n_coins, hodl, save_dir)\n",
    "crypto_class_2c.optimize_portfolio(n_coins, mu_method, cov_method, obj_function, drop)\n",
    "print(f'\\nn_coins = {n_coins}\\n')\n",
    "print(crypto_class_2c.portfolio)"
   ]
  },
  {
   "cell_type": "code",
   "execution_count": 9,
   "metadata": {},
   "outputs": [
    {
     "name": "stdout",
     "output_type": "stream",
     "text": [
      "Expected annual return: 149.6%\n",
      "Annual volatility: 101.8%\n",
      "Sharpe Ratio: 1.45\n",
      "Invest 100.0\n",
      "\n",
      " Profit Loss: 13.697593818799318e\n",
      "\n",
      "  Coin  Amount   n_coins\n",
      "0  ETH   100.0  0.061116\n"
     ]
    }
   ],
   "source": [
    "crypto_class_2c.validate_from_past(n_coins, n_days, mu_method, cov_method, obj_function, drop)\n",
    "print(crypto_class_2c.portfolio_from_past)"
   ]
  },
  {
   "cell_type": "code",
   "execution_count": 10,
   "metadata": {},
   "outputs": [
    {
     "name": "stdout",
     "output_type": "stream",
     "text": [
      "Expected annual return: 261.9%\n",
      "Annual volatility: 50.0%\n",
      "Sharpe Ratio: 5.20\n",
      "Invest 100.0\n",
      "\n",
      "n_coins = 10\n",
      "\n",
      "  Coin  Amount   n_coins\n",
      "0  BNB   100.0  0.415803\n"
     ]
    }
   ],
   "source": [
    "n_coins = 10\n",
    "obj_function = 'quadratic'\n",
    "\n",
    "crypto_class_10c = cc.CryptoPortfolio(top_100, budget, n_coins, hodl, save_dir)\n",
    "crypto_class_10c.optimize_portfolio(n_coins, mu_method, cov_method, obj_function, drop)\n",
    "print(f'\\nn_coins = {n_coins}\\n')\n",
    "print(crypto_class_10c.portfolio)"
   ]
  },
  {
   "cell_type": "code",
   "execution_count": 11,
   "metadata": {},
   "outputs": [
    {
     "name": "stdout",
     "output_type": "stream",
     "text": [
      "Expected annual return: 388.3%\n",
      "Annual volatility: 90.4%\n",
      "Sharpe Ratio: 4.27\n",
      "Invest 100.0\n",
      "\n",
      " Profit Loss: -18.794886996393814e\n",
      "\n",
      "  Coin  Amount   n_coins\n",
      "0  BNB   71.97  0.265079\n",
      "1  SOL   28.03  0.695398\n"
     ]
    }
   ],
   "source": [
    "crypto_class_10c.validate_from_past(n_coins, n_days, mu_method, cov_method, obj_function, drop)\n",
    "print(crypto_class_10c.portfolio_from_past)"
   ]
  },
  {
   "cell_type": "code",
   "execution_count": null,
   "metadata": {},
   "outputs": [],
   "source": []
  }
 ],
 "metadata": {
  "kernelspec": {
   "display_name": "Python 3",
   "language": "python",
   "name": "python3"
  },
  "language_info": {
   "codemirror_mode": {
    "name": "ipython",
    "version": 3
   },
   "file_extension": ".py",
   "mimetype": "text/x-python",
   "name": "python",
   "nbconvert_exporter": "python",
   "pygments_lexer": "ipython3",
   "version": "3.8.5"
  }
 },
 "nbformat": 4,
 "nbformat_minor": 4
}
