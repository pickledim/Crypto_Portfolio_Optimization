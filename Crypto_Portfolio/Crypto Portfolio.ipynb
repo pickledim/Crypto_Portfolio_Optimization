{
 "cells": [
  {
   "cell_type": "markdown",
   "metadata": {},
   "source": [
    "# Crypto Portfolio \n",
    "\n",
    "## Introduction\n",
    "\n",
    "The idea behind this project is to find an efficient way to trace the crypto market and buy the best performing tokens. The algorithm scrapes data from coinmarketcap and performs a convex optimization in order to find the best performing tokens.\n",
    "\n",
    "### Import the crypto class"
   ]
  },
  {
   "cell_type": "code",
   "execution_count": 1,
   "metadata": {},
   "outputs": [],
   "source": [
    "import sys\n",
    "sys.path.append(\"../\")\n",
    "from get_portfolio import run_from_json"
   ]
  },
  {
   "cell_type": "markdown",
   "metadata": {},
   "source": [
    "### Inputs\n",
    "\n",
    "- top_100: Boolean, If you want the top 100 tokens by market cap\n",
    "- n_days: For validation purposes --> checks the profit of the suggested results from n_days before\n",
    "- mu_method: mean-->'mean' annualised mean (daily) historical return from input (daily) token prices\n",
    "   - choices: [mean, exp, capm]\n",
    "- cov_method: sample --> annualised sample covariance matrix of (daily) token returns\n",
    "   - choices: [sample, exp]\n",
    "- obj_function: the objective function of the base convex Optimization\n",
    "   - choices: [sharpe, quadratic, min_volat]\n",
    "- drop: boolean decide if you want to drop the nan values of the mean values\n",
    "- budget: You investment budget\n",
    "- hodl: If you want to hold yout tokens or trade them after 1 year\n",
    "\n",
    "\n",
    "## Top 20 tokens"
   ]
  },
  {
   "cell_type": "code",
   "execution_count": 2,
   "metadata": {},
   "outputs": [
    {
     "name": "stdout",
     "output_type": "stream",
     "text": [
      "\n",
      "Validation of optimzed portfolio from 180 days before\n",
      "\n",
      "Expected annual return: 359.0%\n",
      "Annual volatility: 92.2%\n",
      "Sharpe Ratio: 3.87\n",
      "Invest 100.00000000000001\n",
      "\n",
      " Profit Loss: -49.15045899284236e\n",
      "\n",
      "    Coin  Amount    n_coins\n",
      "0    TON  90.478  37.941516\n",
      "1  MATIC   9.522   7.968418\n",
      "\n",
      "Current optimzed portfolio \n",
      "\n",
      "Expected annual return: 185.8%\n",
      "Annual volatility: 88.0%\n",
      "Sharpe Ratio: 2.09\n",
      "Invest 100.0\n",
      "\n",
      "  Coin  Amount    n_coins\n",
      "1  BCH  59.484   0.239676\n",
      "0  XRP  40.516  58.002572\n"
     ]
    }
   ],
   "source": [
    "# Inputs\n",
    "inputs_20coins = {\n",
    "    \"top_100\": True,\n",
    "    \"n_coins\" : 20,\n",
    "    \"budget\": 100,\n",
    "    \"scrap\" : False,\n",
    "    \"compounding\" : True,\n",
    "    \"n_days\": 180,\n",
    "    \"mu_method\": 'exp',\n",
    "    \"cov_method\" : 'exp',\n",
    "    \"obj_function\" : 'quadratic',\n",
    "    \"save_dir\" : \"./new_data\"    \n",
    "}\n",
    "\n",
    "portfolios_20c = run_from_json(inputs_20coins)"
   ]
  },
  {
   "cell_type": "markdown",
   "metadata": {},
   "source": [
    "## Top 10 tokens"
   ]
  },
  {
   "cell_type": "code",
   "execution_count": 3,
   "metadata": {},
   "outputs": [
    {
     "name": "stdout",
     "output_type": "stream",
     "text": [
      "\n",
      "Validation of optimzed portfolio from 180 days before\n",
      "\n",
      "Expected annual return: 323.7%\n",
      "Annual volatility: 109.0%\n",
      "Sharpe Ratio: 2.95\n",
      "Invest 100.0\n",
      "\n",
      " Profit Loss: -42.43115549972308e\n",
      "\n",
      "    Coin  Amount    n_coins\n",
      "0  MATIC   100.0  83.684292\n",
      "\n",
      "Current optimzed portfolio \n",
      "\n",
      "Expected annual return: 165.7%\n",
      "Annual volatility: 116.1%\n",
      "Sharpe Ratio: 1.41\n",
      "Invest 100.0\n",
      "\n",
      "  Coin  Amount     n_coins\n",
      "0  XRP  76.515  109.538621\n",
      "1  TRX  23.485  301.178647\n"
     ]
    }
   ],
   "source": [
    "# Inputs\n",
    "inputs_10coins = {\n",
    "    \"top_100\": True,\n",
    "    \"n_coins\" : 10,\n",
    "    \"budget\": 100,\n",
    "    \"scrap\" : False,\n",
    "    \"compounding\" : True,\n",
    "    \"n_days\": 180,\n",
    "    \"mu_method\": 'exp',\n",
    "    \"cov_method\" : 'exp',\n",
    "    \"obj_function\" : 'quadratic',\n",
    "    \"save_dir\" : \"./new_data\"    \n",
    "}\n",
    "\n",
    "portfolios_10c = run_from_json(inputs_10coins)"
   ]
  },
  {
   "cell_type": "markdown",
   "metadata": {},
   "source": [
    "## Top 5 tokens"
   ]
  },
  {
   "cell_type": "code",
   "execution_count": 4,
   "metadata": {},
   "outputs": [
    {
     "name": "stdout",
     "output_type": "stream",
     "text": [
      "\n",
      "Validation of optimzed portfolio from 180 days before\n",
      "\n",
      "Expected annual return: 325.8%\n",
      "Annual volatility: 63.3%\n",
      "Sharpe Ratio: 5.11\n",
      "Invest 100.0\n",
      "\n",
      " Profit Loss: -24.04993073315978e\n",
      "\n",
      "  Coin  Amount   n_coins\n",
      "0  BNB   100.0  0.314988\n",
      "\n",
      "Current optimzed portfolio \n",
      "\n",
      "Expected annual return: 261.2%\n",
      "Annual volatility: 48.9%\n",
      "Sharpe Ratio: 5.30\n",
      "Invest 100.0\n",
      "\n",
      "  Coin  Amount  n_coins\n",
      "0  BNB   100.0  0.41473\n"
     ]
    }
   ],
   "source": [
    "# Inputs\n",
    "inputs_5coins = {\n",
    "    \"top_100\": True,\n",
    "    \"n_coins\" : 5,\n",
    "    \"budget\": 100,\n",
    "    \"scrap\" : False,\n",
    "    \"compounding\" : True,\n",
    "    \"n_days\": 180,\n",
    "    \"mu_method\": 'mean',\n",
    "    \"cov_method\" : 'exp',\n",
    "    \"obj_function\" : 'quadratic',\n",
    "    \"save_dir\" : \"./new_data\"    \n",
    "}\n",
    "\n",
    "portfolios_5c = run_from_json(inputs_5coins)"
   ]
  },
  {
   "cell_type": "markdown",
   "metadata": {},
   "source": [
    "## Top 2 tokens"
   ]
  },
  {
   "cell_type": "code",
   "execution_count": 8,
   "metadata": {},
   "outputs": [
    {
     "name": "stdout",
     "output_type": "stream",
     "text": [
      "\n",
      "Validation of optimzed portfolio from 180 days before\n",
      "\n",
      "Expected annual return: 37.6%\n",
      "Annual volatility: 74.6%\n",
      "Sharpe Ratio: 0.48\n",
      "Invest 100.0\n",
      "\n",
      " Profit Loss: 13.057047143812536e\n",
      "\n",
      "  Coin  Amount   n_coins\n",
      "0  ETH   100.0  0.060909\n",
      "\n",
      "Current optimzed portfolio \n",
      "\n",
      "Expected annual return: 32.3%\n",
      "Annual volatility: 43.0%\n",
      "Sharpe Ratio: 0.71\n",
      "Invest 100.0\n",
      "\n",
      "  Coin  Amount   n_coins\n",
      "1  BTC   71.56  0.002448\n",
      "0  ETH   28.44  0.015322\n"
     ]
    }
   ],
   "source": [
    "# Inputs\n",
    "inputs_2coins = {\n",
    "    \"top_100\": True,\n",
    "    \"n_coins\" : 2,\n",
    "    \"budget\": 100,\n",
    "    \"scrap\" : False,\n",
    "    \"compounding\" : False,\n",
    "    \"n_days\": 180,\n",
    "    \"mu_method\": 'exp',\n",
    "    \"cov_method\" : 'exp',\n",
    "    \"obj_function\" : 'sharpe',\n",
    "    \"save_dir\" : \"./new_data\"    \n",
    "}\n",
    "\n",
    "portfolios_2c = run_from_json(inputs_2coins)"
   ]
  },
  {
   "cell_type": "markdown",
   "metadata": {},
   "source": [
    "## BTC"
   ]
  },
  {
   "cell_type": "code",
   "execution_count": 6,
   "metadata": {},
   "outputs": [
    {
     "name": "stdout",
     "output_type": "stream",
     "text": [
      "\n",
      "Validation of optimzed portfolio from 180 days before\n",
      "\n",
      "Expected annual return: 84.7%\n",
      "Annual volatility: 53.5%\n",
      "Sharpe Ratio: 1.55\n",
      "Invest 100.0\n",
      "\n",
      " Profit Loss: 23.21022883627412e\n",
      "\n",
      "  Coin  Amount   n_coins\n",
      "0  BTC   100.0  0.004215\n",
      "\n",
      "Current optimzed portfolio \n",
      "\n",
      "Expected annual return: 83.2%\n",
      "Annual volatility: 42.5%\n",
      "Sharpe Ratio: 1.91\n",
      "Invest 100.0\n",
      "\n",
      "  Coin  Amount   n_coins\n",
      "0  BTC   100.0  0.003421\n"
     ]
    }
   ],
   "source": [
    "# Inputs\n",
    "inputs_1coins = {\n",
    "    \"top_100\": True,\n",
    "    \"n_coins\" : 1,\n",
    "    \"budget\": 100,\n",
    "    \"scrap\" : False,\n",
    "    \"hodl\": True,\n",
    "    \"compounding\" : False,\n",
    "    \"n_days\": 180,\n",
    "    \"mu_method\": 'mean',\n",
    "    \"cov_method\" : 'exp',\n",
    "    \"obj_function\" : 'quadratic',\n",
    "    \"save_dir\" : \"./new_data\"    \n",
    "}\n",
    "\n",
    "portfolios_1c = run_from_json(inputs_1coins)"
   ]
  }
 ],
 "metadata": {
  "kernelspec": {
   "display_name": "Python 3",
   "language": "python",
   "name": "python3"
  },
  "language_info": {
   "codemirror_mode": {
    "name": "ipython",
    "version": 3
   },
   "file_extension": ".py",
   "mimetype": "text/x-python",
   "name": "python",
   "nbconvert_exporter": "python",
   "pygments_lexer": "ipython3",
   "version": "3.8.5"
  }
 },
 "nbformat": 4,
 "nbformat_minor": 4
}
