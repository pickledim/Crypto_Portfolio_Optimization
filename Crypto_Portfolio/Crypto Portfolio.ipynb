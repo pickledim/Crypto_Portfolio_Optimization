{
 "cells": [
  {
   "cell_type": "markdown",
   "metadata": {},
   "source": [
    "# Crypto Portfolio \n",
    "\n",
    "## Introduction\n",
    "\n",
    "The idea behind this project is to find an efficient way to trace the crypto market and buy the best performing tokens. The algorithm scrapes data from coinmarketcap and performs a convex optimization in order to find the best performing tokens.\n",
    "\n",
    "### Import the crypto class"
   ]
  },
  {
   "cell_type": "code",
   "execution_count": null,
   "metadata": {},
   "outputs": [],
   "source": [
    "import sys\n",
    "sys.path.append(\"../\")\n",
    "from src import cryptorama as cc\n",
    "from coincost_scrapping import top_coins"
   ]
  },
  {
   "cell_type": "markdown",
   "metadata": {},
   "source": [
    "### Inputs\n",
    "\n",
    "- top_100: Boolean, If you want the top 100 tokens by market cap\n",
    "- n_days: For validation purposes --> checks the profit of the suggested results from n_days before\n",
    "- mu_method: mean-->'mean' annualised mean (daily) historical return from input (daily) token prices\n",
    "   - choices: [mean, exp, capm]\n",
    "- cov_method: sample --> annualised sample covariance matrix of (daily) token returns\n",
    "   - choices: [sample, exp]\n",
    "- obj_function: the objective function of the base convex Optimization\n",
    "   - choices: [sharpe, quadratic, min_volat]\n",
    "- drop: boolean decide if you want to drop the nan values of the mean values\n",
    "- budget: You investment budget\n",
    "- hodl: If you want to hold yout tokens or trade them after 1 year\n",
    "\n"
   ]
  },
  {
   "cell_type": "code",
   "execution_count": null,
   "metadata": {},
   "outputs": [],
   "source": [
    "# Inputs\n",
    "top_100 = True\n",
    "drop = False\n",
    "hodl = True\n",
    "\n",
    "n_days = 365 \n",
    "budget = 100\n",
    "\n",
    "mu_method = 'mean'\n",
    "cov_method = 'exp'\n",
    "obj_function = 'quadratic'\n"
   ]
  },
  {
   "cell_type": "code",
   "execution_count": null,
   "metadata": {},
   "outputs": [],
   "source": [
    "n_coins = 20\n",
    "save_dir = \"./new_data\"\n",
    "top_coins(n_coins, save_dir)"
   ]
  },
  {
   "cell_type": "markdown",
   "metadata": {},
   "source": [
    "### Create the object with the wanted number of coins to search\n",
    "- Scrape the data of the tokens\n",
    "\n",
    "### Attention!\n",
    "The scripts extracts the top_100.pickle to get the top 100 tokens. The tokens can change from one day to another so you should regularly update the tokens and the order of the top 100 tokens and create a new top_100.pickle"
   ]
  },
  {
   "cell_type": "code",
   "execution_count": null,
   "metadata": {},
   "outputs": [],
   "source": [
    "crypto_class_20c = cc.CryptoPortfolio(top_100, budget, n_coins, hodl, save_dir)"
   ]
  },
  {
   "cell_type": "code",
   "execution_count": null,
   "metadata": {},
   "outputs": [],
   "source": [
    "scrap = False\n",
    "\n",
    "if scrap:\n",
    "    crypto_class_20c.get_prices_df()\n",
    "    crypto_class_20c.get_market_cap_df()"
   ]
  },
  {
   "cell_type": "markdown",
   "metadata": {},
   "source": [
    "- Validate the results from before n_days"
   ]
  },
  {
   "cell_type": "code",
   "execution_count": null,
   "metadata": {},
   "outputs": [],
   "source": [
    "n_coins = 20\n",
    "mu_method= 'mean'\n",
    "cov_method = 'exp'\n",
    "obj_function = 'sharpe'\n",
    "drop = True\n",
    "\n",
    "crypto_class_20c.validate_from_past(n_coins, n_days, mu_method, cov_method, obj_function, drop)\n",
    "print(crypto_class_20c.portfolio_from_past)"
   ]
  },
  {
   "cell_type": "markdown",
   "metadata": {},
   "source": [
    "- Find the best performing tokens"
   ]
  },
  {
   "cell_type": "code",
   "execution_count": null,
   "metadata": {},
   "outputs": [],
   "source": [
    "crypto_class_20c.optimize_portfolio(n_coins, mu_method, cov_method, obj_function, drop)\n",
    "print(f'\\nn_coins = {n_coins}\\n')\n",
    "print(crypto_class_20c.portfolio)"
   ]
  },
  {
   "cell_type": "markdown",
   "metadata": {},
   "source": [
    "## Blue chip portfolio"
   ]
  },
  {
   "cell_type": "code",
   "execution_count": null,
   "metadata": {},
   "outputs": [],
   "source": [
    "n_coins = 5\n",
    "\n",
    "mu_method= 'mean'\n",
    "cov_method = 'exp'\n",
    "obj_function = 'sharpe'\n",
    "drop = True\n",
    "\n",
    "crypto_class_2c = cc.CryptoPortfolio(top_100, budget, n_coins, hodl, save_dir)\n",
    "crypto_class_2c.optimize_portfolio(n_coins, mu_method, cov_method, obj_function, drop)\n",
    "print(f'\\nn_coins = {n_coins}\\n')\n",
    "print(crypto_class_2c.portfolio)"
   ]
  },
  {
   "cell_type": "code",
   "execution_count": null,
   "metadata": {},
   "outputs": [],
   "source": [
    "crypto_class_2c.validate_from_past(n_coins, n_days, mu_method, cov_method, obj_function, drop)\n",
    "print(crypto_class_2c.portfolio_from_past)"
   ]
  },
  {
   "cell_type": "code",
   "execution_count": null,
   "metadata": {},
   "outputs": [],
   "source": [
    "n_coins = 10\n",
    "\n",
    "mu_method= 'mean'\n",
    "cov_method = 'exp'\n",
    "obj_function = 'sharpe'\n",
    "drop = True\n",
    "\n",
    "crypto_class_10c = cc.CryptoPortfolio(top_100, budget, n_coins, hodl, save_dir)\n",
    "crypto_class_10c.optimize_portfolio(n_coins, mu_method, cov_method, obj_function, drop)\n",
    "print(f'\\nn_coins = {n_coins}\\n')\n",
    "print(crypto_class_10c.portfolio)"
   ]
  },
  {
   "cell_type": "code",
   "execution_count": null,
   "metadata": {},
   "outputs": [],
   "source": [
    "crypto_class_10c.validate_from_past(n_coins, n_days, mu_method, cov_method, obj_function, drop)\n",
    "print(crypto_class_10c.portfolio_from_past)"
   ]
  },
  {
   "cell_type": "code",
   "execution_count": null,
   "metadata": {},
   "outputs": [],
   "source": []
  }
 ],
 "metadata": {
  "kernelspec": {
   "display_name": "Python 3",
   "language": "python",
   "name": "python3"
  },
  "language_info": {
   "codemirror_mode": {
    "name": "ipython",
    "version": 3
   },
   "file_extension": ".py",
   "mimetype": "text/x-python",
   "name": "python",
   "nbconvert_exporter": "python",
   "pygments_lexer": "ipython3",
   "version": "3.8.5"
  }
 },
 "nbformat": 4,
 "nbformat_minor": 4
}
