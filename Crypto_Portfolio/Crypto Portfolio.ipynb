{
 "cells": [
  {
   "cell_type": "markdown",
   "metadata": {},
   "source": [
    "# Crypto Portfolio \n",
    "\n",
    "## Introduction\n",
    "\n",
    "The idea behind this project is to find an efficient way to trace the crypto market and buy the best performing tokens. The algorithm scrapes data from coinmarketcap and performs a convex optimization in order to find the best performing tokens.\n",
    "\n",
    "### Import the crypto class"
   ]
  },
  {
   "cell_type": "code",
   "execution_count": 1,
   "metadata": {},
   "outputs": [],
   "source": [
    "import sys\n",
    "sys.path.append(\"../\")\n",
    "from src import Crypto_class as cc\n",
    "from coincost_scrapping import top_coins"
   ]
  },
  {
   "cell_type": "markdown",
   "metadata": {},
   "source": [
    "### Inputs\n",
    "\n",
    "- top_100: Boolean, If you want the top 100 tokens by market cap\n",
    "- n_days: For validation purposes --> checks the profit of the suggested results from n_days before\n",
    "- mu_method: mean-->'mean' annualised mean (daily) historical return from input (daily) token prices\n",
    "   - choices: [mean, exp, capm]\n",
    "- cov_method: sample --> annualised sample covariance matrix of (daily) token returns\n",
    "   - choices: [sample, exp]\n",
    "- obj_function: the objective function of the base convex Optimization\n",
    "   - choices: [sharpe, quadratic, min_volat]\n",
    "- drop: boolean decide if you want to drop the nan values of the mean values\n",
    "- budget: You investment budget\n",
    "- hodl: If you want to hold yout tokens or trade them after 1 year\n",
    "\n"
   ]
  },
  {
   "cell_type": "code",
   "execution_count": 2,
   "metadata": {},
   "outputs": [],
   "source": [
    "# Inputs\n",
    "top_100 = True\n",
    "drop = False\n",
    "hodl = True\n",
    "\n",
    "n_days = 365 \n",
    "budget = 100\n",
    "\n",
    "mu_method = 'mean'\n",
    "cov_method = 'exp'\n",
    "obj_function = 'quadratic'\n"
   ]
  },
  {
   "cell_type": "code",
   "execution_count": 3,
   "metadata": {},
   "outputs": [
    {
     "name": "stdout",
     "output_type": "stream",
     "text": [
      "{'status': {'timestamp': '2023-07-28T19:09:01.064Z', 'error_code': 0, 'error_message': None, 'elapsed': 19, 'credit_count': 1, 'notice': None, 'total_count': 9933}, 'data': [{'id': 1, 'name': 'Bitcoin', 'symbol': 'BTC', 'slug': 'bitcoin', 'num_market_pairs': 10377, 'date_added': '2010-07-13T00:00:00.000Z', 'tags': ['mineable', 'pow', 'sha-256', 'store-of-value', 'state-channel', 'coinbase-ventures-portfolio', 'three-arrows-capital-portfolio', 'polychain-capital-portfolio', 'binance-labs-portfolio', 'blockchain-capital-portfolio', 'boostvc-portfolio', 'cms-holdings-portfolio', 'dcg-portfolio', 'dragonfly-capital-portfolio', 'electric-capital-portfolio', 'fabric-ventures-portfolio', 'framework-ventures-portfolio', 'galaxy-digital-portfolio', 'huobi-capital-portfolio', 'alameda-research-portfolio', 'a16z-portfolio', '1confirmation-portfolio', 'winklevoss-capital-portfolio', 'usv-portfolio', 'placeholder-ventures-portfolio', 'pantera-capital-portfolio', 'multicoin-capital-portfolio', 'paradigm-portfolio', 'bitcoin-ecosystem'], 'max_supply': 21000000, 'circulating_supply': 19441643, 'total_supply': 19441643, 'infinite_supply': False, 'platform': None, 'cmc_rank': 1, 'self_reported_circulating_supply': None, 'self_reported_market_cap': None, 'tvl_ratio': None, 'last_updated': '2023-07-28T19:06:00.000Z', 'quote': {'USD': {'price': 29312.27240223837, 'volume_24h': 11440928362.903828, 'volume_change_24h': -10.0803, 'percent_change_1h': 0.2117598, 'percent_change_24h': 0.63979933, 'percent_change_7d': -2.13171631, 'percent_change_30d': -2.89492523, 'percent_change_60d': 5.9593454, 'percent_change_90d': 0.39783077, 'market_cap': 569878735563.0708, 'market_cap_dominance': 48.1258, 'fully_diluted_market_cap': 615557720447.01, 'tvl': None, 'last_updated': '2023-07-28T19:06:00.000Z'}}}, {'id': 1027, 'name': 'Ethereum', 'symbol': 'ETH', 'slug': 'ethereum', 'num_market_pairs': 7190, 'date_added': '2015-08-07T00:00:00.000Z', 'tags': ['pos', 'smart-contracts', 'ethereum-ecosystem', 'coinbase-ventures-portfolio', 'three-arrows-capital-portfolio', 'polychain-capital-portfolio', 'binance-labs-portfolio', 'blockchain-capital-portfolio', 'boostvc-portfolio', 'cms-holdings-portfolio', 'dcg-portfolio', 'dragonfly-capital-portfolio', 'electric-capital-portfolio', 'fabric-ventures-portfolio', 'framework-ventures-portfolio', 'hashkey-capital-portfolio', 'kenetic-capital-portfolio', 'huobi-capital-portfolio', 'alameda-research-portfolio', 'a16z-portfolio', '1confirmation-portfolio', 'winklevoss-capital-portfolio', 'usv-portfolio', 'placeholder-ventures-portfolio', 'pantera-capital-portfolio', 'multicoin-capital-portfolio', 'paradigm-portfolio', 'injective-ecosystem', 'layer-1'], 'max_supply': None, 'circulating_supply': 120813974.17060176, 'total_supply': 120813974.17060176, 'infinite_supply': True, 'platform': None, 'cmc_rank': 2, 'self_reported_circulating_supply': None, 'self_reported_market_cap': None, 'tvl_ratio': None, 'last_updated': '2023-07-28T19:06:00.000Z', 'quote': {'USD': {'price': 1875.689754471396, 'volume_24h': 3994011006.4241138, 'volume_change_24h': -21.0193, 'percent_change_1h': 0.25825198, 'percent_change_24h': 0.88356906, 'percent_change_7d': -1.19699891, 'percent_change_30d': 1.55574606, 'percent_change_60d': -0.90971827, 'percent_change_90d': -1.19301941, 'market_cap': 226609533548.7696, 'market_cap_dominance': 19.1394, 'fully_diluted_market_cap': 226609533548.77, 'tvl': None, 'last_updated': '2023-07-28T19:06:00.000Z'}}}, {'id': 825, 'name': 'Tether USDt', 'symbol': 'USDT', 'slug': 'tether', 'num_market_pairs': 58000, 'date_added': '2015-02-25T00:00:00.000Z', 'tags': ['payments', 'stablecoin', 'asset-backed-stablecoin', 'avalanche-ecosystem', 'solana-ecosystem', 'arbitrum-ecosytem', 'moonriver-ecosystem', 'injective-ecosystem', 'bnb-chain', 'usd-stablecoin', 'optimism-ecosystem'], 'max_supply': None, 'circulating_supply': 83821781092.11426, 'total_supply': 86706257841.39186, 'platform': {'id': 1027, 'name': 'Ethereum', 'symbol': 'ETH', 'slug': 'ethereum', 'token_address': '0xdac17f958d2ee523a2206206994597c13d831ec7'}, 'infinite_supply': True, 'cmc_rank': 3, 'self_reported_circulating_supply': None, 'self_reported_market_cap': None, 'tvl_ratio': None, 'last_updated': '2023-07-28T19:06:00.000Z', 'quote': {'USD': {'price': 0.9999697563326597, 'volume_24h': 17842901287.30534, 'volume_change_24h': -13.5322, 'percent_change_1h': 0.01482851, 'percent_change_24h': 0.01574483, 'percent_change_7d': -0.03536665, 'percent_change_30d': 0.00316931, 'percent_change_60d': -0.04671925, 'percent_change_90d': -0.08413429, 'market_cap': 83819246014.05104, 'market_cap_dominance': 7.0803, 'fully_diluted_market_cap': 86703635526.17, 'tvl': None, 'last_updated': '2023-07-28T19:06:00.000Z'}}}, {'id': 52, 'name': 'XRP', 'symbol': 'XRP', 'slug': 'xrp', 'num_market_pairs': 1014, 'date_added': '2013-08-04T00:00:00.000Z', 'tags': ['medium-of-exchange', 'enterprise-solutions', 'arrington-xrp-capital-portfolio', 'galaxy-digital-portfolio', 'a16z-portfolio', 'pantera-capital-portfolio'], 'max_supply': 100000000000, 'circulating_supply': 52693851493, 'total_supply': 99988556423, 'infinite_supply': False, 'platform': None, 'cmc_rank': 4, 'self_reported_circulating_supply': None, 'self_reported_market_cap': None, 'tvl_ratio': None, 'last_updated': '2023-07-28T19:06:00.000Z', 'quote': {'USD': {'price': 0.7134791391523883, 'volume_24h': 1159951959.9817755, 'volume_change_24h': -32.2479, 'percent_change_1h': 0.36833696, 'percent_change_24h': -0.53564223, 'percent_change_7d': -9.22788635, 'percent_change_30d': 51.83551867, 'percent_change_60d': 46.62852253, 'percent_change_90d': 49.30163739, 'market_cap': 37595963801.84943, 'market_cap_dominance': 3.1756, 'fully_diluted_market_cap': 71347913915.24, 'tvl': None, 'last_updated': '2023-07-28T19:06:00.000Z'}}}, {'id': 1839, 'name': 'BNB', 'symbol': 'BNB', 'slug': 'bnb', 'num_market_pairs': 1545, 'date_added': '2017-07-25T00:00:00.000Z', 'tags': ['marketplace', 'centralized-exchange', 'payments', 'smart-contracts', 'alameda-research-portfolio', 'multicoin-capital-portfolio', 'bnb-chain', 'layer-1', 'sec-security-token', 'alleged-sec-securities', 'celsius-bankruptcy-estate'], 'max_supply': None, 'circulating_supply': 153855720.36064047, 'total_supply': 153855720.36064047, 'infinite_supply': False, 'platform': None, 'cmc_rank': 5, 'self_reported_circulating_supply': None, 'self_reported_market_cap': None, 'tvl_ratio': None, 'last_updated': '2023-07-28T19:06:00.000Z', 'quote': {'USD': {'price': 241.93192223321404, 'volume_24h': 382230952.5281736, 'volume_change_24h': -20.9293, 'percent_change_1h': 0.15664198, 'percent_change_24h': 0.79368211, 'percent_change_7d': -0.95297397, 'percent_change_30d': 3.98323365, 'percent_change_60d': -22.55301892, 'percent_change_90d': -24.925308, 'market_cap': 37222610173.4256, 'market_cap_dominance': 3.144, 'fully_diluted_market_cap': 37222610173.43, 'tvl': None, 'last_updated': '2023-07-28T19:06:00.000Z'}}}, {'id': 3408, 'name': 'USD Coin', 'symbol': 'USDC', 'slug': 'usd-coin', 'num_market_pairs': 13470, 'date_added': '2018-10-08T00:00:00.000Z', 'tags': ['medium-of-exchange', 'stablecoin', 'asset-backed-stablecoin', 'hedera-hashgraph-ecosystem', 'fantom-ecosystem', 'arbitrum-ecosytem', 'moonriver-ecosystem', 'bnb-chain', 'usd-stablecoin', 'optimism-ecosystem'], 'max_supply': None, 'circulating_supply': 26504949222.863792, 'total_supply': 26504949222.863792, 'platform': {'id': 1027, 'name': 'Ethereum', 'symbol': 'ETH', 'slug': 'ethereum', 'token_address': '0xa0b86991c6218b36c1d19d4a2e9eb0ce3606eb48'}, 'infinite_supply': False, 'cmc_rank': 6, 'self_reported_circulating_supply': None, 'self_reported_market_cap': None, 'tvl_ratio': None, 'last_updated': '2023-07-28T19:06:00.000Z', 'quote': {'USD': {'price': 1.0000807671006653, 'volume_24h': 2709605484.5730925, 'volume_change_24h': -0.6867, 'percent_change_1h': 0.0158546, 'percent_change_24h': -0.00538302, 'percent_change_7d': -0.02521607, 'percent_change_30d': 0.00557033, 'percent_change_60d': -0.00580745, 'percent_change_90d': 0.00445774, 'market_cap': 26507089950.765804, 'market_cap_dominance': 2.2385, 'fully_diluted_market_cap': 26507089950.77, 'tvl': None, 'last_updated': '2023-07-28T19:06:00.000Z'}}}, {'id': 2010, 'name': 'Cardano', 'symbol': 'ADA', 'slug': 'cardano', 'num_market_pairs': 883, 'date_added': '2017-10-01T00:00:00.000Z', 'tags': ['dpos', 'pos', 'platform', 'research', 'smart-contracts', 'staking', 'cardano-ecosystem', 'cardano', 'layer-1', 'sec-security-token', 'alleged-sec-securities'], 'max_supply': 45000000000, 'circulating_supply': 35004359884.639, 'total_supply': 36014721873.36, 'infinite_supply': False, 'platform': None, 'cmc_rank': 7, 'self_reported_circulating_supply': None, 'self_reported_market_cap': None, 'tvl_ratio': None, 'last_updated': '2023-07-28T19:06:00.000Z', 'quote': {'USD': {'price': 0.31098856103134215, 'volume_24h': 149827718.30179882, 'volume_change_24h': -20.5082, 'percent_change_1h': 0.15665659, 'percent_change_24h': 1.46709672, 'percent_change_7d': -1.50270577, 'percent_change_30d': 14.76662014, 'percent_change_60d': -17.92379671, 'percent_change_90d': -22.83837061, 'market_cap': 10885955510.34712, 'market_cap_dominance': 0.9194, 'fully_diluted_market_cap': 13994485246.41, 'tvl': None, 'last_updated': '2023-07-28T19:06:00.000Z'}}}, {'id': 74, 'name': 'Dogecoin', 'symbol': 'DOGE', 'slug': 'dogecoin', 'num_market_pairs': 757, 'date_added': '2013-12-15T00:00:00.000Z', 'tags': ['mineable', 'pow', 'scrypt', 'medium-of-exchange', 'memes', 'payments', 'doggone-doggerel', 'bnb-chain'], 'max_supply': None, 'circulating_supply': 140361256383.7052, 'total_supply': 140361256383.7052, 'infinite_supply': True, 'platform': None, 'cmc_rank': 8, 'self_reported_circulating_supply': None, 'self_reported_market_cap': None, 'tvl_ratio': None, 'last_updated': '2023-07-28T19:06:00.000Z', 'quote': {'USD': {'price': 0.0772270651500942, 'volume_24h': 392946694.86482286, 'volume_change_24h': -33.8422, 'percent_change_1h': 0.52742601, 'percent_change_24h': 0.07528829, 'percent_change_7d': 5.60353472, 'percent_change_30d': 21.15226895, 'percent_change_60d': 5.50115716, 'percent_change_90d': -5.14618092, 'market_cap': 10839687891.293476, 'market_cap_dominance': 0.9154, 'fully_diluted_market_cap': 10839687891.29, 'tvl': None, 'last_updated': '2023-07-28T19:06:00.000Z'}}}, {'id': 5426, 'name': 'Solana', 'symbol': 'SOL', 'slug': 'solana', 'num_market_pairs': 494, 'date_added': '2020-04-10T00:00:00.000Z', 'tags': ['pos', 'platform', 'solana-ecosystem', 'cms-holdings-portfolio', 'kenetic-capital-portfolio', 'alameda-research-portfolio', 'multicoin-capital-portfolio', 'okex-blockdream-ventures-portfolio', 'layer-1', 'ftx-bankruptcy-estate', 'sec-security-token', 'alleged-sec-securities'], 'max_supply': None, 'circulating_supply': 404245310.09666383, 'total_supply': 553511658.2360954, 'infinite_supply': True, 'platform': None, 'cmc_rank': 9, 'self_reported_circulating_supply': None, 'self_reported_market_cap': None, 'tvl_ratio': None, 'last_updated': '2023-07-28T19:06:00.000Z', 'quote': {'USD': {'price': 25.084945916221024, 'volume_24h': 391314308.2290194, 'volume_change_24h': -33.6932, 'percent_change_1h': 0.14570665, 'percent_change_24h': 0.68967203, 'percent_change_7d': -3.008076, 'percent_change_30d': 54.82643585, 'percent_change_60d': 22.31883755, 'percent_change_90d': 7.57278859, 'market_cap': 10140471740.660809, 'market_cap_dominance': 0.8564, 'fully_diluted_market_cap': 13884810010.85, 'tvl': None, 'last_updated': '2023-07-28T19:06:00.000Z'}}}, {'id': 1958, 'name': 'TRON', 'symbol': 'TRX', 'slug': 'tron', 'num_market_pairs': 800, 'date_added': '2017-09-13T00:00:00.000Z', 'tags': ['media', 'payments', 'tron-ecosystem', 'sec-security-token', 'alleged-sec-securities'], 'max_supply': None, 'circulating_supply': 89639497837.12401, 'total_supply': 89639541265.2777, 'infinite_supply': True, 'platform': None, 'cmc_rank': 10, 'self_reported_circulating_supply': 71659659264, 'self_reported_market_cap': 6008649142.949393, 'tvl_ratio': None, 'last_updated': '2023-07-28T19:06:00.000Z', 'quote': {'USD': {'price': 0.08384981459112222, 'volume_24h': 202828568.05203253, 'volume_change_24h': -7.923, 'percent_change_1h': 0.0636671, 'percent_change_24h': 1.86082692, 'percent_change_7d': 3.32486747, 'percent_change_30d': 13.05418041, 'percent_change_60d': 9.22532615, 'percent_change_90d': 24.62244571, 'market_cap': 7516255273.684149, 'market_cap_dominance': 0.6349, 'fully_diluted_market_cap': 7516258915.13, 'tvl': None, 'last_updated': '2023-07-28T19:06:00.000Z'}}}, {'id': 2, 'name': 'Litecoin', 'symbol': 'LTC', 'slug': 'litecoin', 'num_market_pairs': 961, 'date_added': '2013-04-28T00:00:00.000Z', 'tags': ['mineable', 'pow', 'scrypt', 'medium-of-exchange'], 'max_supply': 84000000, 'circulating_supply': 73461839.22743528, 'total_supply': 84000000, 'infinite_supply': False, 'platform': None, 'cmc_rank': 11, 'self_reported_circulating_supply': None, 'self_reported_market_cap': None, 'tvl_ratio': None, 'last_updated': '2023-07-28T19:06:00.000Z', 'quote': {'USD': {'price': 91.3086276145604, 'volume_24h': 356862932.23177737, 'volume_change_24h': -20.3952, 'percent_change_1h': 0.1693482, 'percent_change_24h': 1.44713801, 'percent_change_7d': -3.35878675, 'percent_change_30d': 7.50749736, 'percent_change_60d': 0.44291508, 'percent_change_90d': 1.01427768, 'market_cap': 6707699721.898593, 'market_cap_dominance': 0.5665, 'fully_diluted_market_cap': 7669924719.62, 'tvl': None, 'last_updated': '2023-07-28T19:06:00.000Z'}}}, {'id': 3890, 'name': 'Polygon', 'symbol': 'MATIC', 'slug': 'polygon', 'num_market_pairs': 787, 'date_added': '2019-04-28T00:00:00.000Z', 'tags': ['pos', 'platform', 'enterprise-solutions', 'zero-knowledge-proofs', 'scaling', 'state-channel', 'coinbase-ventures-portfolio', 'layer-2', 'binance-launchpad', 'binance-labs-portfolio', 'polygon-ecosystem', 'moonriver-ecosystem', 'injective-ecosystem', 'sec-security-token', 'alleged-sec-securities'], 'max_supply': 10000000000, 'circulating_supply': 9319469069.28493, 'total_supply': 10000000000, 'infinite_supply': False, 'platform': None, 'cmc_rank': 12, 'self_reported_circulating_supply': None, 'self_reported_market_cap': None, 'tvl_ratio': None, 'last_updated': '2023-07-28T19:06:00.000Z', 'quote': {'USD': {'price': 0.7115361518436514, 'volume_24h': 220488554.1226973, 'volume_change_24h': -15.4723, 'percent_change_1h': 0.12695364, 'percent_change_24h': -0.33900219, 'percent_change_7d': -8.53170553, 'percent_change_30d': 13.64874262, 'percent_change_60d': -22.21390402, 'percent_change_90d': -29.74303381, 'market_cap': 6631139158.784934, 'market_cap_dominance': 0.5601, 'fully_diluted_market_cap': 7115361518.44, 'tvl': None, 'last_updated': '2023-07-28T19:06:00.000Z'}}}, {'id': 6636, 'name': 'Polkadot', 'symbol': 'DOT', 'slug': 'polkadot-new', 'num_market_pairs': 543, 'date_added': '2020-08-19T00:00:00.000Z', 'tags': ['substrate', 'polkadot', 'binance-chain', 'polkadot-ecosystem', 'three-arrows-capital-portfolio', 'polychain-capital-portfolio', 'arrington-xrp-capital-portfolio', 'blockchain-capital-portfolio', 'boostvc-portfolio', 'cms-holdings-portfolio', 'coinfund-portfolio', 'fabric-ventures-portfolio', 'fenbushi-capital-portfolio', 'hashkey-capital-portfolio', 'kenetic-capital-portfolio', '1confirmation-portfolio', 'placeholder-ventures-portfolio', 'pantera-capital-portfolio', 'exnetwork-capital-portfolio', 'web3', 'spartan-group', 'injective-ecosystem', 'bnb-chain', 'layer-1'], 'max_supply': None, 'circulating_supply': 1209527991.0064929, 'total_supply': 1339006868.3116727, 'infinite_supply': True, 'platform': None, 'cmc_rank': 13, 'self_reported_circulating_supply': None, 'self_reported_market_cap': None, 'tvl_ratio': None, 'last_updated': '2023-07-28T19:06:00.000Z', 'quote': {'USD': {'price': 5.214167971276342, 'volume_24h': 99520546.40347618, 'volume_change_24h': -4.1723, 'percent_change_1h': 0.13130911, 'percent_change_24h': 0.30825463, 'percent_change_7d': -5.34069475, 'percent_change_30d': 5.82707519, 'percent_change_60d': -4.69570679, 'percent_change_90d': -13.00012844, 'market_cap': 6306682111.0682745, 'market_cap_dominance': 0.5327, 'fully_diluted_market_cap': 6981806726.07, 'tvl': None, 'last_updated': '2023-07-28T19:06:00.000Z'}}}, {'id': 5994, 'name': 'Shiba Inu', 'symbol': 'SHIB', 'slug': 'shiba-inu', 'num_market_pairs': 576, 'date_added': '2020-08-01T00:00:00.000Z', 'tags': ['memes', 'ethereum-ecosystem', 'doggone-doggerel'], 'max_supply': None, 'circulating_supply': 589346914631298.1, 'total_supply': 589589040239379.6, 'platform': {'id': 1027, 'name': 'Ethereum', 'symbol': 'ETH', 'slug': 'ethereum', 'token_address': '0x95ad61b0a150d79219dcf64e1e6cc01f0b64c4ce'}, 'infinite_supply': False, 'cmc_rank': 14, 'self_reported_circulating_supply': None, 'self_reported_market_cap': None, 'tvl_ratio': None, 'last_updated': '2023-07-28T19:06:00.000Z', 'quote': {'USD': {'price': 8.2814148486882e-06, 'volume_24h': 192955960.57124707, 'volume_change_24h': 166.428, 'percent_change_1h': 0.19859339, 'percent_change_24h': 6.67733998, 'percent_change_7d': 5.66991792, 'percent_change_30d': 13.34268324, 'percent_change_60d': -5.65728113, 'percent_change_90d': -19.32232618, 'market_cap': 4880626289.85621, 'market_cap_dominance': 0.4123, 'fully_diluted_market_cap': 4882631432.46, 'tvl': None, 'last_updated': '2023-07-28T19:06:00.000Z'}}}, {'id': 3717, 'name': 'Wrapped Bitcoin', 'symbol': 'WBTC', 'slug': 'wrapped-bitcoin', 'num_market_pairs': 1305, 'date_added': '2019-01-30T00:00:00.000Z', 'tags': ['medium-of-exchange', 'defi', 'wrapped-tokens', 'fantom-ecosystem', 'arbitrum-ecosytem', 'moonriver-ecosystem', 'optimism-ecosystem', 'bitcoin-ecosystem'], 'max_supply': None, 'circulating_supply': 161560.66774019, 'total_supply': 161560.66774019, 'platform': {'id': 1027, 'name': 'Ethereum', 'symbol': 'ETH', 'slug': 'ethereum', 'token_address': '0x2260fac5e5542a773aa44fbcfedf7c193bc2c599'}, 'infinite_supply': False, 'cmc_rank': 15, 'self_reported_circulating_supply': None, 'self_reported_market_cap': None, 'tvl_ratio': None, 'last_updated': '2023-07-28T19:06:00.000Z', 'quote': {'USD': {'price': 29314.935217187103, 'volume_24h': 109247814.12029758, 'volume_change_24h': -6.009, 'percent_change_1h': 0.12039275, 'percent_change_24h': 0.4949175, 'percent_change_7d': -2.2008741, 'percent_change_30d': -2.80276204, 'percent_change_60d': 5.82122538, 'percent_change_90d': 0.40324148, 'market_cap': 4736140508.44916, 'market_cap_dominance': 0.4, 'fully_diluted_market_cap': 4736140508.45, 'tvl': None, 'last_updated': '2023-07-28T19:06:00.000Z'}}}, {'id': 1831, 'name': 'Bitcoin Cash', 'symbol': 'BCH', 'slug': 'bitcoin-cash', 'num_market_pairs': 738, 'date_added': '2017-07-23T00:00:00.000Z', 'tags': ['mineable', 'pow', 'sha-256', 'marketplace', 'medium-of-exchange', 'store-of-value', 'enterprise-solutions', 'payments', 'bitcoin-ecosystem', 'layer-1'], 'max_supply': 21000000, 'circulating_supply': 19461037.5, 'total_supply': 19461037.5, 'infinite_supply': False, 'platform': None, 'cmc_rank': 16, 'self_reported_circulating_supply': None, 'self_reported_market_cap': None, 'tvl_ratio': None, 'last_updated': '2023-07-28T19:06:00.000Z', 'quote': {'USD': {'price': 242.48345811386625, 'volume_24h': 145924488.8125365, 'volume_change_24h': -39.1563, 'percent_change_1h': 0.20085773, 'percent_change_24h': 0.12499661, 'percent_change_7d': -1.5951182, 'percent_change_30d': 6.56170413, 'percent_change_60d': 109.92869464, 'percent_change_90d': 103.38593532, 'market_cap': 4718979671.48363, 'market_cap_dominance': 0.3986, 'fully_diluted_market_cap': 5092152620.39, 'tvl': None, 'last_updated': '2023-07-28T19:06:00.000Z'}}}, {'id': 5805, 'name': 'Avalanche', 'symbol': 'AVAX', 'slug': 'avalanche', 'num_market_pairs': 474, 'date_added': '2020-07-13T00:00:00.000Z', 'tags': ['defi', 'smart-contracts', 'three-arrows-capital-portfolio', 'polychain-capital-portfolio', 'avalanche-ecosystem', 'cms-holdings-portfolio', 'dragonfly-capital-portfolio', 'moonriver-ecosystem', 'injective-ecosystem', 'layer-1'], 'max_supply': 720000000, 'circulating_supply': 346014905.3990191, 'total_supply': 432734355.3990191, 'infinite_supply': False, 'platform': None, 'cmc_rank': 17, 'self_reported_circulating_supply': None, 'self_reported_market_cap': None, 'tvl_ratio': None, 'last_updated': '2023-07-28T19:06:00.000Z', 'quote': {'USD': {'price': 13.200198514905223, 'volume_24h': 81098810.45237184, 'volume_change_24h': -25.2669, 'percent_change_1h': 0.23147554, 'percent_change_24h': 0.91839513, 'percent_change_7d': -5.67595094, 'percent_change_30d': 5.0501192, 'percent_change_60d': -8.65156843, 'percent_change_90d': -24.74563199, 'market_cap': 4567465440.3832035, 'market_cap_dominance': 0.3858, 'fully_diluted_market_cap': 9504142930.73, 'tvl': None, 'last_updated': '2023-07-28T19:06:00.000Z'}}}, {'id': 4943, 'name': 'Dai', 'symbol': 'DAI', 'slug': 'multi-collateral-dai', 'num_market_pairs': 2482, 'date_added': '2019-11-22T00:00:00.000Z', 'tags': ['defi', 'stablecoin', 'asset-backed-stablecoin', 'ethereum-ecosystem', 'avalanche-ecosystem', 'polygon-ecosystem', 'fantom-ecosystem', 'arbitrum-ecosytem', 'harmony-ecosystem', 'moonriver-ecosystem', 'bnb-chain', 'usd-stablecoin', 'optimism-ecosystem'], 'max_supply': None, 'circulating_supply': 4540071460.798967, 'total_supply': 4540071460.798967, 'platform': {'id': 1027, 'name': 'Ethereum', 'symbol': 'ETH', 'slug': 'ethereum', 'token_address': '0x6b175474e89094c44da98b954eedeac495271d0f'}, 'infinite_supply': True, 'cmc_rank': 18, 'self_reported_circulating_supply': None, 'self_reported_market_cap': None, 'tvl_ratio': None, 'last_updated': '2023-07-28T19:06:00.000Z', 'quote': {'USD': {'price': 1.000032254532972, 'volume_24h': 78340305.99808848, 'volume_change_24h': 0.1267, 'percent_change_1h': 0.06591149, 'percent_change_24h': 0.10305105, 'percent_change_7d': 0.02376001, 'percent_change_30d': 0.08109787, 'percent_change_60d': 0.03095562, 'percent_change_90d': 0.01476367, 'market_cap': 4540217898.683596, 'market_cap_dominance': 0.3835, 'fully_diluted_market_cap': 4540217898.68, 'tvl': None, 'last_updated': '2023-07-28T19:06:00.000Z'}}}, {'id': 11419, 'name': 'Toncoin', 'symbol': 'TON', 'slug': 'toncoin', 'num_market_pairs': 122, 'date_added': '2021-08-26T13:40:22.000Z', 'tags': ['pos'], 'max_supply': None, 'circulating_supply': 3431892087.62, 'total_supply': 5047558528, 'infinite_supply': True, 'platform': None, 'cmc_rank': 19, 'self_reported_circulating_supply': 3414166606, 'self_reported_market_cap': 4397937161.090721, 'tvl_ratio': None, 'last_updated': '2023-07-28T19:06:00.000Z', 'quote': {'USD': {'price': 1.2881436873531182, 'volume_24h': 41729230.14830225, 'volume_change_24h': 6.3942, 'percent_change_1h': 0.12759923, 'percent_change_24h': -2.0063893, 'percent_change_7d': -10.78669377, 'percent_change_30d': -6.83728569, 'percent_change_60d': -32.38718527, 'percent_change_90d': -40.59280953, 'market_cap': 4420770128.344817, 'market_cap_dominance': 0.3733, 'fully_diluted_market_cap': 6501980654.39, 'tvl': None, 'last_updated': '2023-07-28T19:06:00.000Z'}}}, {'id': 512, 'name': 'Stellar', 'symbol': 'XLM', 'slug': 'stellar', 'num_market_pairs': 507, 'date_added': '2014-08-05T00:00:00.000Z', 'tags': ['medium-of-exchange', 'enterprise-solutions', 'decentralized-exchange-dex-token', 'smart-contracts', 'hashkey-capital-portfolio'], 'max_supply': 50001806812, 'circulating_supply': 27279529282.174603, 'total_supply': 50001787265.47362, 'infinite_supply': False, 'platform': None, 'cmc_rank': 20, 'self_reported_circulating_supply': None, 'self_reported_market_cap': None, 'tvl_ratio': None, 'last_updated': '2023-07-28T19:06:00.000Z', 'quote': {'USD': {'price': 0.16180911928520644, 'volume_24h': 290461336.7228564, 'volume_change_24h': -28.8223, 'percent_change_1h': -0.75210152, 'percent_change_24h': 2.04379328, 'percent_change_7d': 0.64070292, 'percent_change_30d': 58.04519459, 'percent_change_60d': 81.60838653, 'percent_change_90d': 70.56456349, 'market_cap': 4414076607.663672, 'market_cap_dominance': 0.3728, 'fully_diluted_market_cap': 8090748322.92, 'tvl': None, 'last_updated': '2023-07-28T19:06:00.000Z'}}}]}\n"
     ]
    }
   ],
   "source": [
    "n_coins = 20\n",
    "save_dir = \"./new_data\"\n",
    "top_coins(n_coins, save_dir)"
   ]
  },
  {
   "cell_type": "markdown",
   "metadata": {},
   "source": [
    "### Create the object with the wanted number of coins to search\n",
    "- Scrape the data of the tokens\n",
    "\n",
    "### Attention!\n",
    "The scripts extracts the top_100.pickle to get the top 100 tokens. The tokens can change from one day to another so you should regularly update the tokens and the order of the top 100 tokens and create a new top_100.pickle"
   ]
  },
  {
   "cell_type": "code",
   "execution_count": 4,
   "metadata": {},
   "outputs": [],
   "source": [
    "crypto_class_20c = cc.Cryptos(top_100, budget, n_coins, hodl, save_dir)"
   ]
  },
  {
   "cell_type": "code",
   "execution_count": 5,
   "metadata": {},
   "outputs": [],
   "source": [
    "scrap = False\n",
    "\n",
    "if scrap:\n",
    "    crypto_class_20c.get_prices_df()\n",
    "    crypto_class_20c.get_market_cap_df()"
   ]
  },
  {
   "cell_type": "markdown",
   "metadata": {},
   "source": [
    "- Validate the results from before n_days"
   ]
  },
  {
   "cell_type": "code",
   "execution_count": 6,
   "metadata": {},
   "outputs": [
    {
     "name": "stdout",
     "output_type": "stream",
     "text": [
      "Expected annual return: 388.3%\n",
      "Annual volatility: 90.4%\n",
      "Sharpe Ratio: 4.27\n",
      "Invest 100.0\n",
      "\n",
      " Profit Loss: -18.794886996393814e\n",
      "\n",
      "  Coin  Amount   n_coins\n",
      "1  BNB   71.97  0.265079\n",
      "0  SOL   28.03  0.695398\n"
     ]
    }
   ],
   "source": [
    "n_coins = 20\n",
    "crypto_class_20c.validate_from_past(n_coins, n_days, mu_method, cov_method, obj_function, drop)\n",
    "print(crypto_class_20c.portfolio_from_past)"
   ]
  },
  {
   "cell_type": "markdown",
   "metadata": {},
   "source": [
    "- Find the best performing tokens"
   ]
  },
  {
   "cell_type": "code",
   "execution_count": 7,
   "metadata": {},
   "outputs": [
    {
     "name": "stdout",
     "output_type": "stream",
     "text": [
      "Expected annual return: 261.9%\n",
      "Annual volatility: 50.0%\n",
      "Sharpe Ratio: 5.20\n",
      "Invest 100.0\n",
      "\n",
      "n_coins = 20\n",
      "\n",
      "  Coin  Amount   n_coins\n",
      "0  BNB   100.0  0.415803\n"
     ]
    }
   ],
   "source": [
    "crypto_class_20c.optimize_portfolio(n_coins, mu_method, cov_method, obj_function, drop)\n",
    "print(f'\\nn_coins = {n_coins}\\n')\n",
    "print(crypto_class_20c.portfolio)"
   ]
  },
  {
   "cell_type": "markdown",
   "metadata": {},
   "source": [
    "## Blue chip portfolio"
   ]
  },
  {
   "cell_type": "code",
   "execution_count": 8,
   "metadata": {},
   "outputs": [
    {
     "name": "stdout",
     "output_type": "stream",
     "text": [
      "Expected annual return: 126.2%\n",
      "Annual volatility: 50.3%\n",
      "Sharpe Ratio: 2.47\n",
      "Invest 100.0\n",
      "\n",
      "n_coins = 2\n",
      "\n",
      "  Coin  Amount   n_coins\n",
      "0  ETH   100.0  0.053753\n"
     ]
    }
   ],
   "source": [
    "n_coins = 2\n",
    "obj_function = 'quadratic'\n",
    "\n",
    "crypto_class_2c = cc.Cryptos(top_100, budget, n_coins, hodl, save_dir)\n",
    "crypto_class_2c.optimize_portfolio(n_coins, mu_method, cov_method, obj_function, drop)\n",
    "print(f'\\nn_coins = {n_coins}\\n')\n",
    "print(crypto_class_2c.portfolio)"
   ]
  },
  {
   "cell_type": "code",
   "execution_count": 9,
   "metadata": {},
   "outputs": [
    {
     "name": "stdout",
     "output_type": "stream",
     "text": [
      "Expected annual return: 149.6%\n",
      "Annual volatility: 101.8%\n",
      "Sharpe Ratio: 1.45\n",
      "Invest 100.0\n",
      "\n",
      " Profit Loss: 13.697593818799318e\n",
      "\n",
      "  Coin  Amount   n_coins\n",
      "0  ETH   100.0  0.061116\n"
     ]
    }
   ],
   "source": [
    "crypto_class_2c.validate_from_past(n_coins, n_days, mu_method, cov_method, obj_function, drop)\n",
    "print(crypto_class_2c.portfolio_from_past)"
   ]
  },
  {
   "cell_type": "code",
   "execution_count": 10,
   "metadata": {},
   "outputs": [
    {
     "name": "stdout",
     "output_type": "stream",
     "text": [
      "Expected annual return: 261.9%\n",
      "Annual volatility: 50.0%\n",
      "Sharpe Ratio: 5.20\n",
      "Invest 100.0\n",
      "\n",
      "n_coins = 10\n",
      "\n",
      "  Coin  Amount   n_coins\n",
      "0  BNB   100.0  0.415803\n"
     ]
    }
   ],
   "source": [
    "n_coins = 10\n",
    "obj_function = 'quadratic'\n",
    "\n",
    "crypto_class_10c = cc.Cryptos(top_100, budget, n_coins, hodl, save_dir)\n",
    "crypto_class_10c.optimize_portfolio(n_coins, mu_method, cov_method, obj_function, drop)\n",
    "print(f'\\nn_coins = {n_coins}\\n')\n",
    "print(crypto_class_10c.portfolio)"
   ]
  },
  {
   "cell_type": "code",
   "execution_count": 11,
   "metadata": {},
   "outputs": [
    {
     "name": "stdout",
     "output_type": "stream",
     "text": [
      "Expected annual return: 388.3%\n",
      "Annual volatility: 90.4%\n",
      "Sharpe Ratio: 4.27\n",
      "Invest 100.0\n",
      "\n",
      " Profit Loss: -18.794886996393814e\n",
      "\n",
      "  Coin  Amount   n_coins\n",
      "1  BNB   71.97  0.265079\n",
      "0  SOL   28.03  0.695398\n"
     ]
    }
   ],
   "source": [
    "crypto_class_10c.validate_from_past(n_coins, n_days, mu_method, cov_method, obj_function, drop)\n",
    "print(crypto_class_10c.portfolio_from_past)"
   ]
  },
  {
   "cell_type": "code",
   "execution_count": null,
   "metadata": {},
   "outputs": [],
   "source": []
  }
 ],
 "metadata": {
  "kernelspec": {
   "display_name": "Python 3",
   "language": "python",
   "name": "python3"
  },
  "language_info": {
   "codemirror_mode": {
    "name": "ipython",
    "version": 3
   },
   "file_extension": ".py",
   "mimetype": "text/x-python",
   "name": "python",
   "nbconvert_exporter": "python",
   "pygments_lexer": "ipython3",
   "version": "3.8.5"
  }
 },
 "nbformat": 4,
 "nbformat_minor": 4
}
