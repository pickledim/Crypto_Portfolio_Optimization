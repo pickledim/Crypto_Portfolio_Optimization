{
 "cells": [
  {
   "cell_type": "markdown",
   "metadata": {},
   "source": [
    "# Crypto Portfolio \n",
    "\n",
    "## Introduction\n",
    "\n",
    "The idea behind this project is to find an efficient way to trace the crypto market and buy the best performing tokens. The algorithm scrapes data from coinmarketcap and performs a convex optimization in order to find the best performing tokens.\n",
    "\n",
    "### Import the crypto class"
   ]
  },
  {
   "cell_type": "code",
   "execution_count": 1,
   "metadata": {},
   "outputs": [],
   "source": [
    "import sys\n",
    "sys.path.append(\"../\")\n",
    "\n",
    "\n",
    "from app_wrapper import run_app\n",
    "\n",
    "from ipysheet import from_dataframe"
   ]
  },
  {
   "cell_type": "markdown",
   "metadata": {},
   "source": [
    "### Inputs\n",
    "\n",
    "- top_100: Boolean, If you want the top 100 tokens by market cap\n",
    "- n_days: For validation purposes --> checks the profit of the suggested results from n_days before\n",
    "- mu_method: mean-->'mean' annualised mean (daily) historical return from input (daily) token prices\n",
    "   - choices: [mean, exp, capm]\n",
    "- cov_method: sample --> annualised sample covariance matrix of (daily) token returns\n",
    "   - choices: [sample, exp]\n",
    "- obj_function: the objective function of the base convex Optimization\n",
    "   - choices: [sharpe, quadratic, min_volat]\n",
    "- drop: boolean decide if you want to drop the nan values of the mean values\n",
    "- budget: You investment budget\n",
    "- hodl: If you want to hold yout tokens or trade them after 1 year\n",
    "\n",
    "\n",
    "## Inputs"
   ]
  },
  {
   "cell_type": "code",
   "execution_count": 2,
   "metadata": {},
   "outputs": [],
   "source": [
    "budget = 50\n",
    "n_days = 300\n",
    "\n",
    "remove_shitcoins = True"
   ]
  },
  {
   "cell_type": "markdown",
   "metadata": {},
   "source": [
    "## Top 20 tokens"
   ]
  },
  {
   "cell_type": "code",
   "execution_count": 3,
   "metadata": {
    "scrolled": false
   },
   "outputs": [
    {
     "name": "stdout",
     "output_type": "stream",
     "text": [
      "Expected annual return: 308.3%\n",
      "Annual volatility: 89.8%\n",
      "Sharpe Ratio: 3.41\n",
      "Invest 50.0\n",
      "\n",
      " Profit Loss: -13.634486281539196e\n",
      "\n",
      "Expected annual return: 234.5%\n",
      "Annual volatility: 87.3%\n",
      "Sharpe Ratio: 2.66\n",
      "Invest 50.0\n",
      "\n",
      "Validation of optimized portfolio from 300 days before\n",
      "\n"
     ]
    },
    {
     "data": {
      "application/vnd.jupyter.widget-view+json": {
       "model_id": "1b170d64dd3d41f9b67737cdad69b813",
       "version_major": 2,
       "version_minor": 0
      },
      "text/plain": [
       "Sheet(cells=(Cell(column_end=0, column_start=0, numeric_format=None, row_end=0, row_start=0, squeeze_row=False…"
      ]
     },
     "metadata": {},
     "output_type": "display_data"
    },
    {
     "name": "stdout",
     "output_type": "stream",
     "text": [
      "\n",
      "Current optimized portfolio \n",
      "\n"
     ]
    },
    {
     "data": {
      "application/vnd.jupyter.widget-view+json": {
       "model_id": "df0e0ba9d0574a3c8e8756913953b22c",
       "version_major": 2,
       "version_minor": 0
      },
      "text/plain": [
       "Sheet(cells=(Cell(column_end=0, column_start=0, numeric_format=None, row_end=1, row_start=0, squeeze_row=False…"
      ]
     },
     "metadata": {},
     "output_type": "display_data"
    }
   ],
   "source": [
    "# Inputs\n",
    "\n",
    "\n",
    "inputs_20coins = {\n",
    "    \"top_100\": True,\n",
    "    \"n_coins\" : 20,\n",
    "    \"remove_shitcoins\" : remove_shitcoins,\n",
    "    \"budget\": budget,\n",
    "    \"scrap\" : False,\n",
    "    \"n_days\": n_days,\n",
    "    \"mu_method\": 'mean',\n",
    "    \"cov_method\" : 'exp',\n",
    "    \"obj_function\" : 'quadratic',\n",
    "    \"compounding\" : True,\n",
    "    \"save_dir\" : \"./new_data\"    \n",
    "}\n",
    "# mu_method = 'mean'\n",
    "# cov_method = 'exp'\n",
    "# obj_function = 'quadratic'\n",
    "# compounding = True\n",
    "portfolios_20c = run_app(inputs_20coins)\n",
    "\n",
    "print(f\"\\nValidation of optimized portfolio from {n_days} days before\\n\")\n",
    "display(from_dataframe(portfolios_20c.portfolio_from_past))\n",
    "\n",
    "print(f\"\\nCurrent optimized portfolio \\n\")\n",
    "display(from_dataframe(portfolios_20c.portfolio))"
   ]
  },
  {
   "cell_type": "markdown",
   "metadata": {},
   "source": [
    "## Top 10 tokens"
   ]
  },
  {
   "cell_type": "code",
   "execution_count": 4,
   "metadata": {},
   "outputs": [
    {
     "name": "stdout",
     "output_type": "stream",
     "text": [
      "Expected annual return: 308.3%\n",
      "Annual volatility: 89.8%\n",
      "Sharpe Ratio: 3.41\n",
      "Invest 50.0\n",
      "\n",
      " Profit Loss: -13.634486281539196e\n",
      "\n",
      "Expected annual return: 242.5%\n",
      "Annual volatility: 97.4%\n",
      "Sharpe Ratio: 2.47\n",
      "Invest 50.0\n",
      "\n",
      "Validation of optimized portfolio from 300 days before\n",
      "\n"
     ]
    },
    {
     "data": {
      "application/vnd.jupyter.widget-view+json": {
       "model_id": "253ef779bc174e5c87570f5367a33673",
       "version_major": 2,
       "version_minor": 0
      },
      "text/plain": [
       "Sheet(cells=(Cell(column_end=0, column_start=0, numeric_format=None, row_end=0, row_start=0, squeeze_row=False…"
      ]
     },
     "metadata": {},
     "output_type": "display_data"
    },
    {
     "name": "stdout",
     "output_type": "stream",
     "text": [
      "\n",
      "Current optimized portfolio \n",
      "\n"
     ]
    },
    {
     "data": {
      "application/vnd.jupyter.widget-view+json": {
       "model_id": "0bed0ff2525047129c6cd52f0a5269e9",
       "version_major": 2,
       "version_minor": 0
      },
      "text/plain": [
       "Sheet(cells=(Cell(column_end=0, column_start=0, numeric_format=None, row_end=0, row_start=0, squeeze_row=False…"
      ]
     },
     "metadata": {},
     "output_type": "display_data"
    }
   ],
   "source": [
    "# Inputs\n",
    "inputs_10coins = {\n",
    "    \"top_100\": True,\n",
    "    \"n_coins\" : 10,\n",
    "    \"budget\": budget,\n",
    "    \"scrap\" : False,\n",
    "    \"remove_shitcoins\" : remove_shitcoins,\n",
    "    \"n_days\": n_days,\n",
    "    \"mu_method\": 'mean',\n",
    "    \"cov_method\" : 'exp',\n",
    "    \"obj_function\" : 'quadratic',\n",
    "    \"compounding\" : True,\n",
    "    \"save_dir\" : \"./new_data\"    \n",
    "}\n",
    "# mu_method = 'mean'\n",
    "# cov_method = 'exp'\n",
    "# obj_function = 'quadratic'\n",
    "# compounding = True\n",
    "portfolios_10c = run_app(inputs_10coins)\n",
    "\n",
    "print(f\"\\nValidation of optimized portfolio from {n_days} days before\\n\")\n",
    "display(from_dataframe(portfolios_10c.portfolio_from_past))\n",
    "\n",
    "print(f\"\\nCurrent optimized portfolio \\n\")\n",
    "display(from_dataframe(portfolios_10c.portfolio))"
   ]
  },
  {
   "cell_type": "markdown",
   "metadata": {},
   "source": [
    "## Top 2 tokens"
   ]
  },
  {
   "cell_type": "code",
   "execution_count": 5,
   "metadata": {},
   "outputs": [
    {
     "name": "stdout",
     "output_type": "stream",
     "text": [
      "Expected annual return: 135.0%\n",
      "Annual volatility: 63.9%\n",
      "Sharpe Ratio: 2.08\n",
      "Invest 50.0\n",
      "\n",
      " Profit Loss: 9.439786617393567e\n",
      "\n",
      "Expected annual return: 126.5%\n",
      "Annual volatility: 49.5%\n",
      "Sharpe Ratio: 2.51\n",
      "Invest 50.0\n",
      "\n",
      "Validation of optimized portfolio from 300 days before\n",
      "\n"
     ]
    },
    {
     "data": {
      "application/vnd.jupyter.widget-view+json": {
       "model_id": "01c9cc5aab144a83bd24f986d95452d4",
       "version_major": 2,
       "version_minor": 0
      },
      "text/plain": [
       "Sheet(cells=(Cell(column_end=0, column_start=0, numeric_format=None, row_end=0, row_start=0, squeeze_row=False…"
      ]
     },
     "metadata": {},
     "output_type": "display_data"
    },
    {
     "name": "stdout",
     "output_type": "stream",
     "text": [
      "\n",
      "Current optimized portfolio \n",
      "\n"
     ]
    },
    {
     "data": {
      "application/vnd.jupyter.widget-view+json": {
       "model_id": "130d188f26cb4da8a19848393188f635",
       "version_major": 2,
       "version_minor": 0
      },
      "text/plain": [
       "Sheet(cells=(Cell(column_end=0, column_start=0, numeric_format=None, row_end=0, row_start=0, squeeze_row=False…"
      ]
     },
     "metadata": {},
     "output_type": "display_data"
    }
   ],
   "source": [
    "# Inputs\n",
    "inputs_2coins = {\n",
    "    \"top_100\": True,\n",
    "    \"n_coins\" : 2,\n",
    "    \"budget\": budget,\n",
    "    \"scrap\" : False,\n",
    "    \"remove_shitcoins\" : remove_shitcoins,\n",
    "    \"n_days\": n_days,\n",
    "    \"mu_method\": 'capm',\n",
    "    \"cov_method\" : 'exp',\n",
    "    \"obj_function\" : 'quadratic',\n",
    "    \"compounding\" : False,\n",
    "    \"save_dir\" : \"./new_data\"    \n",
    "}\n",
    "# mu_method = 'capm'\n",
    "# cov_method = 'exp'\n",
    "# obj_function = 'quadratic'\n",
    "# compounding = False\n",
    "portfolios_2c = run_app(inputs_2coins)\n",
    "\n",
    "print(f\"\\nValidation of optimized portfolio from {n_days} days before\\n\")\n",
    "display(from_dataframe(portfolios_2c.portfolio_from_past))\n",
    "\n",
    "print(f\"\\nCurrent optimized portfolio \\n\")\n",
    "display(from_dataframe(portfolios_2c.portfolio))"
   ]
  },
  {
   "cell_type": "code",
   "execution_count": null,
   "metadata": {},
   "outputs": [],
   "source": []
  }
 ],
 "metadata": {
  "kernelspec": {
   "display_name": "Python 3",
   "language": "python",
   "name": "python3"
  },
  "language_info": {
   "codemirror_mode": {
    "name": "ipython",
    "version": 3
   },
   "file_extension": ".py",
   "mimetype": "text/x-python",
   "name": "python",
   "nbconvert_exporter": "python",
   "pygments_lexer": "ipython3",
   "version": "3.8.5"
  }
 },
 "nbformat": 4,
 "nbformat_minor": 4
}
