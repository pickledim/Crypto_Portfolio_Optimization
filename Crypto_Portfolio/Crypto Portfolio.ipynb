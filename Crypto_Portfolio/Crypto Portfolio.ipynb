{
 "cells": [
  {
   "cell_type": "markdown",
   "metadata": {},
   "source": [
    "# Crypto Portfolio \n",
    "\n",
    "## Introduction\n",
    "\n",
    "The idea behind this project is to find an efficient way to trace the crypto market and buy the best performing tokens. The algorithm scrapes data from coinmarketcap and performs a convex optimization in order to find the best performing tokens.\n",
    "\n",
    "### Import the crypto class"
   ]
  },
  {
   "cell_type": "code",
   "execution_count": 1,
   "metadata": {},
   "outputs": [],
   "source": [
    "import sys\n",
    "sys.path.append(\"../\")\n",
    "from get_portfolio import run_from_json"
   ]
  },
  {
   "cell_type": "markdown",
   "metadata": {},
   "source": [
    "### Inputs\n",
    "\n",
    "- top_100: Boolean, If you want the top 100 tokens by market cap\n",
    "- n_days: For validation purposes --> checks the profit of the suggested results from n_days before\n",
    "- mu_method: mean-->'mean' annualised mean (daily) historical return from input (daily) token prices\n",
    "   - choices: [mean, exp, capm]\n",
    "- cov_method: sample --> annualised sample covariance matrix of (daily) token returns\n",
    "   - choices: [sample, exp]\n",
    "- obj_function: the objective function of the base convex Optimization\n",
    "   - choices: [sharpe, quadratic, min_volat]\n",
    "- drop: boolean decide if you want to drop the nan values of the mean values\n",
    "- budget: You investment budget\n",
    "- hodl: If you want to hold yout tokens or trade them after 1 year\n",
    "\n",
    "\n",
    "## Top 20 tokens"
   ]
  },
  {
   "cell_type": "code",
   "execution_count": 2,
   "metadata": {},
   "outputs": [
    {
     "name": "stdout",
     "output_type": "stream",
     "text": [
      "{'status': {'timestamp': '2023-08-04T21:31:31.640Z', 'error_code': 0, 'error_message': None, 'elapsed': 18, 'credit_count': 1, 'notice': None, 'total_count': 9785}, 'data': [{'id': 1, 'name': 'Bitcoin', 'symbol': 'BTC', 'slug': 'bitcoin', 'num_market_pairs': 10382, 'date_added': '2010-07-13T00:00:00.000Z', 'tags': ['mineable', 'pow', 'sha-256', 'store-of-value', 'state-channel', 'coinbase-ventures-portfolio', 'three-arrows-capital-portfolio', 'polychain-capital-portfolio', 'binance-labs-portfolio', 'blockchain-capital-portfolio', 'boostvc-portfolio', 'cms-holdings-portfolio', 'dcg-portfolio', 'dragonfly-capital-portfolio', 'electric-capital-portfolio', 'fabric-ventures-portfolio', 'framework-ventures-portfolio', 'galaxy-digital-portfolio', 'huobi-capital-portfolio', 'alameda-research-portfolio', 'a16z-portfolio', '1confirmation-portfolio', 'winklevoss-capital-portfolio', 'usv-portfolio', 'placeholder-ventures-portfolio', 'pantera-capital-portfolio', 'multicoin-capital-portfolio', 'paradigm-portfolio', 'bitcoin-ecosystem'], 'max_supply': 21000000, 'circulating_supply': 19448006, 'total_supply': 19448006, 'infinite_supply': False, 'platform': None, 'cmc_rank': 1, 'self_reported_circulating_supply': None, 'self_reported_market_cap': None, 'tvl_ratio': None, 'last_updated': '2023-08-04T21:29:00.000Z', 'quote': {'USD': {'price': 29015.758366916252, 'volume_24h': 12297438378.962732, 'volume_change_24h': -2.273, 'percent_change_1h': -0.09427043, 'percent_change_24h': -0.9046477, 'percent_change_7d': -1.15427888, 'percent_change_30d': -4.82034143, 'percent_change_60d': 13.34453482, 'percent_change_90d': 0.67520373, 'market_cap': 564298642814.3375, 'market_cap_dominance': 48.7006, 'fully_diluted_market_cap': 609330925705.24, 'tvl': None, 'last_updated': '2023-08-04T21:29:00.000Z'}}}, {'id': 1027, 'name': 'Ethereum', 'symbol': 'ETH', 'slug': 'ethereum', 'num_market_pairs': 7209, 'date_added': '2015-08-07T00:00:00.000Z', 'tags': ['pos', 'smart-contracts', 'ethereum-ecosystem', 'coinbase-ventures-portfolio', 'three-arrows-capital-portfolio', 'polychain-capital-portfolio', 'binance-labs-portfolio', 'blockchain-capital-portfolio', 'boostvc-portfolio', 'cms-holdings-portfolio', 'dcg-portfolio', 'dragonfly-capital-portfolio', 'electric-capital-portfolio', 'fabric-ventures-portfolio', 'framework-ventures-portfolio', 'hashkey-capital-portfolio', 'kenetic-capital-portfolio', 'huobi-capital-portfolio', 'alameda-research-portfolio', 'a16z-portfolio', '1confirmation-portfolio', 'winklevoss-capital-portfolio', 'usv-portfolio', 'placeholder-ventures-portfolio', 'pantera-capital-portfolio', 'multicoin-capital-portfolio', 'paradigm-portfolio', 'injective-ecosystem', 'layer-1'], 'max_supply': None, 'circulating_supply': 120168132.28186291, 'total_supply': 120168132.28186291, 'infinite_supply': True, 'platform': None, 'cmc_rank': 2, 'self_reported_circulating_supply': None, 'self_reported_market_cap': None, 'tvl_ratio': None, 'last_updated': '2023-08-04T21:29:00.000Z', 'quote': {'USD': {'price': 1827.028859088214, 'volume_24h': 5057559055.690687, 'volume_change_24h': 10.3902, 'percent_change_1h': -0.22195651, 'percent_change_24h': -0.88981891, 'percent_change_7d': -2.66482792, 'percent_change_30d': -4.50622704, 'percent_change_60d': 1.43806391, 'percent_change_90d': -3.71554865, 'market_cap': 219550645621.69357, 'market_cap_dominance': 18.9489, 'fully_diluted_market_cap': 219550645621.69, 'tvl': None, 'last_updated': '2023-08-04T21:29:00.000Z'}}}, {'id': 825, 'name': 'Tether USDt', 'symbol': 'USDT', 'slug': 'tether', 'num_market_pairs': 58421, 'date_added': '2015-02-25T00:00:00.000Z', 'tags': ['payments', 'stablecoin', 'asset-backed-stablecoin', 'avalanche-ecosystem', 'solana-ecosystem', 'arbitrum-ecosytem', 'moonriver-ecosystem', 'injective-ecosystem', 'bnb-chain', 'usd-stablecoin', 'optimism-ecosystem'], 'max_supply': None, 'circulating_supply': 83897131247.43085, 'total_supply': 86706257841.30522, 'platform': {'id': 1027, 'name': 'Ethereum', 'symbol': 'ETH', 'slug': 'ethereum', 'token_address': '0xdac17f958d2ee523a2206206994597c13d831ec7'}, 'infinite_supply': True, 'cmc_rank': 3, 'self_reported_circulating_supply': None, 'self_reported_market_cap': None, 'tvl_ratio': None, 'last_updated': '2023-08-04T21:29:00.000Z', 'quote': {'USD': {'price': 0.998682212620929, 'volume_24h': 20839292737.65733, 'volume_change_24h': 5.4968, 'percent_change_1h': 0.0034369, 'percent_change_24h': -0.05364556, 'percent_change_7d': -0.13321227, 'percent_change_30d': -0.13571772, 'percent_change_60d': -0.16336847, 'percent_change_90d': -0.31214007, 'market_cap': 83786572666.73273, 'market_cap_dominance': 7.2305, 'fully_diluted_market_cap': 86591997429.04, 'tvl': None, 'last_updated': '2023-08-04T21:29:00.000Z'}}}, {'id': 1839, 'name': 'BNB', 'symbol': 'BNB', 'slug': 'bnb', 'num_market_pairs': 1554, 'date_added': '2017-07-25T00:00:00.000Z', 'tags': ['marketplace', 'centralized-exchange', 'payments', 'smart-contracts', 'alameda-research-portfolio', 'multicoin-capital-portfolio', 'bnb-chain', 'layer-1', 'sec-security-token', 'alleged-sec-securities', 'celsius-bankruptcy-estate'], 'max_supply': None, 'circulating_supply': 153854612.5080046, 'total_supply': 153854612.5080046, 'infinite_supply': False, 'platform': None, 'cmc_rank': 4, 'self_reported_circulating_supply': None, 'self_reported_market_cap': None, 'tvl_ratio': None, 'last_updated': '2023-08-04T21:29:00.000Z', 'quote': {'USD': {'price': 241.55820677140363, 'volume_24h': 375755897.82399595, 'volume_change_24h': -7.9532, 'percent_change_1h': 0.00233898, 'percent_change_24h': 0.23218423, 'percent_change_7d': -0.34685496, 'percent_change_30d': 1.06295015, 'percent_change_60d': -11.71225269, 'percent_change_90d': -25.24046199, 'market_cap': 37164844300.94276, 'market_cap_dominance': 3.2076, 'fully_diluted_market_cap': 37164844300.94, 'tvl': None, 'last_updated': '2023-08-04T21:29:00.000Z'}}}, {'id': 52, 'name': 'XRP', 'symbol': 'XRP', 'slug': 'xrp', 'num_market_pairs': 1019, 'date_added': '2013-08-04T00:00:00.000Z', 'tags': ['medium-of-exchange', 'enterprise-solutions', 'arrington-xrp-capital-portfolio', 'galaxy-digital-portfolio', 'a16z-portfolio', 'pantera-capital-portfolio'], 'max_supply': 100000000000, 'circulating_supply': 52741286353, 'total_supply': 99988538151, 'infinite_supply': False, 'platform': None, 'cmc_rank': 5, 'self_reported_circulating_supply': None, 'self_reported_market_cap': None, 'tvl_ratio': None, 'last_updated': '2023-08-04T21:29:00.000Z', 'quote': {'USD': {'price': 0.6373635412835826, 'volume_24h': 1307471362.696213, 'volume_change_24h': -3.1725, 'percent_change_1h': -2.56716783, 'percent_change_24h': -5.16676713, 'percent_change_7d': -10.50187916, 'percent_change_30d': 33.36548437, 'percent_change_60d': 27.04706495, 'percent_change_90d': 39.20364394, 'market_cap': 33615373041.79957, 'market_cap_dominance': 2.9013, 'fully_diluted_market_cap': 63736354128.36, 'tvl': None, 'last_updated': '2023-08-04T21:29:00.000Z'}}}, {'id': 3408, 'name': 'USD Coin', 'symbol': 'USDC', 'slug': 'usd-coin', 'num_market_pairs': 13523, 'date_added': '2018-10-08T00:00:00.000Z', 'tags': ['medium-of-exchange', 'stablecoin', 'asset-backed-stablecoin', 'hedera-hashgraph-ecosystem', 'fantom-ecosystem', 'arbitrum-ecosytem', 'moonriver-ecosystem', 'bnb-chain', 'usd-stablecoin', 'optimism-ecosystem'], 'max_supply': None, 'circulating_supply': 26022382899.47905, 'total_supply': 26022382899.47905, 'platform': {'id': 1027, 'name': 'Ethereum', 'symbol': 'ETH', 'slug': 'ethereum', 'token_address': '0xa0b86991c6218b36c1d19d4a2e9eb0ce3606eb48'}, 'infinite_supply': False, 'cmc_rank': 6, 'self_reported_circulating_supply': None, 'self_reported_market_cap': None, 'tvl_ratio': None, 'last_updated': '2023-08-04T21:29:00.000Z', 'quote': {'USD': {'price': 0.9999378718904579, 'volume_24h': 3141622933.161006, 'volume_change_24h': 7.0768, 'percent_change_1h': 0.0032929, 'percent_change_24h': -0.01372077, 'percent_change_7d': -0.01664094, 'percent_change_30d': 0.00189711, 'percent_change_60d': -0.00390924, 'percent_change_90d': -0.01194707, 'market_cap': 26020766178.023724, 'market_cap_dominance': 2.2455, 'fully_diluted_market_cap': 26020766178.02, 'tvl': None, 'last_updated': '2023-08-04T21:29:00.000Z'}}}, {'id': 74, 'name': 'Dogecoin', 'symbol': 'DOGE', 'slug': 'dogecoin', 'num_market_pairs': 762, 'date_added': '2013-12-15T00:00:00.000Z', 'tags': ['mineable', 'pow', 'scrypt', 'medium-of-exchange', 'memes', 'payments', 'doggone-doggerel', 'bnb-chain'], 'max_supply': None, 'circulating_supply': 140456406383.70523, 'total_supply': 140456406383.70523, 'infinite_supply': True, 'platform': None, 'cmc_rank': 7, 'self_reported_circulating_supply': None, 'self_reported_market_cap': None, 'tvl_ratio': None, 'last_updated': '2023-08-04T21:29:00.000Z', 'quote': {'USD': {'price': 0.07335442073474299, 'volume_24h': 322334856.2963812, 'volume_change_24h': -14.0012, 'percent_change_1h': -0.45226062, 'percent_change_24h': -1.41140362, 'percent_change_7d': -5.48289642, 'percent_change_30d': 9.57575058, 'percent_change_60d': 11.11485532, 'percent_change_90d': -4.85127042, 'market_cap': 10303098328.760355, 'market_cap_dominance': 0.8891, 'fully_diluted_market_cap': 10303098328.76, 'tvl': None, 'last_updated': '2023-08-04T21:29:00.000Z'}}}, {'id': 2010, 'name': 'Cardano', 'symbol': 'ADA', 'slug': 'cardano', 'num_market_pairs': 886, 'date_added': '2017-10-01T00:00:00.000Z', 'tags': ['dpos', 'pos', 'platform', 'research', 'smart-contracts', 'staking', 'cardano-ecosystem', 'cardano', 'layer-1', 'sec-security-token', 'alleged-sec-securities'], 'max_supply': 45000000000, 'circulating_supply': 35017552244.828, 'total_supply': 36045784123.046, 'infinite_supply': False, 'platform': None, 'cmc_rank': 8, 'self_reported_circulating_supply': None, 'self_reported_market_cap': None, 'tvl_ratio': None, 'last_updated': '2023-08-04T21:29:00.000Z', 'quote': {'USD': {'price': 0.2930698277089459, 'volume_24h': 236009096.10048553, 'volume_change_24h': -19.838, 'percent_change_1h': -0.29097477, 'percent_change_24h': -0.42811349, 'percent_change_7d': -5.85766619, 'percent_change_30d': 3.08961237, 'percent_change_60d': -16.01951496, 'percent_change_90d': -22.83026869, 'market_cap': 10262588003.180756, 'market_cap_dominance': 0.8857, 'fully_diluted_market_cap': 13188142246.9, 'tvl': None, 'last_updated': '2023-08-04T21:29:00.000Z'}}}, {'id': 5426, 'name': 'Solana', 'symbol': 'SOL', 'slug': 'solana', 'num_market_pairs': 496, 'date_added': '2020-04-10T00:00:00.000Z', 'tags': ['pos', 'platform', 'solana-ecosystem', 'cms-holdings-portfolio', 'kenetic-capital-portfolio', 'alameda-research-portfolio', 'multicoin-capital-portfolio', 'okex-blockdream-ventures-portfolio', 'layer-1', 'ftx-bankruptcy-estate', 'sec-security-token', 'alleged-sec-securities'], 'max_supply': None, 'circulating_supply': 404963818.9316102, 'total_supply': 554045093.615577, 'infinite_supply': True, 'platform': None, 'cmc_rank': 9, 'self_reported_circulating_supply': None, 'self_reported_market_cap': None, 'tvl_ratio': None, 'last_updated': '2023-08-04T21:29:00.000Z', 'quote': {'USD': {'price': 22.932362249702244, 'volume_24h': 398842336.4032897, 'volume_change_24h': 13.0076, 'percent_change_1h': -0.19224568, 'percent_change_24h': 0.16914757, 'percent_change_7d': -8.56742151, 'percent_change_30d': 21.91626351, 'percent_change_60d': 15.51200372, 'percent_change_90d': 4.31110022, 'market_cap': 9286776993.762514, 'market_cap_dominance': 0.8014, 'fully_diluted_market_cap': 12705562789.46, 'tvl': None, 'last_updated': '2023-08-04T21:29:00.000Z'}}}, {'id': 1958, 'name': 'TRON', 'symbol': 'TRX', 'slug': 'tron', 'num_market_pairs': 802, 'date_added': '2017-09-13T00:00:00.000Z', 'tags': ['media', 'payments', 'tron-ecosystem', 'sec-security-token', 'alleged-sec-securities'], 'max_supply': None, 'circulating_supply': 89565410106.70438, 'total_supply': 89565413380.512, 'infinite_supply': True, 'platform': None, 'cmc_rank': 10, 'self_reported_circulating_supply': 71659659264, 'self_reported_market_cap': 5490433406.567431, 'tvl_ratio': None, 'last_updated': '2023-08-04T21:29:00.000Z', 'quote': {'USD': {'price': 0.07661819024760122, 'volume_24h': 172455663.76358873, 'volume_change_24h': -0.7394, 'percent_change_1h': -0.19204896, 'percent_change_24h': -0.73161757, 'percent_change_7d': -9.47869466, 'percent_change_30d': -0.33600026, 'percent_change_60d': -1.24714829, 'percent_change_90d': 9.10676153, 'market_cap': 6862339631.159901, 'market_cap_dominance': 0.5922, 'fully_diluted_market_cap': 6862339881.99, 'tvl': None, 'last_updated': '2023-08-04T21:29:00.000Z'}}}, {'id': 3890, 'name': 'Polygon', 'symbol': 'MATIC', 'slug': 'polygon', 'num_market_pairs': 793, 'date_added': '2019-04-28T00:00:00.000Z', 'tags': ['pos', 'platform', 'enterprise-solutions', 'zero-knowledge-proofs', 'scaling', 'state-channel', 'coinbase-ventures-portfolio', 'layer-2', 'binance-launchpad', 'binance-labs-portfolio', 'polygon-ecosystem', 'moonriver-ecosystem', 'injective-ecosystem', 'sec-security-token', 'alleged-sec-securities'], 'max_supply': 10000000000, 'circulating_supply': 9319469069.28493, 'total_supply': 10000000000, 'infinite_supply': False, 'platform': None, 'cmc_rank': 11, 'self_reported_circulating_supply': None, 'self_reported_market_cap': None, 'tvl_ratio': None, 'last_updated': '2023-08-04T21:29:00.000Z', 'quote': {'USD': {'price': 0.6653896872494492, 'volume_24h': 256071187.79940167, 'volume_change_24h': -10.2436, 'percent_change_1h': -0.30097515, 'percent_change_24h': -0.98957326, 'percent_change_7d': -6.48821963, 'percent_change_30d': -0.88976024, 'percent_change_60d': -19.93426945, 'percent_change_90d': -32.11494059, 'market_cap': 6201078609.342415, 'market_cap_dominance': 0.5352, 'fully_diluted_market_cap': 6653896872.49, 'tvl': None, 'last_updated': '2023-08-04T21:29:00.000Z'}}}, {'id': 6636, 'name': 'Polkadot', 'symbol': 'DOT', 'slug': 'polkadot-new', 'num_market_pairs': 546, 'date_added': '2020-08-19T00:00:00.000Z', 'tags': ['substrate', 'polkadot', 'binance-chain', 'polkadot-ecosystem', 'three-arrows-capital-portfolio', 'polychain-capital-portfolio', 'arrington-xrp-capital-portfolio', 'blockchain-capital-portfolio', 'boostvc-portfolio', 'cms-holdings-portfolio', 'coinfund-portfolio', 'fabric-ventures-portfolio', 'fenbushi-capital-portfolio', 'hashkey-capital-portfolio', 'kenetic-capital-portfolio', '1confirmation-portfolio', 'placeholder-ventures-portfolio', 'pantera-capital-portfolio', 'exnetwork-capital-portfolio', 'web3', 'spartan-group', 'injective-ecosystem', 'bnb-chain', 'layer-1'], 'max_supply': None, 'circulating_supply': 1212129717.2235343, 'total_supply': 1341608594.5287142, 'infinite_supply': True, 'platform': None, 'cmc_rank': 12, 'self_reported_circulating_supply': None, 'self_reported_market_cap': None, 'tvl_ratio': None, 'last_updated': '2023-08-04T21:29:00.000Z', 'quote': {'USD': {'price': 4.9901053848910895, 'volume_24h': 97693046.53758372, 'volume_change_24h': -2.822, 'percent_change_1h': -0.02529154, 'percent_change_24h': -0.41999644, 'percent_change_7d': -4.29920603, 'percent_change_30d': -4.17633453, 'percent_change_60d': -0.91175921, 'percent_change_90d': -11.83404876, 'market_cap': 6048655029.103672, 'market_cap_dominance': 0.522, 'fully_diluted_market_cap': 6694768271.97, 'tvl': None, 'last_updated': '2023-08-04T21:29:00.000Z'}}}, {'id': 2, 'name': 'Litecoin', 'symbol': 'LTC', 'slug': 'litecoin', 'num_market_pairs': 963, 'date_added': '2013-04-28T00:00:00.000Z', 'tags': ['mineable', 'pow', 'scrypt', 'medium-of-exchange'], 'max_supply': 84000000, 'circulating_supply': 73505632.97743528, 'total_supply': 84000000, 'infinite_supply': False, 'platform': None, 'cmc_rank': 13, 'self_reported_circulating_supply': None, 'self_reported_market_cap': None, 'tvl_ratio': None, 'last_updated': '2023-08-04T21:29:00.000Z', 'quote': {'USD': {'price': 82.24608541421765, 'volume_24h': 729760714.0387787, 'volume_change_24h': 40.5042, 'percent_change_1h': -0.15668194, 'percent_change_24h': -4.37328131, 'percent_change_7d': -10.00414934, 'percent_change_30d': -19.34463697, 'percent_change_60d': -5.58459298, 'percent_change_90d': -1.93732273, 'market_cap': 6045550568.288275, 'market_cap_dominance': 0.5217, 'fully_diluted_market_cap': 6908671174.79, 'tvl': None, 'last_updated': '2023-08-04T21:29:00.000Z'}}}, {'id': 5994, 'name': 'Shiba Inu', 'symbol': 'SHIB', 'slug': 'shiba-inu', 'num_market_pairs': 581, 'date_added': '2020-08-01T00:00:00.000Z', 'tags': ['memes', 'ethereum-ecosystem', 'doggone-doggerel'], 'max_supply': None, 'circulating_supply': 589346914631298.1, 'total_supply': 589589040239379.6, 'platform': {'id': 1027, 'name': 'Ethereum', 'symbol': 'ETH', 'slug': 'ethereum', 'token_address': '0x95ad61b0a150d79219dcf64e1e6cc01f0b64c4ce'}, 'infinite_supply': False, 'cmc_rank': 14, 'self_reported_circulating_supply': None, 'self_reported_market_cap': None, 'tvl_ratio': None, 'last_updated': '2023-08-04T21:29:00.000Z', 'quote': {'USD': {'price': 8.6113126113126e-06, 'volume_24h': 236764109.14180422, 'volume_change_24h': 76.8304, 'percent_change_1h': -0.25634896, 'percent_change_24h': 3.49330934, 'percent_change_7d': 4.16500965, 'percent_change_30d': 15.47187994, 'percent_change_60d': 8.6825936, 'percent_change_90d': -9.28856505, 'market_cap': 5075050518.402668, 'market_cap_dominance': 0.438, 'fully_diluted_market_cap': 5077135537.71, 'tvl': None, 'last_updated': '2023-08-04T21:29:00.000Z'}}}, {'id': 3717, 'name': 'Wrapped Bitcoin', 'symbol': 'WBTC', 'slug': 'wrapped-bitcoin', 'num_market_pairs': 1309, 'date_added': '2019-01-30T00:00:00.000Z', 'tags': ['medium-of-exchange', 'defi', 'wrapped-tokens', 'fantom-ecosystem', 'arbitrum-ecosytem', 'moonriver-ecosystem', 'optimism-ecosystem', 'bitcoin-ecosystem'], 'max_supply': None, 'circulating_supply': 162205.47768531, 'total_supply': 162205.47768531, 'platform': {'id': 1027, 'name': 'Ethereum', 'symbol': 'ETH', 'slug': 'ethereum', 'token_address': '0x2260fac5e5542a773aa44fbcfedf7c193bc2c599'}, 'infinite_supply': False, 'cmc_rank': 15, 'self_reported_circulating_supply': None, 'self_reported_market_cap': None, 'tvl_ratio': None, 'last_updated': '2023-08-04T21:29:00.000Z', 'quote': {'USD': {'price': 29009.483328678492, 'volume_24h': 94832633.36136037, 'volume_change_24h': 34.9869, 'percent_change_1h': -0.0613377, 'percent_change_24h': -0.89407623, 'percent_change_7d': -1.15626687, 'percent_change_30d': -4.80881369, 'percent_change_60d': 13.31647172, 'percent_change_90d': 0.47870128, 'market_cap': 4705497100.732332, 'market_cap_dominance': 0.4061, 'fully_diluted_market_cap': 4705497100.73, 'tvl': None, 'last_updated': '2023-08-04T21:29:00.000Z'}}}, {'id': 4943, 'name': 'Dai', 'symbol': 'DAI', 'slug': 'multi-collateral-dai', 'num_market_pairs': 2488, 'date_added': '2019-11-22T00:00:00.000Z', 'tags': ['defi', 'stablecoin', 'asset-backed-stablecoin', 'ethereum-ecosystem', 'avalanche-ecosystem', 'polygon-ecosystem', 'fantom-ecosystem', 'arbitrum-ecosytem', 'harmony-ecosystem', 'moonriver-ecosystem', 'bnb-chain', 'usd-stablecoin', 'optimism-ecosystem'], 'max_supply': None, 'circulating_supply': 4442566017.018928, 'total_supply': 4442566017.018928, 'platform': {'id': 1027, 'name': 'Ethereum', 'symbol': 'ETH', 'slug': 'ethereum', 'token_address': '0x6b175474e89094c44da98b954eedeac495271d0f'}, 'infinite_supply': True, 'cmc_rank': 16, 'self_reported_circulating_supply': None, 'self_reported_market_cap': None, 'tvl_ratio': None, 'last_updated': '2023-08-04T21:29:00.000Z', 'quote': {'USD': {'price': 0.9993823258285235, 'volume_24h': 206678698.87155324, 'volume_change_24h': 76.8431, 'percent_change_1h': 0.03844726, 'percent_change_24h': -0.0106747, 'percent_change_7d': -0.05295635, 'percent_change_30d': -0.05214355, 'percent_change_60d': 0.0454287, 'percent_change_90d': -0.07746907, 'market_cap': 4439821958.735136, 'market_cap_dominance': 0.3832, 'fully_diluted_market_cap': 4439821958.74, 'tvl': None, 'last_updated': '2023-08-04T21:29:00.000Z'}}}, {'id': 1831, 'name': 'Bitcoin Cash', 'symbol': 'BCH', 'slug': 'bitcoin-cash', 'num_market_pairs': 740, 'date_added': '2017-07-23T00:00:00.000Z', 'tags': ['mineable', 'pow', 'sha-256', 'marketplace', 'medium-of-exchange', 'store-of-value', 'enterprise-solutions', 'payments', 'bitcoin-ecosystem', 'layer-1'], 'max_supply': 21000000, 'circulating_supply': 19467281.25, 'total_supply': 19467281.25, 'infinite_supply': False, 'platform': None, 'cmc_rank': 17, 'self_reported_circulating_supply': None, 'self_reported_market_cap': None, 'tvl_ratio': None, 'last_updated': '2023-08-04T21:29:00.000Z', 'quote': {'USD': {'price': 223.9301618989736, 'volume_24h': 218043778.63879254, 'volume_change_24h': 1.5199, 'percent_change_1h': -0.20561513, 'percent_change_24h': -2.08763391, 'percent_change_7d': -7.67869755, 'percent_change_30d': -16.28912393, 'percent_change_60d': 107.71099519, 'percent_change_90d': 90.95905528, 'market_cap': 4359311442.045353, 'market_cap_dominance': 0.3762, 'fully_diluted_market_cap': 4702533399.88, 'tvl': None, 'last_updated': '2023-08-04T21:29:00.000Z'}}}, {'id': 5805, 'name': 'Avalanche', 'symbol': 'AVAX', 'slug': 'avalanche', 'num_market_pairs': 478, 'date_added': '2020-07-13T00:00:00.000Z', 'tags': ['defi', 'smart-contracts', 'three-arrows-capital-portfolio', 'polychain-capital-portfolio', 'avalanche-ecosystem', 'cms-holdings-portfolio', 'dragonfly-capital-portfolio', 'moonriver-ecosystem', 'injective-ecosystem', 'layer-1'], 'max_supply': 720000000, 'circulating_supply': 346329743.2186916, 'total_supply': 433049193.2186916, 'infinite_supply': False, 'platform': None, 'cmc_rank': 18, 'self_reported_circulating_supply': None, 'self_reported_market_cap': None, 'tvl_ratio': None, 'last_updated': '2023-08-04T21:29:00.000Z', 'quote': {'USD': {'price': 12.413792462870596, 'volume_24h': 103509409.53028768, 'volume_change_24h': -7.5119, 'percent_change_1h': -0.23438639, 'percent_change_24h': -0.89772818, 'percent_change_7d': -6.13502889, 'percent_change_30d': -1.96394269, 'percent_change_60d': -10.30277792, 'percent_change_90d': -25.56589115, 'market_cap': 4299265556.036102, 'market_cap_dominance': 0.3711, 'fully_diluted_market_cap': 8937930573.27, 'tvl': None, 'last_updated': '2023-08-04T21:29:00.000Z'}}}, {'id': 11419, 'name': 'Toncoin', 'symbol': 'TON', 'slug': 'toncoin', 'num_market_pairs': 125, 'date_added': '2021-08-26T13:40:22.000Z', 'tags': ['pos'], 'max_supply': None, 'circulating_supply': 3431892087.62, 'total_supply': 5047558528, 'infinite_supply': True, 'platform': None, 'cmc_rank': 19, 'self_reported_circulating_supply': 3414166606, 'self_reported_market_cap': 4092658969.08418, 'tvl_ratio': None, 'last_updated': '2023-08-04T21:29:00.000Z', 'quote': {'USD': {'price': 1.1987285453181484, 'volume_24h': 24469205.34996215, 'volume_change_24h': -9.8485, 'percent_change_1h': -0.33756052, 'percent_change_24h': 0.35860768, 'percent_change_7d': -5.96301492, 'percent_change_30d': -13.08730533, 'percent_change_60d': -27.90826682, 'percent_change_90d': -42.20984207, 'market_cap': 4113907009.881586, 'market_cap_dominance': 0.3551, 'fully_diluted_market_cap': 6050652491.68, 'tvl': None, 'last_updated': '2023-08-04T21:29:00.000Z'}}}, {'id': 1975, 'name': 'Chainlink', 'symbol': 'LINK', 'slug': 'chainlink', 'num_market_pairs': 1281, 'date_added': '2017-09-20T00:00:00.000Z', 'tags': ['platform', 'defi', 'oracles', 'smart-contracts', 'substrate', 'polkadot', 'polkadot-ecosystem', 'avalanche-ecosystem', 'solana-ecosystem', 'framework-ventures-portfolio', 'polygon-ecosystem', 'fantom-ecosystem', 'cardano-ecosystem', 'web3', 'near-protocol-ecosystem', 'arbitrum-ecosytem', 'cardano', 'injective-ecosystem', 'optimism-ecosystem', 'celsius-bankruptcy-estate'], 'max_supply': 1000000000, 'circulating_supply': 538099970.4527867, 'total_supply': 1000000000, 'platform': {'id': 1027, 'name': 'Ethereum', 'symbol': 'ETH', 'slug': 'ethereum', 'token_address': '0x514910771af9ca656af840dff83e8264ecf986ca'}, 'infinite_supply': False, 'cmc_rank': 20, 'self_reported_circulating_supply': None, 'self_reported_market_cap': None, 'tvl_ratio': None, 'last_updated': '2023-08-04T21:29:00.000Z', 'quote': {'USD': {'price': 7.103507184621528, 'volume_24h': 206024928.7288006, 'volume_change_24h': 2.1953, 'percent_change_1h': -0.17243957, 'percent_change_24h': -0.93423648, 'percent_change_7d': -9.28993781, 'percent_change_30d': 12.90056268, 'percent_change_60d': 17.71963342, 'percent_change_90d': 2.00688037, 'market_cap': 3822397006.1560025, 'market_cap_dominance': 0.3299, 'fully_diluted_market_cap': 7103507184.62, 'tvl': None, 'last_updated': '2023-08-04T21:29:00.000Z'}}}]}\n",
      "0\n",
      "\n",
      " ===== BTC ===== \n",
      "\n"
     ]
    },
    {
     "name": "stdout",
     "output_type": "stream",
     "text": [
      "1\n",
      "\n",
      " ===== ETH ===== \n",
      "\n",
      "2\n",
      "\n",
      " ===== USDT ===== \n",
      "\n",
      "3\n",
      "\n",
      " ===== XRP ===== \n",
      "\n",
      "4\n",
      "\n",
      " ===== BNB ===== \n",
      "\n",
      "5\n",
      "\n",
      " ===== USDC ===== \n",
      "\n",
      "6\n",
      "\n",
      " ===== ADA ===== \n",
      "\n",
      "7\n",
      "\n",
      " ===== DOGE ===== \n",
      "\n",
      "8\n",
      "\n",
      " ===== SOL ===== \n",
      "\n",
      "9\n",
      "\n",
      " ===== TRX ===== \n",
      "\n",
      "10\n",
      "\n",
      " ===== LTC ===== \n",
      "\n",
      "11\n",
      "\n",
      " ===== MATIC ===== \n",
      "\n",
      "12\n",
      "\n",
      " ===== DOT ===== \n",
      "\n",
      "13\n",
      "\n",
      " ===== BCH ===== \n",
      "\n",
      "14\n",
      "\n",
      " ===== WBTC ===== \n",
      "\n",
      "15\n",
      "\n",
      " ===== SHIB ===== \n",
      "\n",
      "16\n",
      "\n",
      " ===== AVAX ===== \n",
      "\n",
      "17\n",
      "\n",
      " ===== DAI ===== \n",
      "\n",
      "18\n",
      "\n",
      " ===== TON ===== \n",
      "\n",
      "19\n",
      "\n",
      " ===== XLM ===== \n",
      "\n",
      "\n",
      "Validation of optimzed portfolio from 180 days before\n",
      "\n",
      "Expected annual return: 330.5%\n",
      "Annual volatility: 65.6%\n",
      "Sharpe Ratio: 5.01\n",
      "Invest 100.0\n",
      "\n",
      " Profit Loss: -29.812691048456248e\n",
      "\n",
      "    Coin  Amount    n_coins\n",
      "0    BNB  86.018   0.260174\n",
      "1  MATIC  13.982  11.179986\n",
      "\n",
      "Current optimzed portfolio \n",
      "\n",
      "Expected annual return: 260.6%\n",
      "Annual volatility: 48.8%\n",
      "Sharpe Ratio: 5.30\n",
      "Invest 100.0\n",
      "\n",
      "  Coin  Amount   n_coins\n",
      "0  BNB   100.0  0.414832\n"
     ]
    }
   ],
   "source": [
    "# Inputs\n",
    "inputs_20coins = {\n",
    "    \"top_100\": True,\n",
    "    \"n_coins\" : 20,\n",
    "    \"budget\": 100,\n",
    "    \"scrap\" : True,\n",
    "    \n",
    "    \"n_days\": 180,\n",
    "    \"mu_method\": 'mean',\n",
    "    \"cov_method\" : 'exp',\n",
    "    \"obj_function\" : 'quadratic',\n",
    "    \"compounding\" : True,\n",
    "    \"save_dir\" : \"./new_data\"    \n",
    "}\n",
    "# mu_method = 'mean'\n",
    "# cov_method = 'exp'\n",
    "# obj_function = 'quadratic'\n",
    "# compounding = True\n",
    "portfolios_20c = run_from_json(inputs_20coins)"
   ]
  },
  {
   "cell_type": "markdown",
   "metadata": {},
   "source": [
    "## Top 10 tokens"
   ]
  },
  {
   "cell_type": "code",
   "execution_count": 3,
   "metadata": {},
   "outputs": [
    {
     "name": "stdout",
     "output_type": "stream",
     "text": [
      "\n",
      "Validation of optimzed portfolio from 180 days before\n",
      "\n",
      "Expected annual return: 330.5%\n",
      "Annual volatility: 65.6%\n",
      "Sharpe Ratio: 5.01\n",
      "Invest 100.0\n",
      "\n",
      " Profit Loss: -29.812691048456248e\n",
      "\n",
      "    Coin  Amount    n_coins\n",
      "0    BNB  86.018   0.260174\n",
      "1  MATIC  13.982  11.179986\n",
      "\n",
      "Current optimzed portfolio \n",
      "\n",
      "Expected annual return: 260.6%\n",
      "Annual volatility: 48.8%\n",
      "Sharpe Ratio: 5.30\n",
      "Invest 100.0\n",
      "\n",
      "  Coin  Amount   n_coins\n",
      "0  BNB   100.0  0.414832\n"
     ]
    }
   ],
   "source": [
    "# Inputs\n",
    "inputs_10coins = {\n",
    "    \"top_100\": True,\n",
    "    \"n_coins\" : 10,\n",
    "    \"budget\": 100,\n",
    "    \"scrap\" : False,\n",
    "    \n",
    "    \"n_days\": 180,\n",
    "    \"mu_method\": 'mean',\n",
    "    \"cov_method\" : 'exp',\n",
    "    \"obj_function\" : 'quadratic',\n",
    "    \"compounding\" : True,\n",
    "    \"save_dir\" : \"./new_data\"    \n",
    "}\n",
    "# mu_method = 'mean'\n",
    "# cov_method = 'exp'\n",
    "# obj_function = 'quadratic'\n",
    "# compounding = True\n",
    "portfolios_10c = run_from_json(inputs_10coins)"
   ]
  },
  {
   "cell_type": "markdown",
   "metadata": {},
   "source": [
    "## Top 5 tokens"
   ]
  },
  {
   "cell_type": "code",
   "execution_count": 4,
   "metadata": {},
   "outputs": [],
   "source": [
    "# Inputs\n",
    "inputs_5coins = {\n",
    "    \"top_100\": True,\n",
    "    \"n_coins\" : 5,\n",
    "    \"budget\": 100,\n",
    "    \"scrap\" : False,\n",
    "    \"compounding\" : True,\n",
    "    \"n_days\": 180,\n",
    "    \"mu_method\": 'mean',\n",
    "    \"cov_method\" : 'exp',\n",
    "    \"obj_function\" : 'quadratic',\n",
    "    \"save_dir\" : \"./new_data\"    \n",
    "}\n",
    "\n",
    "# portfolios_5c = run_from_json(inputs_5coins)"
   ]
  },
  {
   "cell_type": "markdown",
   "metadata": {},
   "source": [
    "## Top 2 tokens"
   ]
  },
  {
   "cell_type": "code",
   "execution_count": 5,
   "metadata": {},
   "outputs": [
    {
     "name": "stdout",
     "output_type": "stream",
     "text": [
      "\n",
      "Validation of optimzed portfolio from 180 days before\n",
      "\n",
      "Expected annual return: 135.0%\n",
      "Annual volatility: 73.4%\n",
      "Sharpe Ratio: 1.81\n",
      "Invest 100.0\n",
      "\n",
      " Profit Loss: 10.082262629450149e\n",
      "\n",
      "  Coin  Amount   n_coins\n",
      "0  ETH   100.0  0.059986\n",
      "\n",
      "Current optimzed portfolio \n",
      "\n",
      "Expected annual return: 129.3%\n",
      "Annual volatility: 48.7%\n",
      "Sharpe Ratio: 2.61\n",
      "Invest 100.0\n",
      "\n",
      "  Coin  Amount   n_coins\n",
      "0  ETH   100.0  0.054492\n"
     ]
    }
   ],
   "source": [
    "# Inputs\n",
    "inputs_2coins = {\n",
    "    \"top_100\": True,\n",
    "    \"n_coins\" : 2,\n",
    "    \"budget\": 100,\n",
    "    \"scrap\" : False,\n",
    "    \n",
    "    \"n_days\": 180,\n",
    "    \"mu_method\": 'capm',\n",
    "    \"cov_method\" : 'exp',\n",
    "    \"obj_function\" : 'quadratic',\n",
    "    \"compounding\" : False,\n",
    "    \"save_dir\" : \"./new_data\"    \n",
    "}\n",
    "# mu_method = 'capm'\n",
    "# cov_method = 'exp'\n",
    "# obj_function = 'quadratic'\n",
    "# compounding = False\n",
    "portfolios_2c = run_from_json(inputs_2coins)"
   ]
  },
  {
   "cell_type": "markdown",
   "metadata": {},
   "source": [
    "## BTC"
   ]
  },
  {
   "cell_type": "code",
   "execution_count": 6,
   "metadata": {},
   "outputs": [
    {
     "name": "stdout",
     "output_type": "stream",
     "text": [
      "\n",
      "Validation of optimzed portfolio from 180 days before\n",
      "\n",
      "Expected annual return: 84.5%\n",
      "Annual volatility: 52.7%\n",
      "Sharpe Ratio: 1.56\n",
      "Invest 100.0\n",
      "\n",
      " Profit Loss: 25.059446036292872e\n",
      "\n",
      "  Coin  Amount   n_coins\n",
      "0  BTC   100.0  0.004286\n",
      "\n",
      "Current optimzed portfolio \n",
      "\n",
      "Expected annual return: 83.1%\n",
      "Annual volatility: 42.0%\n",
      "Sharpe Ratio: 1.93\n",
      "Invest 100.0\n",
      "\n",
      "  Coin  Amount   n_coins\n",
      "0  BTC   100.0  0.003427\n"
     ]
    }
   ],
   "source": [
    "# Inputs\n",
    "inputs_1coins = {\n",
    "    \"top_100\": True,\n",
    "    \"n_coins\" : 1,\n",
    "    \"budget\": 100,\n",
    "    \"scrap\" : False,\n",
    "    \"hodl\": True,\n",
    "    \"compounding\" : False,\n",
    "    \"n_days\": 180,\n",
    "    \"mu_method\": 'mean',\n",
    "    \"cov_method\" : 'exp',\n",
    "    \"obj_function\" : 'quadratic',\n",
    "    \"save_dir\" : \"./new_data\"    \n",
    "}\n",
    "\n",
    "portfolios_1c = run_from_json(inputs_1coins)"
   ]
  }
 ],
 "metadata": {
  "kernelspec": {
   "display_name": "Python 3",
   "language": "python",
   "name": "python3"
  },
  "language_info": {
   "codemirror_mode": {
    "name": "ipython",
    "version": 3
   },
   "file_extension": ".py",
   "mimetype": "text/x-python",
   "name": "python",
   "nbconvert_exporter": "python",
   "pygments_lexer": "ipython3",
   "version": "3.8.5"
  }
 },
 "nbformat": 4,
 "nbformat_minor": 4
}
