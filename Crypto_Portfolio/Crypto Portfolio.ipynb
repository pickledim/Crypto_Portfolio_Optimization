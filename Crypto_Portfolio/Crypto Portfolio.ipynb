{
 "cells": [
  {
   "cell_type": "markdown",
   "metadata": {},
   "source": [
    "# Crypto Portfolio \n",
    "\n",
    "## Introduction\n",
    "\n",
    "The idea behind this project is to find an efficient way to trace the crypto market and buy the best performing tokens. The algorithm scrapes data from coinmarketcap and performs a convex optimization in order to find the best performing tokens.\n",
    "\n",
    "### Import the crypto class"
   ]
  },
  {
   "cell_type": "code",
   "execution_count": 1,
   "metadata": {},
   "outputs": [],
   "source": [
    "import sys\n",
    "sys.path.append(\"../\")\n",
    "from app_wrapper import run_app"
   ]
  },
  {
   "cell_type": "markdown",
   "metadata": {},
   "source": [
    "### Inputs\n",
    "\n",
    "- top_100: Boolean, If you want the top 100 tokens by market cap\n",
    "- n_days: For validation purposes --> checks the profit of the suggested results from n_days before\n",
    "- mu_method: mean-->'mean' annualised mean (daily) historical return from input (daily) token prices\n",
    "   - choices: [mean, exp, capm]\n",
    "- cov_method: sample --> annualised sample covariance matrix of (daily) token returns\n",
    "   - choices: [sample, exp]\n",
    "- obj_function: the objective function of the base convex Optimization\n",
    "   - choices: [sharpe, quadratic, min_volat]\n",
    "- drop: boolean decide if you want to drop the nan values of the mean values\n",
    "- budget: You investment budget\n",
    "- hodl: If you want to hold yout tokens or trade them after 1 year\n",
    "\n",
    "\n",
    "## Top 20 tokens"
   ]
  },
  {
   "cell_type": "code",
   "execution_count": 2,
   "metadata": {},
   "outputs": [
    {
     "name": "stdout",
     "output_type": "stream",
     "text": [
      "\n",
      "Validation of optimzed portfolio from 180 days before\n",
      "\n",
      "Expected annual return: 330.5%\n",
      "Annual volatility: 65.6%\n",
      "Sharpe Ratio: 5.01\n",
      "Invest 100.0\n",
      "\n",
      " Profit Loss: -29.812691048456248e\n",
      "\n",
      "    Coin  Amount    n_coins\n",
      "1    BNB  86.018   0.260174\n",
      "0  MATIC  13.982  11.179986\n",
      "\n",
      "Current optimzed portfolio \n",
      "\n",
      "Expected annual return: 260.6%\n",
      "Annual volatility: 48.8%\n",
      "Sharpe Ratio: 5.30\n",
      "Invest 100.0\n",
      "\n",
      "  Coin  Amount   n_coins\n",
      "0  BNB   100.0  0.414832\n"
     ]
    }
   ],
   "source": [
    "# Inputs\n",
    "inputs_20coins = {\n",
    "    \"top_100\": True,\n",
    "    \"n_coins\" : 20,\n",
    "    \"budget\": 100,\n",
    "    \"scrap\" : False,\n",
    "    \n",
    "    \"n_days\": 180,\n",
    "    \"mu_method\": 'mean',\n",
    "    \"cov_method\" : 'exp',\n",
    "    \"obj_function\" : 'quadratic',\n",
    "    \"compounding\" : True,\n",
    "    \"save_dir\" : \"./new_data\"    \n",
    "}\n",
    "# mu_method = 'mean'\n",
    "# cov_method = 'exp'\n",
    "# obj_function = 'quadratic'\n",
    "# compounding = True\n",
    "portfolios_20c = run_app(inputs_20coins)"
   ]
  },
  {
   "cell_type": "markdown",
   "metadata": {},
   "source": [
    "## Top 10 tokens"
   ]
  },
  {
   "cell_type": "code",
   "execution_count": 3,
   "metadata": {},
   "outputs": [
    {
     "name": "stdout",
     "output_type": "stream",
     "text": [
      "\n",
      "Validation of optimzed portfolio from 180 days before\n",
      "\n",
      "Expected annual return: 330.5%\n",
      "Annual volatility: 65.6%\n",
      "Sharpe Ratio: 5.01\n",
      "Invest 100.0\n",
      "\n",
      " Profit Loss: -29.812691048456248e\n",
      "\n",
      "    Coin  Amount    n_coins\n",
      "1    BNB  86.018   0.260174\n",
      "0  MATIC  13.982  11.179986\n",
      "\n",
      "Current optimzed portfolio \n",
      "\n",
      "Expected annual return: 260.6%\n",
      "Annual volatility: 48.8%\n",
      "Sharpe Ratio: 5.30\n",
      "Invest 100.0\n",
      "\n",
      "  Coin  Amount   n_coins\n",
      "0  BNB   100.0  0.414832\n"
     ]
    }
   ],
   "source": [
    "# Inputs\n",
    "inputs_10coins = {\n",
    "    \"top_100\": True,\n",
    "    \"n_coins\" : 10,\n",
    "    \"budget\": 100,\n",
    "    \"scrap\" : False,\n",
    "    \n",
    "    \"n_days\": 180,\n",
    "    \"mu_method\": 'mean',\n",
    "    \"cov_method\" : 'exp',\n",
    "    \"obj_function\" : 'quadratic',\n",
    "    \"compounding\" : True,\n",
    "    \"save_dir\" : \"./new_data\"    \n",
    "}\n",
    "# mu_method = 'mean'\n",
    "# cov_method = 'exp'\n",
    "# obj_function = 'quadratic'\n",
    "# compounding = True\n",
    "portfolios_10c = run_app(inputs_10coins)"
   ]
  },
  {
   "cell_type": "markdown",
   "metadata": {},
   "source": [
    "## Top 5 tokens"
   ]
  },
  {
   "cell_type": "code",
   "execution_count": 4,
   "metadata": {},
   "outputs": [],
   "source": [
    "# Inputs\n",
    "inputs_5coins = {\n",
    "    \"top_100\": True,\n",
    "    \"n_coins\" : 5,\n",
    "    \"budget\": 100,\n",
    "    \"scrap\" : False,\n",
    "    \"compounding\" : True,\n",
    "    \"n_days\": 180,\n",
    "    \"mu_method\": 'mean',\n",
    "    \"cov_method\" : 'exp',\n",
    "    \"obj_function\" : 'quadratic',\n",
    "    \"save_dir\" : \"./new_data\"    \n",
    "}\n",
    "\n",
    "# portfolios_5c = run_from_json(inputs_5coins)"
   ]
  },
  {
   "cell_type": "markdown",
   "metadata": {},
   "source": [
    "## Top 2 tokens"
   ]
  },
  {
   "cell_type": "code",
   "execution_count": 5,
   "metadata": {},
   "outputs": [
    {
     "name": "stdout",
     "output_type": "stream",
     "text": [
      "\n",
      "Validation of optimzed portfolio from 180 days before\n",
      "\n",
      "Expected annual return: 135.0%\n",
      "Annual volatility: 73.4%\n",
      "Sharpe Ratio: 1.81\n",
      "Invest 100.0\n",
      "\n",
      " Profit Loss: 10.082262629450149e\n",
      "\n",
      "  Coin  Amount   n_coins\n",
      "0  ETH   100.0  0.059986\n",
      "\n",
      "Current optimzed portfolio \n",
      "\n",
      "Expected annual return: 129.3%\n",
      "Annual volatility: 48.7%\n",
      "Sharpe Ratio: 2.61\n",
      "Invest 100.0\n",
      "\n",
      "  Coin  Amount   n_coins\n",
      "0  ETH   100.0  0.054492\n"
     ]
    }
   ],
   "source": [
    "# Inputs\n",
    "inputs_2coins = {\n",
    "    \"top_100\": True,\n",
    "    \"n_coins\" : 2,\n",
    "    \"budget\": 100,\n",
    "    \"scrap\" : False,\n",
    "    \n",
    "    \"n_days\": 180,\n",
    "    \"mu_method\": 'capm',\n",
    "    \"cov_method\" : 'exp',\n",
    "    \"obj_function\" : 'quadratic',\n",
    "    \"compounding\" : False,\n",
    "    \"save_dir\" : \"./new_data\"    \n",
    "}\n",
    "# mu_method = 'capm'\n",
    "# cov_method = 'exp'\n",
    "# obj_function = 'quadratic'\n",
    "# compounding = False\n",
    "portfolios_2c = run_app(inputs_2coins)"
   ]
  },
  {
   "cell_type": "markdown",
   "metadata": {},
   "source": [
    "## BTC"
   ]
  },
  {
   "cell_type": "code",
   "execution_count": 6,
   "metadata": {},
   "outputs": [
    {
     "name": "stdout",
     "output_type": "stream",
     "text": [
      "\n",
      "Validation of optimzed portfolio from 180 days before\n",
      "\n",
      "Expected annual return: 84.5%\n",
      "Annual volatility: 52.7%\n",
      "Sharpe Ratio: 1.56\n",
      "Invest 100.0\n",
      "\n",
      " Profit Loss: 25.059446036292872e\n",
      "\n",
      "  Coin  Amount   n_coins\n",
      "0  BTC   100.0  0.004286\n",
      "\n",
      "Current optimzed portfolio \n",
      "\n",
      "Expected annual return: 83.1%\n",
      "Annual volatility: 42.0%\n",
      "Sharpe Ratio: 1.93\n",
      "Invest 100.0\n",
      "\n",
      "  Coin  Amount   n_coins\n",
      "0  BTC   100.0  0.003427\n"
     ]
    }
   ],
   "source": [
    "# Inputs\n",
    "inputs_1coins = {\n",
    "    \"top_100\": True,\n",
    "    \"n_coins\" : 1,\n",
    "    \"budget\": 100,\n",
    "    \"scrap\" : False,\n",
    "    \"hodl\": True,\n",
    "    \"compounding\" : False,\n",
    "    \"n_days\": 180,\n",
    "    \"mu_method\": 'mean',\n",
    "    \"cov_method\" : 'exp',\n",
    "    \"obj_function\" : 'quadratic',\n",
    "    \"save_dir\" : \"./new_data\"    \n",
    "}\n",
    "\n",
    "portfolios_1c = run_app(inputs_1coins)"
   ]
  }
 ],
 "metadata": {
  "kernelspec": {
   "display_name": "Python 3",
   "language": "python",
   "name": "python3"
  },
  "language_info": {
   "codemirror_mode": {
    "name": "ipython",
    "version": 3
   },
   "file_extension": ".py",
   "mimetype": "text/x-python",
   "name": "python",
   "nbconvert_exporter": "python",
   "pygments_lexer": "ipython3",
   "version": "3.8.5"
  }
 },
 "nbformat": 4,
 "nbformat_minor": 4
}
