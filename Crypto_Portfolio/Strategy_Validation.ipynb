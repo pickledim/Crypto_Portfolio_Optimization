{
 "cells": [
  {
   "cell_type": "markdown",
   "metadata": {},
   "source": [
    "# Introduction\n",
    "\n",
    "The provided notebook is a Python program for cryptocurrency data analysis and portfolio optimization. It uses historical price data and market cap data for selected cryptocurrencies to perform portfolio optimization using the Efficient Frontier approach. The script aims to calculate the profit/loss of the portfolio over different time periods and with varying numbers of coins.\n",
    "\n",
    "# Notebook\n",
    "## Import libs"
   ]
  },
  {
   "cell_type": "code",
   "execution_count": 1,
   "metadata": {},
   "outputs": [],
   "source": [
    "import sys\n",
    "sys.path.append(\"../\")\n",
    "\n",
    "from time import time\n",
    "from datetime import datetime\n",
    "\n",
    "\n",
    "import numpy as np\n",
    "import pandas as pd\n",
    "\n",
    "\n",
    "import app_wrapper"
   ]
  },
  {
   "cell_type": "markdown",
   "metadata": {},
   "source": [
    "## Inputs"
   ]
  },
  {
   "cell_type": "code",
   "execution_count": 2,
   "metadata": {},
   "outputs": [
    {
     "name": "stdout",
     "output_type": "stream",
     "text": [
      "138\n",
      "0\n"
     ]
    }
   ],
   "source": [
    "start = time()\n",
    "\n",
    "top_100 = False\n",
    "\n",
    "budget = 100\n",
    "\n",
    "save_dir = \"./legacy_data\" \n",
    "\n",
    "#latest update on the database: 11/09/2023\n",
    "date_latest_update = \"11/09/2023\" \n",
    "\n",
    "\n",
    "# Bull 2016\n",
    "# buy_date = \"10/07/2015\" # 1 year before the latest halvening\n",
    "# sell_date = \"09/07/2017\" # 1 year after the latest halvening \n",
    "\n",
    "\n",
    "# Bull 2021\n",
    "buy_date = \"12/05/2019\" # 1 year before the latest halvening\n",
    "sell_date = \"11/05/2021\" # 1 year after the latest halvening \n",
    "\n",
    "# Bear\n",
    "# buy_date = \"01/01/2022\" # 1 year before the latest halvening\n",
    "# sell_date = \"26/04/2023\" # 1 year after the latest halvening\n",
    "\n",
    "# Bull Now\n",
    "buy_date = \"26/04/2023\" # 1 year before the latest halvening  \n",
    "sell_date = date_latest_update # 1 year after the latest halvening\n",
    "\n",
    "buy_day = app_wrapper.convert_date_to_number(date_latest_update, buy_date)\n",
    "sell_day = app_wrapper.convert_date_to_number(date_latest_update, sell_date)\n",
    "print(buy_day)\n",
    "print(sell_day)"
   ]
  },
  {
   "cell_type": "code",
   "execution_count": 3,
   "metadata": {},
   "outputs": [],
   "source": [
    "n_days_vector = np.arange(buy_day, sell_day, -30)\n"
   ]
  },
  {
   "cell_type": "markdown",
   "metadata": {},
   "source": [
    "## Optimization parameters"
   ]
  },
  {
   "cell_type": "code",
   "execution_count": 4,
   "metadata": {},
   "outputs": [],
   "source": [
    "# 'mu': 'capm', 's': 'exp', 'obj_function': 'quadratic', 'compounding': False bull 2018/2022\n",
    "# {'mu': 'capm', 's': 'exp', 'obj_function': 'min_volat', 'compounding': False} bear 2016\n",
    "mu_method = 'capm'\n",
    "cov_method = 'exp'\n",
    "obj_function = 'quadratic'\n",
    "compounding = False"
   ]
  },
  {
   "cell_type": "code",
   "execution_count": 5,
   "metadata": {},
   "outputs": [],
   "source": [
    "inputs = {\n",
    "    \"top_100\": top_100,\n",
    "    \"mu_method\": mu_method,\n",
    "    \"cov_method\": cov_method,\n",
    "    \"obj_function\": obj_function,\n",
    "    \"budget\": budget,\n",
    "    \"days_vector\": n_days_vector,\n",
    "    \"sell_day\": sell_day,\n",
    "    \"compounding\": compounding,\n",
    "    \"save_dir\": save_dir\n",
    "}"
   ]
  },
  {
   "cell_type": "markdown",
   "metadata": {},
   "source": [
    "## Low risk investment"
   ]
  },
  {
   "cell_type": "code",
   "execution_count": 6,
   "metadata": {},
   "outputs": [
    {
     "name": "stdout",
     "output_type": "stream",
     "text": [
      "\n",
      "===== 2 COINS ======\n",
      "\n",
      "Expected annual return: 133.5%\n",
      "Annual volatility: 63.5%\n",
      "Sharpe Ratio: 2.07\n",
      "Invest 100.0\n",
      "\n",
      " Profit Loss: -16.8719917920591e\n",
      "\n",
      "Expected annual return: 131.7%\n",
      "Annual volatility: 57.3%\n",
      "Sharpe Ratio: 2.26\n",
      "Invest 100.0\n",
      "\n",
      " Profit Loss: -15.150304939969324e\n",
      "\n",
      "Expected annual return: 131.5%\n",
      "Annual volatility: 54.5%\n",
      "Sharpe Ratio: 2.38\n",
      "Invest 100.0\n",
      "\n",
      " Profit Loss: -18.35660813251346e\n",
      "\n",
      "Expected annual return: 129.8%\n",
      "Annual volatility: 50.8%\n",
      "Sharpe Ratio: 2.52\n",
      "Invest 100.0\n",
      "\n",
      " Profit Loss: -16.477223035395657e\n",
      "\n",
      "Expected annual return: 127.3%\n",
      "Annual volatility: 46.6%\n",
      "Sharpe Ratio: 2.69\n",
      "Invest 100.0\n",
      "\n",
      " Profit Loss: -6.524732773443136e\n",
      "\n"
     ]
    }
   ],
   "source": [
    "inputs[\"n_coins\"] = 2\n",
    "\n",
    "print(f'\\n===== {inputs[\"n_coins\"]} COINS ======\\n')\n",
    "\n",
    "p_l_2, results_2, portf_2 = app_wrapper.calculate_profit(inputs)"
   ]
  },
  {
   "cell_type": "markdown",
   "metadata": {},
   "source": [
    "## Medium risk investment"
   ]
  },
  {
   "cell_type": "code",
   "execution_count": 7,
   "metadata": {
    "scrolled": true
   },
   "outputs": [
    {
     "name": "stdout",
     "output_type": "stream",
     "text": [
      "\n",
      "===== 10 COINS ======\n",
      "\n",
      "Expected annual return: 286.8%\n",
      "Annual volatility: 87.4%\n",
      "Sharpe Ratio: 3.26\n",
      "Invest 100.0\n",
      "\n",
      " Profit Loss: -48.9478354505119e\n",
      "\n",
      "Expected annual return: 269.2%\n",
      "Annual volatility: 78.5%\n",
      "Sharpe Ratio: 3.41\n",
      "Invest 100.0\n",
      "\n",
      " Profit Loss: -44.77525965329154e\n",
      "\n",
      "Expected annual return: 132.8%\n",
      "Annual volatility: 59.5%\n",
      "Sharpe Ratio: 2.20\n",
      "Invest 100.0\n",
      "\n",
      " Profit Loss: -12.942826774397293e\n",
      "\n",
      "Expected annual return: 152.0%\n",
      "Annual volatility: 75.4%\n",
      "Sharpe Ratio: 1.99\n",
      "Invest 100.0\n",
      "\n",
      " Profit Loss: -21.439003292270794e\n",
      "\n",
      "Expected annual return: 138.8%\n",
      "Annual volatility: 65.7%\n",
      "Sharpe Ratio: 2.08\n",
      "Invest 100.0\n",
      "\n",
      " Profit Loss: -12.004239577363272e\n",
      "\n"
     ]
    }
   ],
   "source": [
    "inputs[\"n_coins\"] = 10\n",
    "\n",
    "# {'mu': 'mean', 's': 'exp', 'obj_function': 'quadratic', 'compounding': True}  bull 2018/2022\n",
    "# {'mu': 'capm', 's': 'exp', 'obj_function': 'min_volat', 'compounding': False} bear 2016\n",
    "inputs[\"mu_method\"] = 'mean'\n",
    "inputs[\"cov_method\"] = 'exp'\n",
    "inputs[\"obj_function\"] = 'quadratic'\n",
    "inputs[\"compounding\"] = True\n",
    "\n",
    "print(f'\\n===== {inputs[\"n_coins\"]} COINS ======\\n')\n",
    "\n",
    "p_l_10, results_10, portf_10 = app_wrapper.calculate_profit(inputs)\n"
   ]
  },
  {
   "cell_type": "markdown",
   "metadata": {},
   "source": [
    "## High risk investment"
   ]
  },
  {
   "cell_type": "code",
   "execution_count": 8,
   "metadata": {},
   "outputs": [
    {
     "name": "stdout",
     "output_type": "stream",
     "text": [
      "\n",
      "===== 20 COINS ======\n",
      "\n",
      "Expected annual return: 286.8%\n",
      "Annual volatility: 87.4%\n",
      "Sharpe Ratio: 3.26\n",
      "Invest 100.0\n",
      "\n",
      " Profit Loss: -48.9478354505119e\n",
      "\n",
      "Expected annual return: 269.2%\n",
      "Annual volatility: 78.5%\n",
      "Sharpe Ratio: 3.41\n",
      "Invest 100.0\n",
      "\n",
      " Profit Loss: -44.77525965329154e\n",
      "\n",
      "Expected annual return: 233.9%\n",
      "Annual volatility: 80.9%\n",
      "Sharpe Ratio: 2.87\n",
      "Invest 100.0\n",
      "\n",
      " Profit Loss: -24.587398056001177e\n",
      "\n",
      "Expected annual return: 230.8%\n",
      "Annual volatility: 83.0%\n",
      "Sharpe Ratio: 2.76\n",
      "Invest 100.0\n",
      "\n",
      " Profit Loss: -28.93882026106684e\n",
      "\n",
      "Expected annual return: 204.6%\n",
      "Annual volatility: 75.5%\n",
      "Sharpe Ratio: 2.68\n",
      "Invest 100.0\n",
      "\n",
      " Profit Loss: -7.9820689604985215e\n",
      "\n"
     ]
    }
   ],
   "source": [
    "inputs[\"n_coins\"] = 20\n",
    "\n",
    "# {'mu': 'mean', 's': 'exp', 'obj_function': 'quadratic', 'compounding': True} bull 2018/2022\n",
    "# {'mu': 'mean', 's': 'sample', 'obj_function': 'sharpe', 'compounding': True} bear 2016\n",
    "\n",
    "inputs[\"mu_method\"] = 'mean'\n",
    "inputs[\"cov_method\"] = 'exp'\n",
    "inputs[\"obj_function\"] = 'quadratic'\n",
    "inputs[\"compounding\"] = True\n",
    "\n",
    "print(f'\\n===== {inputs[\"n_coins\"]} COINS ======\\n')\n",
    "\n",
    "p_l_20, results_20, portf_20 = app_wrapper.calculate_profit(inputs)"
   ]
  },
  {
   "cell_type": "markdown",
   "metadata": {},
   "source": [
    "## Results"
   ]
  },
  {
   "cell_type": "code",
   "execution_count": 9,
   "metadata": {},
   "outputs": [
    {
     "name": "stdout",
     "output_type": "stream",
     "text": [
      "Profit 2c: -73.38 $\n",
      "Profit 10c: -140.11 $\n",
      "Profit 20c: -155.23 $\n",
      "\n",
      "Investment: 1500 $\n",
      "Final Profit: -368.72 $\n",
      "Final Profit: -24.58 %\n",
      "\n",
      "Time elapsed: 0.0896475116411845\n"
     ]
    }
   ],
   "source": [
    "print(f'Profit 2c: {round(p_l_2, 2)} $')\n",
    "print(f'Profit 10c: {round(p_l_10, 2)} $')\n",
    "print(f'Profit 20c: {round(p_l_20, 2)} $')\n",
    "# print(f'Profit 100c: {round(p_l_100, 2)} $')\n",
    "\n",
    "inv = 3 * budget * len(n_days_vector)\n",
    "print(f'\\nInvestment: {inv} $')\n",
    "print(f'Final Profit: {round(p_l_2 + p_l_10 + p_l_20 , 2)} $') # + p_l_100\n",
    "print(f'Final Profit: {round((p_l_2 + p_l_10 + p_l_20 ) / inv * 100, 2)} %\\n') #+ p_l_100\n",
    "end = time()\n",
    "print(f'Time elapsed: {(end - start) / 60}')"
   ]
  },
  {
   "cell_type": "code",
   "execution_count": 10,
   "metadata": {},
   "outputs": [
    {
     "name": "stdout",
     "output_type": "stream",
     "text": [
      "ETH 0.2749476550358221\n"
     ]
    }
   ],
   "source": [
    "app_wrapper.check_coins(portf_2)"
   ]
  },
  {
   "cell_type": "code",
   "execution_count": 11,
   "metadata": {},
   "outputs": [
    {
     "name": "stdout",
     "output_type": "stream",
     "text": [
      "ETH 0.08162604176493485\n",
      "MATIC 211.1003569288739\n",
      "SOL 7.157038360849472\n"
     ]
    }
   ],
   "source": [
    "app_wrapper.check_coins(portf_10)"
   ]
  },
  {
   "cell_type": "code",
   "execution_count": 12,
   "metadata": {},
   "outputs": [
    {
     "name": "stdout",
     "output_type": "stream",
     "text": [
      "MATIC 684.8221474670734\n"
     ]
    }
   ],
   "source": [
    "app_wrapper.check_coins(portf_20)"
   ]
  },
  {
   "cell_type": "code",
   "execution_count": 13,
   "metadata": {},
   "outputs": [
    {
     "data": {
      "text/html": [
       "<div>\n",
       "<style scoped>\n",
       "    .dataframe tbody tr th:only-of-type {\n",
       "        vertical-align: middle;\n",
       "    }\n",
       "\n",
       "    .dataframe tbody tr th {\n",
       "        vertical-align: top;\n",
       "    }\n",
       "\n",
       "    .dataframe thead th {\n",
       "        text-align: right;\n",
       "    }\n",
       "</style>\n",
       "<table border=\"1\" class=\"dataframe\">\n",
       "  <thead>\n",
       "    <tr style=\"text-align: right;\">\n",
       "      <th></th>\n",
       "      <th>Date</th>\n",
       "      <th>Coin</th>\n",
       "      <th>Amount</th>\n",
       "      <th>n_coins</th>\n",
       "    </tr>\n",
       "  </thead>\n",
       "  <tbody>\n",
       "    <tr>\n",
       "      <th>0</th>\n",
       "      <td>2023-04-26</td>\n",
       "      <td>MATIC</td>\n",
       "      <td>100.000</td>\n",
       "      <td>101.406135</td>\n",
       "    </tr>\n",
       "    <tr>\n",
       "      <th>0</th>\n",
       "      <td>2023-05-26</td>\n",
       "      <td>MATIC</td>\n",
       "      <td>100.000</td>\n",
       "      <td>109.694222</td>\n",
       "    </tr>\n",
       "    <tr>\n",
       "      <th>1</th>\n",
       "      <td>2023-06-25</td>\n",
       "      <td>ETH</td>\n",
       "      <td>76.339</td>\n",
       "      <td>0.040168</td>\n",
       "    </tr>\n",
       "    <tr>\n",
       "      <th>0</th>\n",
       "      <td>2023-06-25</td>\n",
       "      <td>SOL</td>\n",
       "      <td>23.661</td>\n",
       "      <td>1.394171</td>\n",
       "    </tr>\n",
       "    <tr>\n",
       "      <th>0</th>\n",
       "      <td>2023-07-25</td>\n",
       "      <td>SOL</td>\n",
       "      <td>67.771</td>\n",
       "      <td>2.911210</td>\n",
       "    </tr>\n",
       "    <tr>\n",
       "      <th>1</th>\n",
       "      <td>2023-07-25</td>\n",
       "      <td>ETH</td>\n",
       "      <td>32.229</td>\n",
       "      <td>0.017348</td>\n",
       "    </tr>\n",
       "    <tr>\n",
       "      <th>0</th>\n",
       "      <td>2023-08-24</td>\n",
       "      <td>SOL</td>\n",
       "      <td>59.979</td>\n",
       "      <td>2.851657</td>\n",
       "    </tr>\n",
       "    <tr>\n",
       "      <th>1</th>\n",
       "      <td>2023-08-24</td>\n",
       "      <td>ETH</td>\n",
       "      <td>40.021</td>\n",
       "      <td>0.024110</td>\n",
       "    </tr>\n",
       "  </tbody>\n",
       "</table>\n",
       "</div>"
      ],
      "text/plain": [
       "        Date   Coin   Amount     n_coins\n",
       "0 2023-04-26  MATIC  100.000  101.406135\n",
       "0 2023-05-26  MATIC  100.000  109.694222\n",
       "1 2023-06-25    ETH   76.339    0.040168\n",
       "0 2023-06-25    SOL   23.661    1.394171\n",
       "0 2023-07-25    SOL   67.771    2.911210\n",
       "1 2023-07-25    ETH   32.229    0.017348\n",
       "0 2023-08-24    SOL   59.979    2.851657\n",
       "1 2023-08-24    ETH   40.021    0.024110"
      ]
     },
     "metadata": {},
     "output_type": "display_data"
    }
   ],
   "source": [
    "df_10 = app_wrapper.get_df_from_dict(portf_10)\n",
    "display(df_10)\n"
   ]
  },
  {
   "cell_type": "code",
   "execution_count": 14,
   "metadata": {},
   "outputs": [
    {
     "data": {
      "text/html": [
       "<div>\n",
       "<style scoped>\n",
       "    .dataframe tbody tr th:only-of-type {\n",
       "        vertical-align: middle;\n",
       "    }\n",
       "\n",
       "    .dataframe tbody tr th {\n",
       "        vertical-align: top;\n",
       "    }\n",
       "\n",
       "    .dataframe thead th {\n",
       "        text-align: right;\n",
       "    }\n",
       "</style>\n",
       "<table border=\"1\" class=\"dataframe\">\n",
       "  <thead>\n",
       "    <tr style=\"text-align: right;\">\n",
       "      <th></th>\n",
       "      <th>Date</th>\n",
       "      <th>Coin</th>\n",
       "      <th>Amount</th>\n",
       "      <th>n_coins</th>\n",
       "    </tr>\n",
       "  </thead>\n",
       "  <tbody>\n",
       "    <tr>\n",
       "      <th>0</th>\n",
       "      <td>2023-04-26</td>\n",
       "      <td>MATIC</td>\n",
       "      <td>100.0</td>\n",
       "      <td>101.406135</td>\n",
       "    </tr>\n",
       "    <tr>\n",
       "      <th>0</th>\n",
       "      <td>2023-05-26</td>\n",
       "      <td>MATIC</td>\n",
       "      <td>100.0</td>\n",
       "      <td>109.694222</td>\n",
       "    </tr>\n",
       "    <tr>\n",
       "      <th>0</th>\n",
       "      <td>2023-06-25</td>\n",
       "      <td>MATIC</td>\n",
       "      <td>100.0</td>\n",
       "      <td>149.793854</td>\n",
       "    </tr>\n",
       "    <tr>\n",
       "      <th>0</th>\n",
       "      <td>2023-07-25</td>\n",
       "      <td>MATIC</td>\n",
       "      <td>100.0</td>\n",
       "      <td>141.150520</td>\n",
       "    </tr>\n",
       "    <tr>\n",
       "      <th>0</th>\n",
       "      <td>2023-08-24</td>\n",
       "      <td>MATIC</td>\n",
       "      <td>100.0</td>\n",
       "      <td>182.777416</td>\n",
       "    </tr>\n",
       "  </tbody>\n",
       "</table>\n",
       "</div>"
      ],
      "text/plain": [
       "        Date   Coin  Amount     n_coins\n",
       "0 2023-04-26  MATIC   100.0  101.406135\n",
       "0 2023-05-26  MATIC   100.0  109.694222\n",
       "0 2023-06-25  MATIC   100.0  149.793854\n",
       "0 2023-07-25  MATIC   100.0  141.150520\n",
       "0 2023-08-24  MATIC   100.0  182.777416"
      ]
     },
     "metadata": {},
     "output_type": "display_data"
    }
   ],
   "source": [
    "df_20 = app_wrapper.get_df_from_dict(portf_20)\n",
    "display(df_20)\n"
   ]
  },
  {
   "cell_type": "code",
   "execution_count": 15,
   "metadata": {},
   "outputs": [
    {
     "data": {
      "text/html": [
       "<div>\n",
       "<style scoped>\n",
       "    .dataframe tbody tr th:only-of-type {\n",
       "        vertical-align: middle;\n",
       "    }\n",
       "\n",
       "    .dataframe tbody tr th {\n",
       "        vertical-align: top;\n",
       "    }\n",
       "\n",
       "    .dataframe thead th {\n",
       "        text-align: right;\n",
       "    }\n",
       "</style>\n",
       "<table border=\"1\" class=\"dataframe\">\n",
       "  <thead>\n",
       "    <tr style=\"text-align: right;\">\n",
       "      <th></th>\n",
       "      <th>Date</th>\n",
       "      <th>Coin</th>\n",
       "      <th>Amount</th>\n",
       "      <th>n_coins</th>\n",
       "    </tr>\n",
       "  </thead>\n",
       "  <tbody>\n",
       "    <tr>\n",
       "      <th>0</th>\n",
       "      <td>2023-04-26</td>\n",
       "      <td>ETH</td>\n",
       "      <td>100.0</td>\n",
       "      <td>0.053574</td>\n",
       "    </tr>\n",
       "    <tr>\n",
       "      <th>0</th>\n",
       "      <td>2023-05-26</td>\n",
       "      <td>ETH</td>\n",
       "      <td>100.0</td>\n",
       "      <td>0.054684</td>\n",
       "    </tr>\n",
       "    <tr>\n",
       "      <th>0</th>\n",
       "      <td>2023-06-25</td>\n",
       "      <td>ETH</td>\n",
       "      <td>100.0</td>\n",
       "      <td>0.052618</td>\n",
       "    </tr>\n",
       "    <tr>\n",
       "      <th>0</th>\n",
       "      <td>2023-07-25</td>\n",
       "      <td>ETH</td>\n",
       "      <td>100.0</td>\n",
       "      <td>0.053829</td>\n",
       "    </tr>\n",
       "    <tr>\n",
       "      <th>0</th>\n",
       "      <td>2023-08-24</td>\n",
       "      <td>ETH</td>\n",
       "      <td>100.0</td>\n",
       "      <td>0.060243</td>\n",
       "    </tr>\n",
       "  </tbody>\n",
       "</table>\n",
       "</div>"
      ],
      "text/plain": [
       "        Date Coin  Amount   n_coins\n",
       "0 2023-04-26  ETH   100.0  0.053574\n",
       "0 2023-05-26  ETH   100.0  0.054684\n",
       "0 2023-06-25  ETH   100.0  0.052618\n",
       "0 2023-07-25  ETH   100.0  0.053829\n",
       "0 2023-08-24  ETH   100.0  0.060243"
      ]
     },
     "metadata": {},
     "output_type": "display_data"
    }
   ],
   "source": [
    "df_2 = app_wrapper.get_df_from_dict(portf_2)\n",
    "display(df_2)\n"
   ]
  },
  {
   "cell_type": "code",
   "execution_count": null,
   "metadata": {},
   "outputs": [],
   "source": []
  }
 ],
 "metadata": {
  "kernelspec": {
   "display_name": "Python 3",
   "language": "python",
   "name": "python3"
  },
  "language_info": {
   "codemirror_mode": {
    "name": "ipython",
    "version": 3
   },
   "file_extension": ".py",
   "mimetype": "text/x-python",
   "name": "python",
   "nbconvert_exporter": "python",
   "pygments_lexer": "ipython3",
   "version": "3.8.5"
  }
 },
 "nbformat": 4,
 "nbformat_minor": 4
}
