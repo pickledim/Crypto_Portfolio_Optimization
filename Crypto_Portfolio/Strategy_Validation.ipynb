{
 "cells": [
  {
   "cell_type": "markdown",
   "metadata": {},
   "source": [
    "# Introduction\n",
    "\n",
    "The provided notebook is a Python program for cryptocurrency data analysis and portfolio optimization. It uses historical price data and market cap data for selected cryptocurrencies to perform portfolio optimization using the Efficient Frontier approach. The script aims to calculate the profit/loss of the portfolio over different time periods and with varying numbers of coins.\n",
    "\n",
    "# Notebook\n",
    "## Import libs"
   ]
  },
  {
   "cell_type": "code",
   "execution_count": 1,
   "metadata": {},
   "outputs": [],
   "source": [
    "import sys\n",
    "sys.path.append(\"../\")\n",
    "\n",
    "from time import time\n",
    "from datetime import datetime\n",
    "\n",
    "\n",
    "import numpy as np\n",
    "import pandas as pd\n",
    "\n",
    "from ipysheet import from_dataframe\n",
    "\n",
    "import app_wrapper"
   ]
  },
  {
   "cell_type": "markdown",
   "metadata": {},
   "source": [
    "## Inputs"
   ]
  },
  {
   "cell_type": "code",
   "execution_count": 2,
   "metadata": {},
   "outputs": [
    {
     "name": "stdout",
     "output_type": "stream",
     "text": [
      "277\n",
      "0\n"
     ]
    }
   ],
   "source": [
    "start = time()\n",
    "\n",
    "top_100 = False\n",
    "\n",
    "budget = 50 * 2\n",
    "\n",
    "remove_shitcoins = True\n",
    "\n",
    "save_dir = \"./legacy_data\" \n",
    "\n",
    "#latest update on the database: 01/01/2024\n",
    "date_latest_update = \"02/02/2024\" \n",
    "\n",
    "\n",
    "# Bull 2016\n",
    "# buy_date = \"10/07/2015\" # 1 year before the latest halvening\n",
    "# sell_date = \"09/07/2017\" # 1 year after the latest halvening \n",
    "\n",
    "\n",
    "# Bull 2021\n",
    "# buy_date = \"12/05/2019\" # 1 year before the latest halvening\n",
    "# sell_date = \"11/05/2021\" # 1 year after the latest halvening \n",
    "\n",
    "# Bear\n",
    "# buy_date = \"01/01/2022\" # 1 year before the latest halvening\n",
    "# sell_date = \"26/04/2023\" # 1 year after the latest halvening\n",
    "\n",
    "# Bull Now\n",
    "buy_date = \"01/05/2023\" # 1 year before the latest halvening -> \"26/04/2023\" \n",
    "sell_date = date_latest_update # 1 year after the latest halvening\n",
    "\n",
    "buy_day = app_wrapper.convert_date_to_number(date_latest_update, buy_date)\n",
    "sell_day = app_wrapper.convert_date_to_number(date_latest_update, sell_date)\n",
    "print(buy_day)\n",
    "print(sell_day)"
   ]
  },
  {
   "cell_type": "code",
   "execution_count": 3,
   "metadata": {},
   "outputs": [],
   "source": [
    "n_days_vector = np.arange(buy_day, sell_day, -30)\n"
   ]
  },
  {
   "cell_type": "markdown",
   "metadata": {},
   "source": [
    "## Optimization parameters"
   ]
  },
  {
   "cell_type": "code",
   "execution_count": 4,
   "metadata": {},
   "outputs": [],
   "source": [
    "# 'mu': 'capm', 's': 'exp', 'obj_function': 'quadratic', 'compounding': False bull 2018/2022\n",
    "# {'mu': 'capm', 's': 'exp', 'obj_function': 'min_volat', 'compounding': False} bear 2016\n",
    "mu_method = 'capm'\n",
    "cov_method = 'exp'\n",
    "obj_function = 'sharpe'\n",
    "compounding = False"
   ]
  },
  {
   "cell_type": "code",
   "execution_count": 5,
   "metadata": {},
   "outputs": [],
   "source": [
    "inputs = {\n",
    "    \"top_100\": top_100,\n",
    "    \"remove_shitcoins\": remove_shitcoins,\n",
    "    \"mu_method\": mu_method,\n",
    "    \"cov_method\": cov_method,\n",
    "    \"obj_function\": obj_function,\n",
    "    \"budget\": budget,\n",
    "    \"days_vector\": n_days_vector,\n",
    "    \"sell_day\": sell_day,\n",
    "    \"compounding\": compounding,\n",
    "    \"save_dir\": save_dir\n",
    "}"
   ]
  },
  {
   "cell_type": "markdown",
   "metadata": {},
   "source": [
    "## Low risk investment"
   ]
  },
  {
   "cell_type": "code",
   "execution_count": 6,
   "metadata": {},
   "outputs": [
    {
     "name": "stdout",
     "output_type": "stream",
     "text": [
      "\n",
      "===== 2 COINS ======\n",
      "\n",
      "Expected annual return: 133.1%\n",
      "Annual volatility: 62.3%\n",
      "Sharpe Ratio: 2.11\n",
      "Invest 100.0\n",
      "\n",
      " Profit Loss: 25.987719274603858e\n",
      "\n",
      "Expected annual return: 131.7%\n",
      "Annual volatility: 56.5%\n",
      "Sharpe Ratio: 2.30\n",
      "Invest 100.0\n",
      "\n",
      " Profit Loss: 23.15247791960312e\n",
      "\n",
      "Expected annual return: 131.4%\n",
      "Annual volatility: 54.4%\n",
      "Sharpe Ratio: 2.38\n",
      "Invest 100.0\n",
      "\n",
      " Profit Loss: 19.39019369768827e\n",
      "\n",
      "Expected annual return: 129.6%\n",
      "Annual volatility: 49.6%\n",
      "Sharpe Ratio: 2.58\n",
      "Invest 100.0\n",
      "\n",
      " Profit Loss: 23.97849695466e\n",
      "\n",
      "Expected annual return: 127.6%\n",
      "Annual volatility: 46.2%\n",
      "Sharpe Ratio: 2.72\n",
      "Invest 100.0\n",
      "\n",
      " Profit Loss: 33.43376567126551e\n",
      "\n",
      "Expected annual return: 126.0%\n",
      "Annual volatility: 42.2%\n",
      "Sharpe Ratio: 2.94\n",
      "Invest 100.0\n",
      "\n",
      " Profit Loss: 39.63713254781052e\n",
      "\n",
      "Expected annual return: 126.5%\n",
      "Annual volatility: 41.2%\n",
      "Sharpe Ratio: 3.03\n",
      "Invest 100.0\n",
      "\n",
      " Profit Loss: 29.91187989315391e\n",
      "\n",
      "Expected annual return: 126.7%\n",
      "Annual volatility: 47.3%\n",
      "Sharpe Ratio: 2.64\n",
      "Invest 100.0\n",
      "\n",
      " Profit Loss: 13.841293144224675e\n",
      "\n",
      "Expected annual return: 126.0%\n",
      "Annual volatility: 47.5%\n",
      "Sharpe Ratio: 2.61\n",
      "Invest 100.0\n",
      "\n",
      " Profit Loss: -2.8919471197773903e\n",
      "\n",
      "Expected annual return: 123.7%\n",
      "Annual volatility: 51.1%\n",
      "Sharpe Ratio: 2.38\n",
      "Invest 100.0\n",
      "\n",
      " Profit Loss: 1.878629974971051e\n",
      "\n"
     ]
    }
   ],
   "source": [
    "inputs[\"n_coins\"] = 2\n",
    "\n",
    "print(f'\\n===== {inputs[\"n_coins\"]} COINS ======\\n')\n",
    "\n",
    "p_l_2, results_2, portf_2 = app_wrapper.calculate_profit(inputs)"
   ]
  },
  {
   "cell_type": "markdown",
   "metadata": {},
   "source": [
    "## Medium risk investment"
   ]
  },
  {
   "cell_type": "code",
   "execution_count": 7,
   "metadata": {
    "scrolled": false
   },
   "outputs": [
    {
     "name": "stdout",
     "output_type": "stream",
     "text": [
      "\n",
      "===== 10 COINS ======\n",
      "\n",
      "Expected annual return: 282.5%\n",
      "Annual volatility: 85.5%\n",
      "Sharpe Ratio: 3.28\n",
      "Invest 100.0\n",
      "\n",
      " Profit Loss: -16.85146447014841e\n",
      "\n",
      "Expected annual return: 265.8%\n",
      "Annual volatility: 76.9%\n",
      "Sharpe Ratio: 3.43\n",
      "Invest 100.0\n",
      "\n",
      " Profit Loss: -10.632195598185287e\n",
      "\n",
      "Expected annual return: 138.2%\n",
      "Annual volatility: 64.7%\n",
      "Sharpe Ratio: 2.10\n",
      "Invest 100.0\n",
      "\n",
      " Profit Loss: 177.98498205037254e\n",
      "\n",
      "Expected annual return: 155.9%\n",
      "Annual volatility: 77.5%\n",
      "Sharpe Ratio: 1.99\n",
      "Invest 100.0\n",
      "\n",
      " Profit Loss: 237.7530678660186e\n",
      "\n",
      "Expected annual return: 141.6%\n",
      "Annual volatility: 67.2%\n",
      "Sharpe Ratio: 2.08\n",
      "Invest 100.0\n",
      "\n",
      " Profit Loss: 246.04515085447449e\n",
      "\n",
      "Expected annual return: 130.7%\n",
      "Annual volatility: 56.9%\n",
      "Sharpe Ratio: 2.26\n",
      "Invest 100.0\n",
      "\n",
      " Profit Loss: 236.88204026435855e\n",
      "\n",
      "Expected annual return: 168.4%\n",
      "Annual volatility: 80.5%\n",
      "Sharpe Ratio: 2.07\n",
      "Invest 100.0\n",
      "\n",
      " Profit Loss: 217.31436766591344e\n",
      "\n",
      "Expected annual return: 205.6%\n",
      "Annual volatility: 102.3%\n",
      "Sharpe Ratio: 1.99\n",
      "Invest 100.0\n",
      "\n",
      " Profit Loss: 82.40482831681207e\n",
      "\n",
      "Expected annual return: 256.6%\n",
      "Annual volatility: 105.8%\n",
      "Sharpe Ratio: 2.41\n",
      "Invest 100.0\n",
      "\n",
      " Profit Loss: -6.151219068639556e\n",
      "\n",
      "Expected annual return: 233.8%\n",
      "Annual volatility: 103.0%\n",
      "Sharpe Ratio: 2.25\n",
      "Invest 100.0\n",
      "\n",
      " Profit Loss: 8.652044429736046e\n",
      "\n"
     ]
    }
   ],
   "source": [
    "inputs[\"n_coins\"] = 10\n",
    "\n",
    "# {'mu': 'mean', 's': 'exp', 'obj_function': 'quadratic', 'compounding': True}  bull 2018/2022\n",
    "# {'mu': 'capm', 's': 'exp', 'obj_function': 'min_volat', 'compounding': False} bear 2016\n",
    "inputs[\"mu_method\"] = 'mean'\n",
    "inputs[\"cov_method\"] = 'exp'\n",
    "inputs[\"obj_function\"] = 'quadratic'\n",
    "inputs[\"compounding\"] = True\n",
    "\n",
    "print(f'\\n===== {inputs[\"n_coins\"]} COINS ======\\n')\n",
    "\n",
    "p_l_10, results_10, portf_10 = app_wrapper.calculate_profit(inputs)\n"
   ]
  },
  {
   "cell_type": "markdown",
   "metadata": {},
   "source": [
    "## High risk investment"
   ]
  },
  {
   "cell_type": "code",
   "execution_count": 8,
   "metadata": {},
   "outputs": [
    {
     "name": "stdout",
     "output_type": "stream",
     "text": [
      "\n",
      "===== 20 COINS ======\n",
      "\n",
      "Expected annual return: 282.5%\n",
      "Annual volatility: 85.5%\n",
      "Sharpe Ratio: 3.28\n",
      "Invest 100.0\n",
      "\n",
      " Profit Loss: -16.85146447014841e\n",
      "\n",
      "Expected annual return: 265.8%\n",
      "Annual volatility: 76.9%\n",
      "Sharpe Ratio: 3.43\n",
      "Invest 100.0\n",
      "\n",
      " Profit Loss: -10.632195598185287e\n",
      "\n",
      "Expected annual return: 231.8%\n",
      "Annual volatility: 81.5%\n",
      "Sharpe Ratio: 2.82\n",
      "Invest 100.0\n",
      "\n",
      " Profit Loss: 20.77493781470302e\n",
      "\n",
      "Expected annual return: 228.3%\n",
      "Annual volatility: 81.2%\n",
      "Sharpe Ratio: 2.79\n",
      "Invest 100.0\n",
      "\n",
      " Profit Loss: 14.446899430195106e\n",
      "\n",
      "Expected annual return: 209.2%\n",
      "Annual volatility: 74.2%\n",
      "Sharpe Ratio: 2.79\n",
      "Invest 100.0\n",
      "\n",
      " Profit Loss: 34.54242291595102e\n",
      "\n",
      "Expected annual return: 193.9%\n",
      "Annual volatility: 66.7%\n",
      "Sharpe Ratio: 2.88\n",
      "Invest 100.0\n",
      "\n",
      " Profit Loss: 53.648007569935686e\n",
      "\n",
      "Expected annual return: 199.7%\n",
      "Annual volatility: 64.6%\n",
      "Sharpe Ratio: 3.06\n",
      "Invest 100.0\n",
      "\n",
      " Profit Loss: 28.631972864617712e\n",
      "\n",
      "Expected annual return: 205.7%\n",
      "Annual volatility: 70.8%\n",
      "Sharpe Ratio: 2.88\n",
      "Invest 100.00000000000001\n",
      "\n",
      " Profit Loss: 17.730072292791515e\n",
      "\n",
      "Expected annual return: 241.8%\n",
      "Annual volatility: 80.7%\n",
      "Sharpe Ratio: 2.97\n",
      "Invest 100.0\n",
      "\n",
      " Profit Loss: -13.473509444506952e\n",
      "\n",
      "Expected annual return: 222.1%\n",
      "Annual volatility: 86.7%\n",
      "Sharpe Ratio: 2.54\n",
      "Invest 100.0\n",
      "\n",
      " Profit Loss: 7.598781026162582e\n",
      "\n"
     ]
    }
   ],
   "source": [
    "inputs[\"n_coins\"] = 20\n",
    "\n",
    "# {'mu': 'mean', 's': 'exp', 'obj_function': 'quadratic', 'compounding': True} bull 2018/2022\n",
    "# {'mu': 'mean', 's': 'sample', 'obj_function': 'sharpe', 'compounding': True} bear 2016\n",
    "\n",
    "inputs[\"mu_method\"] = 'mean'\n",
    "inputs[\"cov_method\"] = 'exp'\n",
    "inputs[\"obj_function\"] = 'quadratic'\n",
    "inputs[\"compounding\"] = True\n",
    "\n",
    "print(f'\\n===== {inputs[\"n_coins\"]} COINS ======\\n')\n",
    "\n",
    "p_l_20, results_20, portf_20 = app_wrapper.calculate_profit(inputs)"
   ]
  },
  {
   "cell_type": "markdown",
   "metadata": {},
   "source": [
    "## Results"
   ]
  },
  {
   "cell_type": "code",
   "execution_count": 9,
   "metadata": {
    "scrolled": true
   },
   "outputs": [
    {
     "name": "stdout",
     "output_type": "stream",
     "text": [
      "Profit 2c: 208.32 $\n",
      "Profit 10c: 1173.4 $\n",
      "Profit 20c: 136.42 $\n",
      "\n",
      "Investment: 3000 $\n",
      "Final Profit: 1518.14 $\n",
      "Final Profit: 50.6 %\n",
      "\n",
      "Time elapsed: 0.12227073907852173\n"
     ]
    }
   ],
   "source": [
    "print(f'Profit 2c: {round(p_l_2, 2)} $')\n",
    "print(f'Profit 10c: {round(p_l_10, 2)} $')\n",
    "print(f'Profit 20c: {round(p_l_20, 2)} $')\n",
    "# print(f'Profit 100c: {round(p_l_100, 2)} $')\n",
    "\n",
    "inv = 3 * budget * len(n_days_vector)\n",
    "print(f'\\nInvestment: {inv} $')\n",
    "print(f'Final Profit: {round(p_l_2 + p_l_10 + p_l_20 , 2)} $') # + p_l_100\n",
    "print(f'Final Profit: {round((p_l_2 + p_l_10 + p_l_20 ) / inv * 100, 2)} %\\n') #+ p_l_100\n",
    "end = time()\n",
    "print(f'Time elapsed: {(end - start) / 60}')"
   ]
  },
  {
   "cell_type": "code",
   "execution_count": 10,
   "metadata": {},
   "outputs": [
    {
     "name": "stdout",
     "output_type": "stream",
     "text": [
      "BTC 0.0002032852908305049\n",
      "ETH 0.519723052813851\n"
     ]
    }
   ],
   "source": [
    "app_wrapper.check_coins(portf_2)"
   ]
  },
  {
   "cell_type": "code",
   "execution_count": 11,
   "metadata": {},
   "outputs": [
    {
     "name": "stdout",
     "output_type": "stream",
     "text": [
      "ETH 0.09393154515293428\n",
      "MATIC 216.09377519475427\n",
      "SOL 17.762627986969253\n"
     ]
    }
   ],
   "source": [
    "app_wrapper.check_coins(portf_10)"
   ]
  },
  {
   "cell_type": "code",
   "execution_count": 12,
   "metadata": {},
   "outputs": [
    {
     "name": "stdout",
     "output_type": "stream",
     "text": [
      "MATIC 1230.1972244237331\n",
      "SOL 1.5362332136795913\n"
     ]
    }
   ],
   "source": [
    "app_wrapper.check_coins(portf_20)"
   ]
  },
  {
   "cell_type": "code",
   "execution_count": 13,
   "metadata": {},
   "outputs": [
    {
     "data": {
      "application/vnd.jupyter.widget-view+json": {
       "model_id": "4b9a2ae359c44ee5a180302805c3c84f",
       "version_major": 2,
       "version_minor": 0
      },
      "text/plain": [
       "Sheet(cells=(Cell(column_end=0, column_start=0, numeric_format=None, row_end=13, row_start=0, squeeze_row=Fals…"
      ]
     },
     "metadata": {},
     "output_type": "display_data"
    }
   ],
   "source": [
    "df_10 = app_wrapper.get_df_from_dict(portf_10)\n",
    "display(from_dataframe(df_10))\n"
   ]
  },
  {
   "cell_type": "code",
   "execution_count": 14,
   "metadata": {},
   "outputs": [
    {
     "data": {
      "application/vnd.jupyter.widget-view+json": {
       "model_id": "9b774c6e05fc4cc2b6f1761ca0e757d4",
       "version_major": 2,
       "version_minor": 0
      },
      "text/plain": [
       "Sheet(cells=(Cell(column_end=0, column_start=0, numeric_format=None, row_end=12, row_start=0, squeeze_row=Fals…"
      ]
     },
     "metadata": {},
     "output_type": "display_data"
    }
   ],
   "source": [
    "df_20 = app_wrapper.get_df_from_dict(portf_20)\n",
    "display(from_dataframe(df_20))\n"
   ]
  },
  {
   "cell_type": "code",
   "execution_count": 15,
   "metadata": {
    "scrolled": true
   },
   "outputs": [
    {
     "data": {
      "application/vnd.jupyter.widget-view+json": {
       "model_id": "f11ddb574e6d4cbe923d08ee60900f7b",
       "version_major": 2,
       "version_minor": 0
      },
      "text/plain": [
       "Sheet(cells=(Cell(column_end=0, column_start=0, numeric_format=None, row_end=11, row_start=0, squeeze_row=Fals…"
      ]
     },
     "metadata": {},
     "output_type": "display_data"
    }
   ],
   "source": [
    "df_2 = app_wrapper.get_df_from_dict(portf_2)\n",
    "display(from_dataframe(df_2))\n"
   ]
  },
  {
   "cell_type": "code",
   "execution_count": null,
   "metadata": {},
   "outputs": [],
   "source": []
  }
 ],
 "metadata": {
  "kernelspec": {
   "display_name": "Python 3",
   "language": "python",
   "name": "python3"
  },
  "language_info": {
   "codemirror_mode": {
    "name": "ipython",
    "version": 3
   },
   "file_extension": ".py",
   "mimetype": "text/x-python",
   "name": "python",
   "nbconvert_exporter": "python",
   "pygments_lexer": "ipython3",
   "version": "3.8.5"
  }
 },
 "nbformat": 4,
 "nbformat_minor": 4
}
