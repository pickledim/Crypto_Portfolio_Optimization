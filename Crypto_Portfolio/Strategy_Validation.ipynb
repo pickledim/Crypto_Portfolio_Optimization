{
 "cells": [
  {
   "cell_type": "markdown",
   "metadata": {},
   "source": [
    "# Introduction\n",
    "\n",
    "The provided notebook is a Python program for cryptocurrency data analysis and portfolio optimization. It uses historical price data and market cap data for selected cryptocurrencies to perform portfolio optimization using the Efficient Frontier approach. The script aims to calculate the profit/loss of the portfolio over different time periods and with varying numbers of coins.\n",
    "\n",
    "# Notebook\n",
    "## Import libs"
   ]
  },
  {
   "cell_type": "code",
   "execution_count": 1,
   "metadata": {},
   "outputs": [],
   "source": [
    "import sys\n",
    "sys.path.append(\"../\")\n",
    "\n",
    "from time import time\n",
    "\n",
    "\n",
    "import numpy as np\n",
    "import pandas as pd\n",
    "\n",
    "\n",
    "from src import cryptorama as cc"
   ]
  },
  {
   "cell_type": "markdown",
   "metadata": {},
   "source": [
    "## Functions"
   ]
  },
  {
   "cell_type": "code",
   "execution_count": 2,
   "metadata": {},
   "outputs": [],
   "source": [
    "def calculate_profit(df, _top_100, _n_coins, _mu_method, _cov_method, _obj_function, _budget, _n_days_vector, _drop,\n",
    "                     _hodl, save_dir):\n",
    "\n",
    "    crypto_class = cc.CryptoPortfolio(top_100, _budget, _n_coins, _hodl, save_dir)\n",
    "    results = {}\n",
    "    portf = {}\n",
    "\n",
    "    for n_days in _n_days_vector:\n",
    "        crypto_class.validate_from_past(_n_coins, n_days, _mu_method, _cov_method, _obj_function, _drop)\n",
    "        date = df.iloc[n_days].name\n",
    "\n",
    "        results[date] = crypto_class.p_l\n",
    "        portf[date] = crypto_class.portfolio_from_past\n",
    "\n",
    "    p_l = sum(results.values())\n",
    "\n",
    "    return p_l, results, portf\n",
    "\n",
    "def check_coins(portfolio):\n",
    "    # Convert the dictionary to a list of DataFrames\n",
    "    dfs = [pd.DataFrame(portfolio[date]) for date in portfolio]\n",
    "\n",
    "    # Concatenate the list of DataFrames into a single DataFrame\n",
    "    result_df = pd.concat(dfs, keys=portfolio.keys())\n",
    "\n",
    "    def get_total_coins(data):\n",
    "        print(data[\"Coin\"].iloc[0], data[\"n_coins\"].sum())\n",
    "\n",
    "    result_df.groupby(\"Coin\").apply(get_total_coins)"
   ]
  },
  {
   "cell_type": "markdown",
   "metadata": {},
   "source": [
    "## Inputs"
   ]
  },
  {
   "cell_type": "code",
   "execution_count": 3,
   "metadata": {},
   "outputs": [],
   "source": [
    "start = time()\n",
    "\n",
    "top_100 = False\n",
    "drop = False\n",
    "hodl = True\n",
    "\n",
    "n_years = 0.5\n",
    "budget = 100\n",
    "\n",
    "save_dir = \"./legacy_data\"\n",
    "\n",
    "# you place 100e each month for the past n years\n",
    "n_days_vector = np.arange(int(365 * n_years), 0, -30)\n",
    "df_mc = pd.read_csv(f'{save_dir}/All_cryptos_market_cap.csv', index_col=0)"
   ]
  },
  {
   "cell_type": "markdown",
   "metadata": {},
   "source": [
    "## Optimization parameters"
   ]
  },
  {
   "cell_type": "code",
   "execution_count": 4,
   "metadata": {},
   "outputs": [],
   "source": [
    "mu_method = 'mean'\n",
    "cov_method = 'exp'\n",
    "obj_function = 'sharpe'"
   ]
  },
  {
   "cell_type": "markdown",
   "metadata": {},
   "source": [
    "## Low risk investment"
   ]
  },
  {
   "cell_type": "code",
   "execution_count": 5,
   "metadata": {},
   "outputs": [
    {
     "name": "stdout",
     "output_type": "stream",
     "text": [
      "\n",
      "===== 2 COINS ======\n",
      "\n",
      "Expected annual return: 134.1%\n",
      "Annual volatility: 75.5%\n",
      "Sharpe Ratio: 1.75\n",
      "Invest 100.0\n",
      "\n",
      " Profit Loss: 16.047054837857395e\n",
      "\n",
      "Expected annual return: 131.8%\n",
      "Annual volatility: 69.9%\n",
      "Sharpe Ratio: 1.86\n",
      "Invest 100.0\n",
      "\n",
      " Profit Loss: 16.643035888322213e\n",
      "\n",
      "Expected annual return: 131.9%\n",
      "Annual volatility: 68.4%\n",
      "Sharpe Ratio: 1.90\n",
      "Invest 100.0\n",
      "\n",
      " Profit Loss: 8.446500554430942e\n",
      "\n",
      "Expected annual return: 132.4%\n",
      "Annual volatility: 63.5%\n",
      "Sharpe Ratio: 2.05\n",
      "Invest 100.0\n",
      "\n",
      " Profit Loss: -0.33253693950416546e\n",
      "\n",
      "Expected annual return: 129.7%\n",
      "Annual volatility: 57.3%\n",
      "Sharpe Ratio: 2.23\n",
      "Invest 100.0\n",
      "\n",
      " Profit Loss: 1.731703073358397e\n",
      "\n",
      "Expected annual return: 128.9%\n",
      "Annual volatility: 54.5%\n",
      "Sharpe Ratio: 2.33\n",
      "Invest 100.0\n",
      "\n",
      " Profit Loss: -2.11253801809501e\n",
      "\n",
      "Expected annual return: 126.3%\n",
      "Annual volatility: 50.8%\n",
      "Sharpe Ratio: 2.45\n",
      "Invest 100.0\n",
      "\n",
      " Profit Loss: 0.14077646376865566e\n",
      "\n"
     ]
    }
   ],
   "source": [
    "n_coins = 2\n",
    "\n",
    "print(f'\\n===== {n_coins} COINS ======\\n')\n",
    "\n",
    "p_l_2, results_2, portf_2 = calculate_profit(df_mc, top_100, n_coins, mu_method, cov_method,\n",
    "                                                obj_function, budget, n_days_vector, drop, hodl, save_dir)"
   ]
  },
  {
   "cell_type": "markdown",
   "metadata": {},
   "source": [
    "## Medium risk investment"
   ]
  },
  {
   "cell_type": "code",
   "execution_count": 6,
   "metadata": {
    "scrolled": true
   },
   "outputs": [
    {
     "name": "stdout",
     "output_type": "stream",
     "text": [
      "\n",
      "===== 10 COINS ======\n",
      "\n",
      "Expected annual return: 325.2%\n",
      "Annual volatility: 65.5%\n",
      "Sharpe Ratio: 4.94\n",
      "Invest 100.0\n",
      "\n",
      " Profit Loss: -21.861702348138333e\n",
      "\n",
      "Expected annual return: 320.1%\n",
      "Annual volatility: 67.1%\n",
      "Sharpe Ratio: 4.74\n",
      "Invest 100.0\n",
      "\n",
      " Profit Loss: -25.93224412614238e\n",
      "\n",
      "Expected annual return: 308.5%\n",
      "Annual volatility: 59.6%\n",
      "Sharpe Ratio: 5.14\n",
      "Invest 100.0\n",
      "\n",
      " Profit Loss: -22.656550173493756e\n",
      "\n",
      "Expected annual return: 304.7%\n",
      "Annual volatility: 54.3%\n",
      "Sharpe Ratio: 5.58\n",
      "Invest 100.0\n",
      "\n",
      " Profit Loss: -27.302614160718772e\n",
      "\n",
      "Expected annual return: 291.8%\n",
      "Annual volatility: 49.0%\n",
      "Sharpe Ratio: 5.91\n",
      "Invest 100.0\n",
      "\n",
      " Profit Loss: -21.63261816338897e\n",
      "\n",
      "Expected annual return: 268.5%\n",
      "Annual volatility: 53.8%\n",
      "Sharpe Ratio: 4.95\n",
      "Invest 100.0\n",
      "\n",
      " Profit Loss: 0.6721829868603495e\n",
      "\n",
      "Expected annual return: 261.7%\n",
      "Annual volatility: 50.5%\n",
      "Sharpe Ratio: 5.14\n",
      "Invest 100.0\n",
      "\n",
      " Profit Loss: 1.1312562335335155e\n",
      "\n"
     ]
    }
   ],
   "source": [
    "n_coins = 10\n",
    "obj_function = 'quadratic'\n",
    "\n",
    "print(f'\\n===== {n_coins} COINS ======\\n')\n",
    "\n",
    "p_l_10, results_10, portf_10 = calculate_profit(df_mc, top_100, n_coins, mu_method, cov_method,\n",
    "                                                obj_function, budget, n_days_vector, drop, hodl, save_dir)"
   ]
  },
  {
   "cell_type": "markdown",
   "metadata": {},
   "source": [
    "## High risk investment"
   ]
  },
  {
   "cell_type": "code",
   "execution_count": 7,
   "metadata": {},
   "outputs": [
    {
     "name": "stdout",
     "output_type": "stream",
     "text": [
      "\n",
      "===== 20 COINS ======\n",
      "\n",
      "Expected annual return: 325.2%\n",
      "Annual volatility: 65.5%\n",
      "Sharpe Ratio: 4.94\n",
      "Invest 100.0\n",
      "\n",
      " Profit Loss: -21.861702348138333e\n",
      "\n",
      "Expected annual return: 320.1%\n",
      "Annual volatility: 67.1%\n",
      "Sharpe Ratio: 4.74\n",
      "Invest 100.0\n",
      "\n",
      " Profit Loss: -25.93224412614238e\n",
      "\n",
      "Expected annual return: 308.5%\n",
      "Annual volatility: 59.6%\n",
      "Sharpe Ratio: 5.14\n",
      "Invest 100.0\n",
      "\n",
      " Profit Loss: -22.656550173493756e\n",
      "\n",
      "Expected annual return: 304.7%\n",
      "Annual volatility: 54.3%\n",
      "Sharpe Ratio: 5.58\n",
      "Invest 100.0\n",
      "\n",
      " Profit Loss: -27.302614160718772e\n",
      "\n",
      "Expected annual return: 291.8%\n",
      "Annual volatility: 49.0%\n",
      "Sharpe Ratio: 5.91\n",
      "Invest 100.0\n",
      "\n",
      " Profit Loss: -21.63261816338897e\n",
      "\n",
      "Expected annual return: 268.5%\n",
      "Annual volatility: 53.8%\n",
      "Sharpe Ratio: 4.95\n",
      "Invest 100.0\n",
      "\n",
      " Profit Loss: 0.6721829868603495e\n",
      "\n",
      "Expected annual return: 261.7%\n",
      "Annual volatility: 50.5%\n",
      "Sharpe Ratio: 5.14\n",
      "Invest 100.0\n",
      "\n",
      " Profit Loss: 1.1312562335335155e\n",
      "\n"
     ]
    }
   ],
   "source": [
    "n_coins = 20\n",
    "obj_function = 'quadratic'\n",
    "\n",
    "print(f'\\n===== {n_coins} COINS ======\\n')\n",
    "\n",
    "p_l_20, results_20, portf_20 = calculate_profit(df_mc, top_100, n_coins, mu_method, cov_method,\n",
    "                                                obj_function, budget, n_days_vector, drop, hodl, save_dir)"
   ]
  },
  {
   "cell_type": "markdown",
   "metadata": {},
   "source": [
    "## Casino"
   ]
  },
  {
   "cell_type": "code",
   "execution_count": 8,
   "metadata": {},
   "outputs": [
    {
     "name": "stdout",
     "output_type": "stream",
     "text": [
      "\n",
      "===== 100 COINS ======\n",
      "\n"
     ]
    },
    {
     "name": "stderr",
     "output_type": "stream",
     "text": [
      "/Users/dimitrisglenis/anaconda3/lib/python3.8/site-packages/pypfopt/risk_models.py:68: UserWarning: The covariance matrix is non positive semidefinite. Amending eigenvalues.\n",
      "  warnings.warn(\n"
     ]
    },
    {
     "name": "stdout",
     "output_type": "stream",
     "text": [
      "Expected annual return: 2120.2%\n",
      "Annual volatility: 147.8%\n",
      "Sharpe Ratio: 14.33\n",
      "Invest 100.0\n",
      "\n",
      " Profit Loss: -53.11141827170943e\n",
      "\n",
      "Expected annual return: 553.3%\n",
      "Annual volatility: 79.4%\n",
      "Sharpe Ratio: 6.94\n",
      "Invest 100.0\n",
      "\n",
      " Profit Loss: -29.247567098283916e\n",
      "\n"
     ]
    },
    {
     "name": "stderr",
     "output_type": "stream",
     "text": [
      "/Users/dimitrisglenis/anaconda3/lib/python3.8/site-packages/pypfopt/risk_models.py:68: UserWarning: The covariance matrix is non positive semidefinite. Amending eigenvalues.\n",
      "  warnings.warn(\n"
     ]
    },
    {
     "name": "stdout",
     "output_type": "stream",
     "text": [
      "Expected annual return: 446.8%\n",
      "Annual volatility: 68.7%\n",
      "Sharpe Ratio: 6.48\n",
      "Invest 100.0\n",
      "\n",
      " Profit Loss: -20.108707979570145e\n",
      "\n",
      "Expected annual return: 427.2%\n",
      "Annual volatility: 61.4%\n",
      "Sharpe Ratio: 6.93\n",
      "Invest 100.0\n",
      "\n",
      " Profit Loss: -24.749389506863267e\n",
      "\n"
     ]
    },
    {
     "name": "stderr",
     "output_type": "stream",
     "text": [
      "/Users/dimitrisglenis/anaconda3/lib/python3.8/site-packages/pypfopt/risk_models.py:68: UserWarning: The covariance matrix is non positive semidefinite. Amending eigenvalues.\n",
      "  warnings.warn(\n"
     ]
    },
    {
     "name": "stdout",
     "output_type": "stream",
     "text": [
      "Expected annual return: 393.7%\n",
      "Annual volatility: 54.7%\n",
      "Sharpe Ratio: 7.17\n",
      "Invest 100.0\n",
      "\n",
      " Profit Loss: -18.991020287706064e\n",
      "\n"
     ]
    },
    {
     "name": "stderr",
     "output_type": "stream",
     "text": [
      "/Users/dimitrisglenis/anaconda3/lib/python3.8/site-packages/pypfopt/risk_models.py:68: UserWarning: The covariance matrix is non positive semidefinite. Amending eigenvalues.\n",
      "  warnings.warn(\n"
     ]
    },
    {
     "name": "stdout",
     "output_type": "stream",
     "text": [
      "Expected annual return: 341.3%\n",
      "Annual volatility: 59.0%\n",
      "Sharpe Ratio: 5.75\n",
      "Invest 100.00000000000001\n",
      "\n",
      " Profit Loss: -0.9839186485570632e\n",
      "\n",
      "Expected annual return: 329.4%\n",
      "Annual volatility: 53.9%\n",
      "Sharpe Ratio: 6.07\n",
      "Invest 100.0\n",
      "\n",
      " Profit Loss: -0.3046705161927046e\n",
      "\n"
     ]
    }
   ],
   "source": [
    "n_coins = 100\n",
    "obj_function = 'sharpe'\n",
    "\n",
    "print(f'\\n===== {n_coins} COINS ======\\n')\n",
    "\n",
    "p_l_100, results_100, portf_100 = calculate_profit(df_mc, top_100, n_coins, mu_method, cov_method,\n",
    "                                                obj_function, budget, n_days_vector, drop, hodl, save_dir)"
   ]
  },
  {
   "cell_type": "markdown",
   "metadata": {},
   "source": [
    "## Results"
   ]
  },
  {
   "cell_type": "code",
   "execution_count": 9,
   "metadata": {},
   "outputs": [
    {
     "name": "stdout",
     "output_type": "stream",
     "text": [
      "Profit 1c: 40.56 $\n",
      "Profit 10c: -117.58 $\n",
      "Profit 20c: -117.58 $\n",
      "Profit 100c: -147.5 $\n",
      "\n",
      "Investment: 2800 $\n",
      "Final Profit: -342.1 $\n",
      "Final Profit: -12.22 %\n",
      "\n",
      "Time elapsed: 0.39889322916666664\n"
     ]
    }
   ],
   "source": [
    "print(f'Profit 1c: {round(p_l_2, 2)} $')\n",
    "print(f'Profit 10c: {round(p_l_10, 2)} $')\n",
    "print(f'Profit 20c: {round(p_l_20, 2)} $')\n",
    "print(f'Profit 100c: {round(p_l_100, 2)} $')\n",
    "\n",
    "print(f'\\nInvestment: {4 * budget * len(n_days_vector)} $')\n",
    "print(f'Final Profit: {round(p_l_2 + p_l_10 + p_l_20 + p_l_100, 2)} $')\n",
    "print(f'Final Profit: {round((p_l_2 + p_l_10 + p_l_20 + p_l_100) / (4 * budget * len(n_days_vector)) * 100, 2)} %\\n')\n",
    "end = time()\n",
    "print(f'Time elapsed: {(end - start) / 60}')"
   ]
  },
  {
   "cell_type": "code",
   "execution_count": 10,
   "metadata": {},
   "outputs": [
    {
     "name": "stdout",
     "output_type": "stream",
     "text": [
      "ETH 0.3980762336924496\n"
     ]
    }
   ],
   "source": [
    "check_coins(portf_2)"
   ]
  },
  {
   "cell_type": "code",
   "execution_count": 11,
   "metadata": {},
   "outputs": [
    {
     "name": "stdout",
     "output_type": "stream",
     "text": [
      "BNB 2.3496444790878415\n",
      "MATIC 24.18701113862585\n"
     ]
    }
   ],
   "source": [
    "check_coins(portf_10)"
   ]
  },
  {
   "cell_type": "code",
   "execution_count": 12,
   "metadata": {},
   "outputs": [
    {
     "name": "stdout",
     "output_type": "stream",
     "text": [
      "BNB 2.3496444790878415\n",
      "MATIC 24.18701113862585\n"
     ]
    }
   ],
   "source": [
    "check_coins(portf_20)"
   ]
  },
  {
   "cell_type": "code",
   "execution_count": 13,
   "metadata": {},
   "outputs": [
    {
     "name": "stdout",
     "output_type": "stream",
     "text": [
      "AAVE 0.03041590238884105\n",
      "APT 3.492702564088421\n",
      "AXS 0.7963910187141671\n",
      "BNB 1.0009799436832487\n",
      "QNT 0.17382624312548556\n",
      "TWT 289.85795681318547\n"
     ]
    }
   ],
   "source": [
    "check_coins(portf_100)"
   ]
  }
 ],
 "metadata": {
  "kernelspec": {
   "display_name": "Python 3",
   "language": "python",
   "name": "python3"
  },
  "language_info": {
   "codemirror_mode": {
    "name": "ipython",
    "version": 3
   },
   "file_extension": ".py",
   "mimetype": "text/x-python",
   "name": "python",
   "nbconvert_exporter": "python",
   "pygments_lexer": "ipython3",
   "version": "3.8.5"
  }
 },
 "nbformat": 4,
 "nbformat_minor": 4
}
