{
 "cells": [
  {
   "cell_type": "markdown",
   "metadata": {},
   "source": [
    "# Introduction\n",
    "\n",
    "The provided notebook is a Python program for cryptocurrency data analysis and portfolio optimization. It uses historical price data and market cap data for selected cryptocurrencies to perform portfolio optimization using the Efficient Frontier approach. The script aims to calculate the profit/loss of the portfolio over different time periods and with varying numbers of coins.\n",
    "\n",
    "# Notebook\n",
    "## Import libs"
   ]
  },
  {
   "cell_type": "code",
   "execution_count": 1,
   "metadata": {},
   "outputs": [],
   "source": [
    "import sys\n",
    "sys.path.append(\"../\")\n",
    "\n",
    "import itertools\n",
    "from time import time\n",
    "\n",
    "import numpy as np\n",
    "import pandas as pd\n",
    "\n",
    "\n",
    "from src import cryptorama as cc"
   ]
  },
  {
   "cell_type": "markdown",
   "metadata": {},
   "source": [
    "## Functions"
   ]
  },
  {
   "cell_type": "code",
   "execution_count": 2,
   "metadata": {},
   "outputs": [],
   "source": [
    "def calculate_profit(df, _top_100, _n_coins, _mu_method, _cov_method, _obj_function, _budget, _n_days_vector, sell_day, _drop,\n",
    "                     _hodl, _save_dir):\n",
    "\n",
    "    crypto_class = cc.CryptoPortfolio(top_100, _budget, _n_coins, _hodl, _save_dir)\n",
    "    results = {}\n",
    "    portf = {}\n",
    "\n",
    "    for n_days in _n_days_vector[:-1]:\n",
    "        crypto_class.validate_from_past_specific_dates(_n_coins, float(n_days), sell_day, _mu_method, _cov_method, _obj_function, _drop)\n",
    "        date = df.iloc[n_days].name\n",
    "\n",
    "        results[date] = crypto_class.p_l_specific\n",
    "        portf[date] = crypto_class.portfolio_from_past_specific\n",
    "\n",
    "    p_l = sum(results.values())\n",
    "\n",
    "    return p_l, results, portf\n",
    "\n",
    "\n",
    "def check_coins(portfolio):\n",
    "    # Convert the dictionary to a list of DataFrames\n",
    "    dfs = [pd.DataFrame(portfolio[date]) for date in portfolio]\n",
    "\n",
    "    # Concatenate the list of DataFrames into a single DataFrame\n",
    "    result_df = pd.concat(dfs, keys=portfolio.keys())\n",
    "\n",
    "    def get_total_coins(data):\n",
    "        print(data[\"Coin\"].iloc[0], data[\"n_coins\"].sum())\n",
    "\n",
    "    result_df.groupby(\"Coin\").apply(get_total_coins)"
   ]
  },
  {
   "cell_type": "markdown",
   "metadata": {},
   "source": [
    "## Inputs"
   ]
  },
  {
   "cell_type": "code",
   "execution_count": 4,
   "metadata": {},
   "outputs": [],
   "source": [
    "start = time()\n",
    "\n",
    "top_100 = False\n",
    "drop = False\n",
    "hodl = True\n",
    "\n",
    "save_dir = './legacy_data'\n",
    "buy_year = 3\n",
    "sell_year = 1\n",
    "sell_day = int(365 * sell_year)\n",
    "n_days_vector = np.arange(int(365 * buy_year), int(365 * sell_year), -30)\n",
    "df_mc = pd.read_csv('./legacy_data/All_cryptos_market_cap.csv', index_col=0)\n"
   ]
  },
  {
   "cell_type": "markdown",
   "metadata": {},
   "source": [
    "## Optimization parameters"
   ]
  },
  {
   "cell_type": "code",
   "execution_count": 5,
   "metadata": {},
   "outputs": [],
   "source": [
    "possible_mu_methods = [\"mean\", \"exp\", \"capm\"]\n",
    "possible_cov_methods = [\"sample\", \"exp\"]\n",
    "possible_obj_functions = [\"quadratic\", \"sharpe\", \"min_volat\"]\n",
    "\n",
    "# Get all combinations of mu_method, cov_method, and obj_function\n",
    "all_combinations = list(itertools.product(possible_mu_methods, possible_cov_methods, possible_obj_functions))"
   ]
  },
  {
   "cell_type": "markdown",
   "metadata": {},
   "source": [
    "## Variables initialization"
   ]
  },
  {
   "cell_type": "code",
   "execution_count": 6,
   "metadata": {},
   "outputs": [],
   "source": [
    "# you place 100e each month per category for the past n years\n",
    "budget = 100\n",
    "\n",
    "maxpl2 = 0\n",
    "maxpl10 = 0\n",
    "maxpl20 = 0\n",
    "\n",
    "\n",
    "best_portf_2 = None\n",
    "best_portf_10 = None\n",
    "best_portf_20 = None\n",
    "\n",
    "best_res_2 = None\n",
    "best_res_10 = None \n",
    "best_res_20 = None  \n",
    "\n",
    "optimized_variables = dict()"
   ]
  },
  {
   "cell_type": "markdown",
   "metadata": {},
   "source": [
    "## Run Analysis"
   ]
  },
  {
   "cell_type": "code",
   "execution_count": 8,
   "metadata": {
    "scrolled": true
   },
   "outputs": [
    {
     "name": "stdout",
     "output_type": "stream",
     "text": [
      "\n",
      "===== 2 COINS ======\n",
      "\n"
     ]
    },
    {
     "ename": "TypeError",
     "evalue": "calculate_profit() missing 1 required positional argument: '_save_dir'",
     "output_type": "error",
     "traceback": [
      "\u001b[0;31m---------------------------------------------------------------------------\u001b[0m",
      "\u001b[0;31mTypeError\u001b[0m                                 Traceback (most recent call last)",
      "\u001b[0;32m<ipython-input-8-ca56aeec096b>\u001b[0m in \u001b[0;36m<module>\u001b[0;34m\u001b[0m\n\u001b[1;32m      7\u001b[0m \u001b[0;34m\u001b[0m\u001b[0m\n\u001b[1;32m      8\u001b[0m \u001b[0;31m#     try:\u001b[0m\u001b[0;34m\u001b[0m\u001b[0;34m\u001b[0m\u001b[0;34m\u001b[0m\u001b[0m\n\u001b[0;32m----> 9\u001b[0;31m     p_l_2, results_2, portf_2 = calculate_profit(df_mc, top_100, n_coins, mu_method, cov_method,\n\u001b[0m\u001b[1;32m     10\u001b[0m                                                     obj_function, budget, n_days_vector, drop, hodl, save_dir)\n\u001b[1;32m     11\u001b[0m \u001b[0;31m#     except Exception as e:\u001b[0m\u001b[0;34m\u001b[0m\u001b[0;34m\u001b[0m\u001b[0;34m\u001b[0m\u001b[0m\n",
      "\u001b[0;31mTypeError\u001b[0m: calculate_profit() missing 1 required positional argument: '_save_dir'"
     ]
    }
   ],
   "source": [
    "# Test the portfolio_optimization function with all combinations\n",
    "start = time()\n",
    "for mu_method, cov_method, obj_function in all_combinations:\n",
    "\n",
    "    n_coins = 2\n",
    "    print(f'\\n===== {n_coins} COINS ======\\n')\n",
    "    \n",
    "#     try:\n",
    "    p_l_2, results_2, portf_2 = calculate_profit(df_mc, top_100, n_coins, mu_method, cov_method,\n",
    "                                                    obj_function, budget, n_days_vector, drop, hodl, save_dir)\n",
    "#     except Exception as e:\n",
    "#         pass\n",
    "    if p_l_2 >= maxpl2:\n",
    "        maxpl2 = p_l_2\n",
    "        best_portf_2 = portf_2\n",
    "        best_res2 = results_2\n",
    "        \n",
    "        optimized_variables[\"2_coins\"] = {\n",
    "            \"mu\": mu_method,\n",
    "            \"s\": cov_method,\n",
    "            \"obj_function\": obj_function}\n",
    "        \n",
    "    n_coins = 10\n",
    "    print(f'\\n===== {n_coins} COINS ======\\n')\n",
    "    \n",
    "    try:\n",
    "        p_l_10, results_10, portf_10 = calculate_profit(df_mc, top_100, n_coins, mu_method, cov_method,\n",
    "                                                        obj_function, budget, n_days_vector, drop, hodl, save_dir)\n",
    "    except Exception as e:\n",
    "        pass\n",
    "    if p_l_10 >= maxpl10:\n",
    "        maxpl10 = p_l_10\n",
    "        best_portf_10 = portf_10\n",
    "        best_res10 = results_10\n",
    "        \n",
    "        optimized_variables[\"10_coins\"] = {\n",
    "            \"mu\": mu_method,\n",
    "            \"s\": cov_method,\n",
    "            \"obj_function\": obj_function}\n",
    "            \n",
    "    n_coins = 20\n",
    "\n",
    "    print(f'\\n===== {n_coins} COINS ======\\n')\n",
    "\n",
    "    try:\n",
    "        p_l_20, results_20, portf_20 = calculate_profit(df_mc, top_100, n_coins, mu_method, cov_method,\n",
    "                                                        obj_function, budget, n_days_vector, drop, hodl, save_dir)\n",
    "    except Exception as e:\n",
    "        pass\n",
    "    \n",
    "    if p_l_20 >= maxpl20:\n",
    "        maxpl20 = p_l_20\n",
    "        best_portf_20 = portf_20\n",
    "        best_res20 = results_20\n",
    "        \n",
    "        optimized_variables[\"20_coins\"] = {\n",
    "            \"mu\": mu_method,\n",
    "            \"s\": cov_method,\n",
    "            \"obj_function\": obj_function}\n",
    "        \n",
    "        \n",
    "\n",
    "end = time()\n",
    "print(f'Time elapsed: {(end - start) / 60}')"
   ]
  },
  {
   "cell_type": "code",
   "execution_count": null,
   "metadata": {},
   "outputs": [],
   "source": [
    "check_coins(best_portf_20)\n",
    "print(maxpl20)\n",
    "optimized_variables[\"20_coins\"]"
   ]
  },
  {
   "cell_type": "code",
   "execution_count": null,
   "metadata": {},
   "outputs": [],
   "source": [
    "check_coins(best_portf_2)\n",
    "print(maxpl2)\n",
    "optimized_variables[\"2_coins\"]"
   ]
  },
  {
   "cell_type": "code",
   "execution_count": null,
   "metadata": {},
   "outputs": [],
   "source": [
    "check_coins(best_portf_10)\n",
    "print(maxpl10)\n",
    "optimized_variables[\"10_coins\"]"
   ]
  },
  {
   "cell_type": "markdown",
   "metadata": {},
   "source": [
    "## Results"
   ]
  },
  {
   "cell_type": "code",
   "execution_count": null,
   "metadata": {},
   "outputs": [],
   "source": [
    "print(f'Profit 2c: {round(maxpl2, 2)} $')\n",
    "print(f'Profit 10c: {round(maxpl10, 2)} $')\n",
    "print(f'Profit 20c: {round(maxpl20, 2)} $')\n",
    "# print(f'Profit 100c: {round(maxpl100, 2)} $')\n",
    "\n",
    "print(f'\\nInvestment: {3 * budget * len(n_days_vector)} $')\n",
    "print(f'Final Profit: {round(maxpl2 + maxpl10 + maxpl20 , 2)} $') # + maxpl100\n",
    "print(f'Final Profit: {round((maxpl2 + maxpl10 + maxpl20 ) / (3 * budget * len(n_days_vector)) * 100, 2)} %\\n') # + maxpl100\n",
    "\n",
    "end = time()\n",
    "print(f'Time elapsed: {(end - start) / 60}')"
   ]
  },
  {
   "cell_type": "markdown",
   "metadata": {},
   "source": [
    "# Conclusion\n",
    "\n",
    "## 2 Coins"
   ]
  },
  {
   "cell_type": "code",
   "execution_count": null,
   "metadata": {},
   "outputs": [],
   "source": [
    "optimized_variables[\"2_coins\"]"
   ]
  },
  {
   "cell_type": "markdown",
   "metadata": {},
   "source": [
    "## 10 Coins"
   ]
  },
  {
   "cell_type": "code",
   "execution_count": null,
   "metadata": {},
   "outputs": [],
   "source": [
    "optimized_variables[\"10_coins\"]"
   ]
  },
  {
   "cell_type": "markdown",
   "metadata": {},
   "source": [
    "## 20 Coins"
   ]
  },
  {
   "cell_type": "code",
   "execution_count": null,
   "metadata": {},
   "outputs": [],
   "source": [
    "optimized_variables[\"20_coins\"]"
   ]
  },
  {
   "cell_type": "code",
   "execution_count": null,
   "metadata": {},
   "outputs": [],
   "source": []
  }
 ],
 "metadata": {
  "kernelspec": {
   "display_name": "Python 3",
   "language": "python",
   "name": "python3"
  },
  "language_info": {
   "codemirror_mode": {
    "name": "ipython",
    "version": 3
   },
   "file_extension": ".py",
   "mimetype": "text/x-python",
   "name": "python",
   "nbconvert_exporter": "python",
   "pygments_lexer": "ipython3",
   "version": "3.8.5"
  }
 },
 "nbformat": 4,
 "nbformat_minor": 4
}
